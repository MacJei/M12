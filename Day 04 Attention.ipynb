{
  "nbformat": 4,
  "nbformat_minor": 0,
  "metadata": {
    "colab": {
      "name": "Day 04 Attention.ipynb",
      "provenance": [],
      "authorship_tag": "ABX9TyNlkG6yighKetsSZXSPTPMA",
      "include_colab_link": true
    },
    "kernelspec": {
      "name": "python3",
      "display_name": "Python 3"
    }
  },
  "cells": [
    {
      "cell_type": "markdown",
      "metadata": {
        "id": "view-in-github",
        "colab_type": "text"
      },
      "source": [
        "<a href=\"https://colab.research.google.com/github/lagom-QB/M12/blob/master/Day_04_Attention.ipynb\" target=\"_parent\"><img src=\"https://colab.research.google.com/assets/colab-badge.svg\" alt=\"Open In Colab\"/></a>"
      ]
    },
    {
      "cell_type": "markdown",
      "metadata": {
        "id": "-_VG9fFcD6Rr",
        "colab_type": "text"
      },
      "source": [
        "#Implementing Attention in isolation from a large model\n"
      ]
    },
    {
      "cell_type": "markdown",
      "metadata": {
        "id": "lkfdQvOBECOH",
        "colab_type": "text"
      },
      "source": [
        "    In implementing Attention, more focus is placed on handling the vectors rather than the Attention model itself\n",
        "\n",
        "    Task\n",
        "        Attention Scoring\n",
        "        Attention Context Vector"
      ]
    },
    {
      "cell_type": "markdown",
      "metadata": {
        "id": "9NTLbauLauuC",
        "colab_type": "text"
      },
      "source": [
        "![alt Attention Scores](https://camo.githubusercontent.com/9b92bf3c21c653f79945000417c3a7392a679752/68747470733a2f2f6769746875622e636f6d2f6e6579636865762f686172626f75725f646c6961323032302f626c6f622f6d61737465722f64617930342f696d672f73636f72696e675f66756e6374696f6e732e706e673f7261773d31)"
      ]
    },
    {
      "cell_type": "markdown",
      "metadata": {
        "id": "aIa94JIzaRZg",
        "colab_type": "text"
      },
      "source": [
        "##Dot Attention Scores"
      ]
    },
    {
      "cell_type": "markdown",
      "metadata": {
        "id": "I822Tg9OExpn",
        "colab_type": "text"
      },
      "source": [
        "###Attention Scoring"
      ]
    },
    {
      "cell_type": "markdown",
      "metadata": {
        "id": "JsSjjJN_E0r8",
        "colab_type": "text"
      },
      "source": [
        "    Assume the input into the Scoring function is the output of the encoder or input to the decoder (decoder hidden state)"
      ]
    },
    {
      "cell_type": "code",
      "metadata": {
        "id": "taVPEskxD3zQ",
        "colab_type": "code",
        "colab": {
          "base_uri": "https://localhost:8080/",
          "height": 379
        },
        "outputId": "ff5590f0-bdd7-40b2-a07a-1af83b2778d3"
      },
      "source": [
        "# ------ Import some stuff\n",
        "\n",
        "%matplotlib inline\n",
        "import numpy as np\n",
        "import matplotlib.pyplot as plt\n",
        "import seaborn as sns\n",
        "\n",
        "# Imagine we have this as the decoder_hidden_state\n",
        "\n",
        "dec_hidden_state = [5,1,20] #[5,22,11]\n",
        "\n",
        "# Visualize the decoder's hidden state\n",
        "plt.figure(figsize = (2,5))\n",
        "sns.heatmap(np.transpose(np.matrix(dec_hidden_state)),\n",
        "            annot = True,\n",
        "            cmap = sns.light_palette('purple', as_cmap = True),\n",
        "            linewidths = 1)"
      ],
      "execution_count": 1,
      "outputs": [
        {
          "output_type": "stream",
          "text": [
            "/usr/local/lib/python3.6/dist-packages/statsmodels/tools/_testing.py:19: FutureWarning: pandas.util.testing is deprecated. Use the functions in the public API at pandas.testing instead.\n",
            "  import pandas.util.testing as tm\n"
          ],
          "name": "stderr"
        },
        {
          "output_type": "execute_result",
          "data": {
            "text/plain": [
              "<matplotlib.axes._subplots.AxesSubplot at 0x7f008592a9e8>"
            ]
          },
          "metadata": {
            "tags": []
          },
          "execution_count": 1
        },
        {
          "output_type": "display_data",
          "data": {
            "image/png": "[encoded data removed]",
            "text/plain": [
              "<Figure size 144x360 with 2 Axes>"
            ]
          },
          "metadata": {
            "tags": [],
            "needs_background": "light"
          }
        }
      ]
    },
    {
      "cell_type": "code",
      "metadata": {
        "id": "D8oiVI1bF6dz",
        "colab_type": "code",
        "colab": {
          "base_uri": "https://localhost:8080/",
          "height": 29
        },
        "outputId": "ddd8776c-3583-46bb-a911-2342969cf3a4"
      },
      "source": [
        "# Scoring attention -> dot product of both matrices / vectors\n",
        "\n",
        "def single_dot_attention_score(dec_hidden_state,\n",
        "                               enc_hidden_state):\n",
        "    return np.dot(dec_hidden_state, enc_hidden_state)\n",
        "\n",
        "enc_hidden_state = [3, 12, 44]\n",
        "single_dot_attention_score(dec_hidden_state, enc_hidden_state)"
      ],
      "execution_count": 2,
      "outputs": [
        {
          "output_type": "execute_result",
          "data": {
            "text/plain": [
              "907"
            ]
          },
          "metadata": {
            "tags": []
          },
          "execution_count": 2
        }
      ]
    },
    {
      "cell_type": "markdown",
      "metadata": {
        "id": "qxN4hsM5G8CW",
        "colab_type": "text"
      },
      "source": [
        "    single_dot_annotation score is for when we have a vector. \n",
        "    What do we do if we have a matrix?"
      ]
    },
    {
      "cell_type": "code",
      "metadata": {
        "id": "FVnn7_YQGm4a",
        "colab_type": "code",
        "colab": {
          "base_uri": "https://localhost:8080/",
          "height": 29
        },
        "outputId": "ea22bbfa-1a0e-4090-a8c4-1bc0f525240d"
      },
      "source": [
        "def dot_attention_score(dec_hidden_state, annotations):\n",
        "    return np.matmul(dec_hidden_state,enc_hidden_state)\n",
        "\n",
        "enc_hidden_state = np.transpose([[3,12,45], [59,2,5], [1,43,5], [4,3,45.3]])\n",
        "attention_weights_raw = dot_attention_score(dec_hidden_state, enc_hidden_state)\n",
        "attention_weights_raw"
      ],
      "execution_count": 3,
      "outputs": [
        {
          "output_type": "execute_result",
          "data": {
            "text/plain": [
              "array([927., 397., 148., 929.])"
            ]
          },
          "metadata": {
            "tags": []
          },
          "execution_count": 3
        }
      ]
    },
    {
      "cell_type": "markdown",
      "metadata": {
        "id": "BAJVG8dnIDeD",
        "colab_type": "text"
      },
      "source": [
        "After getting our scores, we apply softmax to get the probabilistic scores"
      ]
    },
    {
      "cell_type": "code",
      "metadata": {
        "id": "2kPgFwq3H7Bg",
        "colab_type": "code",
        "colab": {
          "base_uri": "https://localhost:8080/",
          "height": 40
        },
        "outputId": "ca704647-7d93-4065-f9b9-7a93fad36650"
      },
      "source": [
        "# --------------- Apply softmax\n",
        "\n",
        "def softmax(x):\n",
        "    x = np.array(x, dtype=np.float128)\n",
        "    e_x = np.exp(x)\n",
        "    return e_x / e_x.sum(axis = 0)\n",
        "\n",
        "attention_weights = softmax(attention_weights_raw)\n",
        "\n",
        "attention_weights"
      ],
      "execution_count": 4,
      "outputs": [
        {
          "output_type": "execute_result",
          "data": {
            "text/plain": [
              "array([1.19202922e-001, 7.94715151e-232, 5.76614420e-340, 8.80797078e-001],\n",
              "      dtype=float128)"
            ]
          },
          "metadata": {
            "tags": []
          },
          "execution_count": 4
        }
      ]
    },
    {
      "cell_type": "markdown",
      "metadata": {
        "id": "61L0WfhbJPdY",
        "colab_type": "text"
      },
      "source": [
        "Multiply the weights to their vectors"
      ]
    },
    {
      "cell_type": "code",
      "metadata": {
        "id": "YTY1CN-wI0QV",
        "colab_type": "code",
        "colab": {
          "base_uri": "https://localhost:8080/",
          "height": 87
        },
        "outputId": "38052837-e873-4e91-bc35-731e50dc71e5"
      },
      "source": [
        "def apply_attention_scores(attention_weights, annotations):\n",
        "    return attention_weights * annotations\n",
        "\n",
        "applied_attention = apply_attention_scores(attention_weights, enc_hidden_state)\n",
        "applied_attention"
      ],
      "execution_count": 16,
      "outputs": [
        {
          "output_type": "execute_result",
          "data": {
            "text/plain": [
              "array([[3.57608766e-001, 4.68881939e-230, 5.76614420e-340,\n",
              "        3.52318831e+000],\n",
              "       [1.43043506e+000, 1.58943030e-231, 2.47944200e-338,\n",
              "        2.64239123e+000],\n",
              "       [5.36413149e+000, 3.97357575e-231, 2.88307210e-339,\n",
              "        3.99001076e+001]], dtype=float128)"
            ]
          },
          "metadata": {
            "tags": []
          },
          "execution_count": 16
        }
      ]
    },
    {
      "cell_type": "code",
      "metadata": {
        "id": "6YJFKCr8W_FF",
        "colab_type": "code",
        "colab": {
          "base_uri": "https://localhost:8080/",
          "height": 265
        },
        "outputId": "d7ea1c9b-774b-4499-c744-525c52a12300"
      },
      "source": [
        "# Look at it\n",
        "ax = sns.heatmap(applied_attention, \n",
        "                 annot=True, \n",
        "                 cmap=sns.light_palette(\"orange\", \n",
        "                                        as_cmap=True), \n",
        "                 linewidths=1)"
      ],
      "execution_count": 15,
      "outputs": [
        {
          "output_type": "display_data",
          "data": {
            "image/png": "[encoded data removed]",
            "text/plain": [
              "<Figure size 432x288 with 2 Axes>"
            ]
          },
          "metadata": {
            "tags": [],
            "needs_background": "light"
          }
        }
      ]
    },
    {
      "cell_type": "markdown",
      "metadata": {
        "id": "vuEq9FMYYh8w",
        "colab_type": "text"
      },
      "source": [
        "###Attention context Vector"
      ]
    },
    {
      "cell_type": "markdown",
      "metadata": {
        "id": "XkteMT7jY6vt",
        "colab_type": "text"
      },
      "source": [
        "    Attention context vector is the sum of the columns to produce a single vector"
      ]
    },
    {
      "cell_type": "code",
      "metadata": {
        "id": "mQi9AiIQYTxr",
        "colab_type": "code",
        "colab": {}
      },
      "source": [
        "def calculate_attention_context_vector(applied_attention):\n",
        "    return np.sum(applied_attention, \n",
        "                  axis = 1)\n",
        "    \n",
        "attention_context_vector = calculate_attention_context_vector(applied_attention)"
      ],
      "execution_count": 18,
      "outputs": []
    },
    {
      "cell_type": "code",
      "metadata": {
        "id": "BEwoHnPbY6CZ",
        "colab_type": "code",
        "colab": {
          "base_uri": "https://localhost:8080/",
          "height": 334
        },
        "outputId": "f4e490dd-a5d1-4ec4-fb41-4151eb17f18a"
      },
      "source": [
        "# Look at the attention context vector\n",
        "plt.figure(figsize=(2, 5))\n",
        "sns.heatmap(np.transpose(np.matrix(attention_context_vector)), \n",
        "            annot=True, \n",
        "            cmap=sns.light_palette(\"Red\", \n",
        "                                   as_cmap=True), \n",
        "            linewidths=1)"
      ],
      "execution_count": 20,
      "outputs": [
        {
          "output_type": "execute_result",
          "data": {
            "text/plain": [
              "<matplotlib.axes._subplots.AxesSubplot at 0x7f005a2ba160>"
            ]
          },
          "metadata": {
            "tags": []
          },
          "execution_count": 20
        },
        {
          "output_type": "display_data",
          "data": {
            "image/png": "[encoded data removed]",
            "text/plain": [
              "<Figure size 144x360 with 2 Axes>"
            ]
          },
          "metadata": {
            "tags": [],
            "needs_background": "light"
          }
        }
      ]
    },
    {
      "cell_type": "markdown",
      "metadata": {
        "id": "C2Mk0y1TZ3GH",
        "colab_type": "text"
      },
      "source": [
        "    We can concatenate the attention_context_vector with a hidden state (in this class we didn't have one) and pass through a hidden layer to produce the result of this decoding."
      ]
    },
    {
      "cell_type": "markdown",
      "metadata": {
        "id": "Fk7kCbo1agpg",
        "colab_type": "text"
      },
      "source": [
        "##General Attention Score"
      ]
    },
    {
      "cell_type": "code",
      "metadata": {
        "id": "OjMeNAEzam2H",
        "colab_type": "code",
        "colab": {
          "base_uri": "https://localhost:8080/",
          "height": 169
        },
        "outputId": "2ac3db36-288d-43eb-8c09-45c32042a9bc"
      },
      "source": [
        "dec_hidden_state = [5,1,2,4,16]\n",
        "Wa = np.random.randn(5, 3)/100. \n",
        "\n",
        "def general_attention_score(dec_hidden_state, Wa, enc_hidden_state):\n",
        "    return np.dot(np.transpose(dec_hidden_state),\n",
        "                  np.dot(Wa, \n",
        "                         enc_hidden_state))\n",
        "    \n",
        "attention_weights_raw = general_attention_score(dec_hidden_state, Wa, enc_hidden_state)\n",
        "# Do softmax\n",
        "attention_weights = softmax(attention_weights_raw)\n",
        "# Multiply weights by its vector\n",
        "applied_attention = apply_attention_scores(attention_weights, enc_hidden_state)\n",
        "# Get attention context vector\n",
        "attention_context_vector = calculate_attention_context_vector(applied_attention)\n",
        "# Look at the attention_context_vector\n",
        "plt.figure(figsize=(5, 2))\n",
        "sns.heatmap(np.matrix(attention_context_vector), \n",
        "            annot=True, \n",
        "            cmap=sns.light_palette(\"Blue\", as_cmap=True), \n",
        "            linewidths=1)"
      ],
      "execution_count": 23,
      "outputs": [
        {
          "output_type": "execute_result",
          "data": {
            "text/plain": [
              "<matplotlib.axes._subplots.AxesSubplot at 0x7f005a114860>"
            ]
          },
          "metadata": {
            "tags": []
          },
          "execution_count": 23
        },
        {
          "output_type": "display_data",
          "data": {
            "image/png": "[encoded data removed]",
            "text/plain": [
              "<Figure size 360x144 with 2 Axes>"
            ]
          },
          "metadata": {
            "tags": [],
            "needs_background": "light"
          }
        }
      ]
    },
    {
      "cell_type": "markdown",
      "metadata": {
        "id": "lOF3bw6udJjo",
        "colab_type": "text"
      },
      "source": [
        "##Concat Attention Score"
      ]
    },
    {
      "cell_type": "code",
      "metadata": {
        "id": "-aAckhMZdBRf",
        "colab_type": "code",
        "colab": {
          "base_uri": "https://localhost:8080/",
          "height": 169
        },
        "outputId": "1d2ee4f8-7b33-4a4c-a7be-caa848c2022c"
      },
      "source": [
        "Wd = np.random.randn(5, 6) \n",
        "We = np.random.randn(3, 6)\n",
        "\n",
        "Vec_a = np.random.randn(6)\n",
        "\n",
        "def concat_attention_score(dec_hidden_state, enc_hidden_state, Wd, We, Vec_a):\n",
        "    return np.tanh(np.array(dec_hidden_state).dot(Wd) + \n",
        "                   np.array(enc_hidden_state).T.dot(We)).dot(Vec_a)\n",
        "\n",
        "attention_weights_raw = concat_attention_score(dec_hidden_state, enc_hidden_state, Wd, We, Vec_a)\n",
        "# Do softmax\n",
        "attention_weights = softmax(attention_weights_raw)\n",
        "# Multiply weights by its vector\n",
        "applied_attention = apply_attention_scores(attention_weights, enc_hidden_state)\n",
        "# Get attention context vector\n",
        "attention_context_vector = calculate_attention_context_vector(applied_attention)\n",
        "# Look at the attention_context_vector\n",
        "plt.figure(figsize=(5, 2))\n",
        "sns.heatmap(np.matrix(attention_context_vector), \n",
        "            annot=True, \n",
        "            cmap=sns.light_palette(\"purple\", as_cmap=True), \n",
        "            linewidths=1)"
      ],
      "execution_count": 30,
      "outputs": [
        {
          "output_type": "execute_result",
          "data": {
            "text/plain": [
              "<matplotlib.axes._subplots.AxesSubplot at 0x7f005a0a0550>"
            ]
          },
          "metadata": {
            "tags": []
          },
          "execution_count": 30
        },
        {
          "output_type": "display_data",
          "data": {
            "image/png": "[encoded data removed]",
            "text/plain": [
              "<Figure size 360x144 with 2 Axes>"
            ]
          },
          "metadata": {
            "tags": [],
            "needs_background": "light"
          }
        }
      ]
    },
    {
      "cell_type": "code",
      "metadata": {
        "id": "Ry3JL-ZhekPV",
        "colab_type": "code",
        "colab": {}
      },
      "source": [
        ""
      ],
      "execution_count": null,
      "outputs": []
    }
  ]
}
