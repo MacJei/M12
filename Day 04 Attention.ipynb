{
  "nbformat": 4,
  "nbformat_minor": 0,
  "metadata": {
    "colab": {
      "name": "Attention to Translation",
      "provenance": [],
      "authorship_tag": "ABX9TyPmpeWFcbToLDUimi65X/yF",
      "include_colab_link": true
    },
    "kernelspec": {
      "name": "python3",
      "display_name": "Python 3"
    }
  },
  "cells": [
    {
      "cell_type": "markdown",
      "metadata": {
        "id": "view-in-github",
        "colab_type": "text"
      },
      "source": [
        "<a href=\"https://colab.research.google.com/github/lagom-QB/M12/blob/master/Day%2004%20Attention.ipynb\" target=\"_parent\"><img src=\"https://colab.research.google.com/assets/colab-badge.svg\" alt=\"Open In Colab\"/></a>"
      ]
    },
    {
      "cell_type": "markdown",
      "metadata": {
        "id": "fpGoIezBgdEI",
        "colab_type": "text"
      },
      "source": [
        "#Name Generation (RNN)"
      ]
    },
    {
      "cell_type": "code",
      "metadata": {
        "id": "475YtgUygbyl",
        "colab_type": "code",
        "colab": {}
      },
      "source": [
        "# ---------- Import things\n",
        "\n",
        "import numpy as np\n",
        "import matplotlib.pyplot as plt\n",
        "%matplotlib inline\n",
        "import os\n",
        "\n",
        "from IPython.display import clear_output\n",
        "from random import sample"
      ],
      "execution_count": 2,
      "outputs": []
    },
    {
      "cell_type": "code",
      "metadata": {
        "id": "UZOd0MDsg0rB",
        "colab_type": "code",
        "colab": {}
      },
      "source": [
        "start_token = \" \"\n",
        "\n",
        "def read_names(path_to_file):\n",
        "    global start_token\n",
        "\n",
        "    with open(path_to_file) as f:\n",
        "        names = f.read()[:-1].split('\\n')\n",
        "        names = [start_token + line for line in names]\n",
        "        return names"
      ],
      "execution_count": 3,
      "outputs": []
    },
    {
      "cell_type": "code",
      "metadata": {
        "id": "fIUWVvGZiUtj",
        "colab_type": "code",
        "colab": {
          "base_uri": "https://localhost:8080/",
          "height": 165
        },
        "outputId": "a6583ec2-e0b9-48ca-80a0-c0b14ea81020"
      },
      "source": [
        "try:\n",
        "    names = read_names('../datasets/names_dataset/names')\n",
        "except FileNotFoundError:\n",
        "    !wget https://raw.githubusercontent.com/neychev/harbour_dlia2020/master/datasets/names_dataset/names -nc -O names\n",
        "    names = read_names('./names')"
      ],
      "execution_count": 4,
      "outputs": [
        {
          "output_type": "stream",
          "text": [
            "--2020-06-18 18:39:10--  https://raw.githubusercontent.com/neychev/harbour_dlia2020/master/datasets/names_dataset/names\n",
            "Resolving raw.githubusercontent.com (raw.githubusercontent.com)... 151.101.0.133, 151.101.64.133, 151.101.128.133, ...\n",
            "Connecting to raw.githubusercontent.com (raw.githubusercontent.com)|151.101.0.133|:443... connected.\n",
            "HTTP request sent, awaiting response... 200 OK\n",
            "Length: 55868 (55K) [text/plain]\n",
            "Saving to: ‘names’\n",
            "\n",
            "\rnames                 0%[                    ]       0  --.-KB/s               \rnames               100%[===================>]  54.56K  --.-KB/s    in 0.02s   \n",
            "\n",
            "2020-06-18 18:39:10 (3.52 MB/s) - ‘names’ saved [55868/55868]\n",
            "\n"
          ],
          "name": "stdout"
        }
      ]
    },
    {
      "cell_type": "code",
      "metadata": {
        "id": "rVZf9Ga-iZjm",
        "colab_type": "code",
        "colab": {
          "base_uri": "https://localhost:8080/",
          "height": 165
        },
        "outputId": "c7aa697d-d219-4a82-de7c-636c7c555f58"
      },
      "source": [
        "try:\n",
        "    names_ru = read_names('../datasets/names_dataset/names_ru')\n",
        "except FileNotFoundError:\n",
        "    !wget https://raw.githubusercontent.com/neychev/harbour_dlia2020/master/datasets/names_dataset/names_ru -nc -O names_ru\n",
        "    names_ru = read_names('./names_ru')"
      ],
      "execution_count": 5,
      "outputs": [
        {
          "output_type": "stream",
          "text": [
            "--2020-06-18 18:39:12--  https://raw.githubusercontent.com/neychev/harbour_dlia2020/master/datasets/names_dataset/names_ru\n",
            "Resolving raw.githubusercontent.com (raw.githubusercontent.com)... 151.101.0.133, 151.101.64.133, 151.101.128.133, ...\n",
            "Connecting to raw.githubusercontent.com (raw.githubusercontent.com)|151.101.0.133|:443... connected.\n",
            "HTTP request sent, awaiting response... 200 OK\n",
            "Length: 103242 (101K) [text/plain]\n",
            "Saving to: ‘names_ru’\n",
            "\n",
            "\rnames_ru              0%[                    ]       0  --.-KB/s               \rnames_ru            100%[===================>] 100.82K  --.-KB/s    in 0.02s   \n",
            "\n",
            "2020-06-18 18:39:12 (4.18 MB/s) - ‘names_ru’ saved [103242/103242]\n",
            "\n"
          ],
          "name": "stdout"
        }
      ]
    },
    {
      "cell_type": "code",
      "metadata": {
        "id": "f0Hy-LmyidzC",
        "colab_type": "code",
        "colab": {
          "base_uri": "https://localhost:8080/",
          "height": 122
        },
        "outputId": "04699814-683e-47fc-a8ea-c497bd246cf5"
      },
      "source": [
        "print ('n samples = ',len(names_ru))\n",
        "for idx in np.arange(0, len(names), 1000):\n",
        "    print(names[idx], names_ru[idx])"
      ],
      "execution_count": 6,
      "outputs": [
        {
          "output_type": "stream",
          "text": [
            "n samples =  7944\n",
            " Abagael  Абагаел\n",
            " Claresta  Слареста\n",
            " Glory  Глорй\n",
            " Liliane  Лилиане\n",
            " Prissie  Приссие\n",
            " Geeta  Геета\n",
            " Giovanne  Гиованне\n",
            " Piggy  Пиггй\n"
          ],
          "name": "stdout"
        }
      ]
    },
    {
      "cell_type": "code",
      "metadata": {
        "id": "MhqTnhBFii9Z",
        "colab_type": "code",
        "colab": {
          "base_uri": "https://localhost:8080/",
          "height": 304
        },
        "outputId": "147c5d47-2206-4c0d-a139-da6b553055d9"
      },
      "source": [
        "MAX_LENGTH = max(map(len, names))\n",
        "print(\"max length =\", MAX_LENGTH)\n",
        "\n",
        "plt.title('Sequence length distribution')\n",
        "plt.hist(list(map(len, names)),bins=22, label='en');\n",
        "\n",
        "plt.title('Sequence length distribution')\n",
        "plt.hist(list(map(len, names_ru)),bins=22, alpha=0.5, label='ru');\n",
        "plt.legend()"
      ],
      "execution_count": 7,
      "outputs": [
        {
          "output_type": "stream",
          "text": [
            "max length = 16\n"
          ],
          "name": "stdout"
        },
        {
          "output_type": "execute_result",
          "data": {
            "text/plain": [
              "<matplotlib.legend.Legend at 0x7f2e5ad2f9e8>"
            ]
          },
          "metadata": {
            "tags": []
          },
          "execution_count": 7
        },
        {
          "output_type": "display_data",
          "data": {
            "image/png": "[encoded data removed]",
            "text/plain": [
              "<Figure size 432x288 with 1 Axes>"
            ]
          },
          "metadata": {
            "tags": [],
            "needs_background": "light"
          }
        }
      ]
    },
    {
      "cell_type": "code",
      "metadata": {
        "id": "YBebFSFfio15",
        "colab_type": "code",
        "colab": {
          "base_uri": "https://localhost:8080/",
          "height": 29
        },
        "outputId": "b7404ae2-a0cd-44c9-bfb8-c54b37bfd776"
      },
      "source": [
        "all_tokens_set_en = set()\n",
        "for name in names:\n",
        "    all_tokens_set_en.update(set(name))\n",
        "\n",
        "\n",
        "tokens_en = list(all_tokens_set_en)# <list of all unique characters in the dataset>\n",
        "\n",
        "num_tokens_en = len(tokens_en)\n",
        "print ('num_tokens = ', num_tokens_en)\n",
        "\n",
        "assert 50 < num_tokens_en < 60, \"Names should contain within 50 and 60 unique tokens depending on encoding\""
      ],
      "execution_count": 8,
      "outputs": [
        {
          "output_type": "stream",
          "text": [
            "num_tokens =  55\n"
          ],
          "name": "stdout"
        }
      ]
    },
    {
      "cell_type": "code",
      "metadata": {
        "id": "u6_IkBBsi0eE",
        "colab_type": "code",
        "colab": {
          "base_uri": "https://localhost:8080/",
          "height": 29
        },
        "outputId": "aba262ca-cfc0-4faf-f224-4481a48416d3"
      },
      "source": [
        "all_tokens_set_ru = set()\n",
        "for name in names_ru:\n",
        "    all_tokens_set_ru.update(set(name))\n",
        "\n",
        "\n",
        "tokens_ru = list(all_tokens_set_ru)# <list of all unique characters in the dataset>\n",
        "\n",
        "num_tokens_ru = len(tokens_ru)\n",
        "print ('num_tokens = ', num_tokens_ru)\n",
        "\n",
        "assert 50 < num_tokens_ru < 60, \"Names should contain within 50 and 60 unique tokens depending on encoding\""
      ],
      "execution_count": 9,
      "outputs": [
        {
          "output_type": "stream",
          "text": [
            "num_tokens =  54\n"
          ],
          "name": "stdout"
        }
      ]
    },
    {
      "cell_type": "code",
      "metadata": {
        "id": "Prwc6k2ji3me",
        "colab_type": "code",
        "colab": {}
      },
      "source": [
        "token_to_id_en = {\n",
        "    token: idx for idx, token in enumerate(tokens_en)\n",
        "}\n",
        "\n",
        "token_to_id_ru = {\n",
        "    token: idx for idx, token in enumerate(tokens_ru)\n",
        "}"
      ],
      "execution_count": 10,
      "outputs": []
    },
    {
      "cell_type": "code",
      "metadata": {
        "id": "AxOZM_y_i6pU",
        "colab_type": "code",
        "colab": {
          "base_uri": "https://localhost:8080/",
          "height": 29
        },
        "outputId": "d8efc911-6bda-4a9e-fc2e-3cb6559bafe6"
      },
      "source": [
        "assert len(tokens_ru) == len(token_to_id_ru), \"dictionaries must have same size\"\n",
        "\n",
        "for i in range(num_tokens_ru):\n",
        "    assert token_to_id_ru[tokens_ru[i]] == i, \"token identifier must be it's position in tokens list\"\n",
        "\n",
        "for i in range(num_tokens_en):\n",
        "    assert token_to_id_en[tokens_en[i]] == i, \"token identifier must be it's position in tokens list\"\n",
        "\n",
        "print(\"Seems alright!\")"
      ],
      "execution_count": 11,
      "outputs": [
        {
          "output_type": "stream",
          "text": [
            "Seems alright!\n"
          ],
          "name": "stdout"
        }
      ]
    },
    {
      "cell_type": "code",
      "metadata": {
        "id": "djDcoVhfi-z4",
        "colab_type": "code",
        "colab": {}
      },
      "source": [
        "def to_matrix(names, token_to_id, max_len=None, pad=None, dtype='int32', batch_first=False):\n",
        "    \"\"\"Casts a list of names into rnn-digestable matrix\"\"\"\n",
        "    pad = token_to_id[' ']\n",
        "    max_len = max_len or max(map(len, names))\n",
        "    names_ix = np.zeros([len(names), max_len], dtype) + pad\n",
        "\n",
        "    for i in range(len(names)):\n",
        "        line_ix = [token_to_id[c] for c in names[i]]\n",
        "        names_ix[i, :len(line_ix)] = line_ix\n",
        "        \n",
        "    if not batch_first: # convert [batch, time] into [time, batch]\n",
        "        names_ix = np.transpose(names_ix)\n",
        "\n",
        "    return names_ix"
      ],
      "execution_count": 12,
      "outputs": []
    },
    {
      "cell_type": "code",
      "metadata": {
        "id": "Iu0YDkBhjDOZ",
        "colab_type": "code",
        "colab": {}
      },
      "source": [
        "import torch, torch.nn as nn\n",
        "import torch.nn.functional as F"
      ],
      "execution_count": 13,
      "outputs": []
    },
    {
      "cell_type": "code",
      "metadata": {
        "id": "NNY9-9k_jGa0",
        "colab_type": "code",
        "colab": {}
      },
      "source": [
        "class MyModel(nn.Module):\n",
        "    def __init__(self, num_tokens=num_tokens_en, emb_size=16, rnn_num_units=64):\n",
        "        super(self.__class__, self).__init__()\n",
        "        self.emb = nn.Embedding(num_tokens, emb_size)\n",
        "        self.rnn = nn.RNN(emb_size, rnn_num_units)\n",
        "        self.hid_to_logits = nn.Linear(rnn_num_units, num_tokens)\n",
        "        \n",
        "    def forward(self, x):\n",
        "        assert isinstance(x.data, torch.LongTensor)\n",
        "        h_seq, _ = self.rnn(self.emb(x))\n",
        "        next_logits = self.hid_to_logits(h_seq)\n",
        "        next_logp = F.log_softmax(next_logits, dim=-1)\n",
        "        return next_logp"
      ],
      "execution_count": 14,
      "outputs": []
    },
    {
      "cell_type": "code",
      "metadata": {
        "id": "avXqd4qsjKVZ",
        "colab_type": "code",
        "colab": {}
      },
      "source": [
        "model = MyModel()\n",
        "opt = torch.optim.Adam(model.parameters())\n",
        "criterion = nn.NLLLoss()\n",
        "history = []\n",
        "\n",
        "# the model applies over the whole sequence\n",
        "batch_ix = to_matrix(sample(names, 32), token_to_id_en, max_len=MAX_LENGTH)\n",
        "batch_ix = torch.LongTensor(batch_ix)"
      ],
      "execution_count": 15,
      "outputs": []
    },
    {
      "cell_type": "code",
      "metadata": {
        "id": "M7cYL66mjNkW",
        "colab_type": "code",
        "colab": {}
      },
      "source": [
        "logp_seq = model(batch_ix)\n",
        "\n",
        "loss = criterion(logp_seq[:, :-1].contiguous().view(-1, num_tokens_en),\n",
        "                 batch_ix[:, 1:].contiguous().view(-1))\n",
        "\n",
        "loss.backward()"
      ],
      "execution_count": 16,
      "outputs": []
    },
    {
      "cell_type": "code",
      "metadata": {
        "id": "wGZuDE3SjRRv",
        "colab_type": "code",
        "colab": {}
      },
      "source": [
        "from torch.utils.tensorboard import SummaryWriter\n",
        "\n",
        "# default `log_dir` is \"runs\" - we'll be more specific here\n",
        "writer = SummaryWriter()"
      ],
      "execution_count": 17,
      "outputs": []
    },
    {
      "cell_type": "code",
      "metadata": {
        "id": "8J6-7jyCjTxG",
        "colab_type": "code",
        "colab": {}
      },
      "source": [
        "writer.add_graph(model, batch_ix)"
      ],
      "execution_count": 18,
      "outputs": []
    },
    {
      "cell_type": "code",
      "metadata": {
        "id": "73u0dU0XjWAb",
        "colab_type": "code",
        "colab": {}
      },
      "source": [
        "MAX_LENGTH = 16\n",
        "\n",
        "for i in range(1000):\n",
        "    batch_ix = to_matrix(sample(names, 32), token_to_id_en, max_len=MAX_LENGTH)\n",
        "    batch_ix = torch.tensor(batch_ix, dtype=torch.int64)\n",
        "    \n",
        "    logp_seq = model(batch_ix)\n",
        "    \n",
        "    loss = criterion(logp_seq[:, :-1].contiguous().view(-1, num_tokens_en),\n",
        "                 batch_ix[:, 1:].contiguous().view(-1))\n",
        "\n",
        "    loss.backward()\n",
        "    \n",
        "    opt.step()\n",
        "    opt.zero_grad()\n",
        "    \n",
        "    history.append(loss.data.numpy())\n",
        "    if (i+1)%100==0:\n",
        "        writer.add_scalar('train loss', history[-1], i)\n",
        "\n",
        "assert np.mean(history[:10]) > np.mean(history[-10:]), \"RNN didn't converge.\""
      ],
      "execution_count": 19,
      "outputs": []
    },
    {
      "cell_type": "markdown",
      "metadata": {
        "id": "b8p3_qjdjzEc",
        "colab_type": "text"
      },
      "source": [
        "# Char-Level Machine Translation"
      ]
    },
    {
      "cell_type": "markdown",
      "metadata": {
        "id": "05hC7XPXuN7h",
        "colab_type": "text"
      },
      "source": [
        "    Task: Translate from English to Russian"
      ]
    },
    {
      "cell_type": "code",
      "metadata": {
        "id": "Rz_TNkeTjbmW",
        "colab_type": "code",
        "colab": {}
      },
      "source": [
        "class Encoder(nn.Module):\n",
        "    def __init__(self, \n",
        "                 num_tokens=num_tokens_en, \n",
        "                 emb_size=16, \n",
        "                 rnn_num_units=64):\n",
        "        super(self.__class__, self).__init__()\n",
        "        self.emb = nn.Embedding(num_tokens, emb_size)\n",
        "        self.rnn = nn.RNN(emb_size, rnn_num_units)\n",
        "        self.hid_to_logits = nn.Linear(rnn_num_units, num_tokens)\n",
        "        \n",
        "    def forward(self, x):\n",
        "        assert isinstance(x.data, torch.LongTensor)\n",
        "        h_seq, h_last = self.rnn(self.emb(x))\n",
        "        next_logits = self.hid_to_logits(h_seq)\n",
        "        next_logp = F.log_softmax(next_logits, dim=-1)\n",
        "        return next_logp, h_last"
      ],
      "execution_count": 20,
      "outputs": []
    },
    {
      "cell_type": "code",
      "metadata": {
        "id": "bisbjuSGudRZ",
        "colab_type": "code",
        "colab": {}
      },
      "source": [
        "class Decoder(nn.Module):\n",
        "    def __init__(self, \n",
        "                 num_tokens=num_tokens_ru, \n",
        "                 emb_size=16, \n",
        "                 rnn_num_units=64):\n",
        "        super(self.__class__, self).__init__()\n",
        "        self.emb = nn.Embedding(num_tokens, emb_size)\n",
        "        self.rnn = nn.RNN(emb_size, rnn_num_units)\n",
        "        self.hid_to_logits = nn.Linear(rnn_num_units, num_tokens)\n",
        "        \n",
        "    def forward(self, x, enc_last_state):\n",
        "        assert isinstance(x.data, torch.LongTensor)\n",
        "        h_seq, h_last = self.rnn(self.emb(x), enc_last_state)\n",
        "        next_logits = self.hid_to_logits(h_seq)\n",
        "        next_logp = F.log_softmax(next_logits, dim=-1)\n",
        "        return next_logp, h_last"
      ],
      "execution_count": 21,
      "outputs": []
    },
    {
      "cell_type": "code",
      "metadata": {
        "id": "ArBfqFTMulE-",
        "colab_type": "code",
        "colab": {}
      },
      "source": [
        "class Seq2Seq(nn.Module):\n",
        "    def __init__(self,\n",
        "                 num_tokens_en = num_tokens_en,\n",
        "                 emb_size = 16,\n",
        "                 rnn_num_units = 64):\n",
        "        super(self.__class__, self).__init__()\n",
        "        self.emb = nn.Embedding(num_tokens_en, emb_size)\n",
        "        self.rnn = nn.RNN(emb_size, rnn_num_units)\n",
        "        self.hid_to_logits = nn.Linear(rnn_num_units, num_tokens_en)\n",
        "    \n",
        "    def forward(self, src):\n",
        "        h_seq, _ = self.rnn(self.emb(src))\n",
        "        next_logit = self.hid_to_logits(h_seq)\n",
        "        logp_seq = F.log_softmax(next_logit, dim = -1) \n",
        "        \n",
        "        return logp_seq"
      ],
      "execution_count": 34,
      "outputs": []
    },
    {
      "cell_type": "code",
      "metadata": {
        "id": "wsNSsLCJwA8l",
        "colab_type": "code",
        "colab": {}
      },
      "source": [
        "model = Seq2Seq()\n",
        "opt = torch.optim.SGD(model.parameters(), lr = 0.002)\n",
        "loss_function = nn.NLLLoss()"
      ],
      "execution_count": 35,
      "outputs": []
    },
    {
      "cell_type": "code",
      "metadata": {
        "id": "pvG_ijg3wLsD",
        "colab_type": "code",
        "colab": {}
      },
      "source": [
        "indices = np.random.choice(np.arange(len(names)), size=32)\n",
        "batch_en = to_matrix(np.array(names)[indices], token_to_id=token_to_id_en, max_len=MAX_LENGTH)\n",
        "input_tensor = torch.from_numpy(batch_en).type(torch.int64)\n",
        "\n",
        "batch_ru = to_matrix(np.array(names_ru)[indices], token_to_id=token_to_id_ru, max_len=MAX_LENGTH)\n",
        "target_tensor = torch.from_numpy(batch_ru).type(torch.int64)"
      ],
      "execution_count": 36,
      "outputs": []
    },
    {
      "cell_type": "code",
      "metadata": {
        "id": "pTuong6BwXcd",
        "colab_type": "code",
        "colab": {}
      },
      "source": [
        "out = model(input_tensor)"
      ],
      "execution_count": 39,
      "outputs": []
    },
    {
      "cell_type": "code",
      "metadata": {
        "id": "B41RY1Pqwaul",
        "colab_type": "code",
        "colab": {}
      },
      "source": [
        "idx_to_token_en = {idx: token for token, idx in token_to_id_en.items()}\n",
        "idx_to_token_ru = {idx: token for token, idx in token_to_id_ru.items()}"
      ],
      "execution_count": 40,
      "outputs": []
    },
    {
      "cell_type": "code",
      "metadata": {
        "id": "huWeQPYMwfRC",
        "colab_type": "code",
        "colab": {}
      },
      "source": [
        "a = out.argmax(dim=-1)"
      ],
      "execution_count": 41,
      "outputs": []
    },
    {
      "cell_type": "code",
      "metadata": {
        "id": "vOwSr159whHn",
        "colab_type": "code",
        "colab": {}
      },
      "source": [
        "# ------------- Train model\n",
        "MAX_LENGTH = 16\n",
        "\n",
        "for i in range(1000):\n",
        "    batch_ix = to_matrix(sample(names, 32), token_to_id_en, max_len=MAX_LENGTH)\n",
        "    batch_ix = torch.tensor(batch_ix, dtype=torch.int64)\n",
        "    \n",
        "    logp_seq = model(batch_ix)\n",
        "    \n",
        "    loss = criterion(logp_seq[:, :-1].contiguous().view(-1, num_tokens_en),\n",
        "                 batch_ix[:, 1:].contiguous().view(-1))\n",
        "\n",
        "    loss.backward()\n",
        "    \n",
        "    opt.step()\n",
        "    opt.zero_grad()\n",
        "    \n",
        "    history.append(loss.data.numpy())\n",
        "    if (i+1)%100==0:\n",
        "        writer.add_scalar('train loss', history[-1], i)"
      ],
      "execution_count": 42,
      "outputs": []
    },
    {
      "cell_type": "code",
      "metadata": {
        "id": "4HlWInA0wn-0",
        "colab_type": "code",
        "colab": {}
      },
      "source": [
        "def get_example(idx):\n",
        "    translated = ''.join([idx_to_token_ru[x] for x in a[:, idx].detach().numpy()])\n",
        "    original = ''.join([idx_to_token_en[x] for x in input_tensor[:, idx].detach().numpy()])\n",
        "    print(original, translated)"
      ],
      "execution_count": 48,
      "outputs": []
    },
    {
      "cell_type": "code",
      "metadata": {
        "id": "qF3LRkpEw5yr",
        "colab_type": "code",
        "colab": {
          "base_uri": "https://localhost:8080/",
          "height": 29
        },
        "outputId": "6b9de20c-fa77-4d7c-b937-cbe7bf38fb03"
      },
      "source": [
        "get_example(12)"
      ],
      "execution_count": 50,
      "outputs": [
        {
          "output_type": "stream",
          "text": [
            " Darin            НфбНЗ          \n"
          ],
          "name": "stdout"
        }
      ]
    },
    {
      "cell_type": "code",
      "metadata": {
        "id": "HyznivF7w9Qe",
        "colab_type": "code",
        "colab": {}
      },
      "source": [
        ""
      ],
      "execution_count": null,
      "outputs": []
    }
  ]
}