{
  "nbformat": 4,
  "nbformat_minor": 0,
  "metadata": {
    "kernelspec": {
      "name": "python3",
      "display_name": "Python 3"
    },
    "colab": {
      "name": "Day 02  CNN--Salary_Prediction.ipynb",
      "provenance": [],
      "include_colab_link": true
    },
    "accelerator": "GPU"
  },
  "cells": [
    {
      "cell_type": "markdown",
      "metadata": {
        "id": "view-in-github",
        "colab_type": "text"
      },
      "source": [
        "<a href=\"https://colab.research.google.com/github/lagom-QB/M12/blob/master/Day_02_CNN_Salary_Prediction.ipynb\" target=\"_parent\"><img src=\"https://colab.research.google.com/assets/colab-badge.svg\" alt=\"Open In Colab\"/></a>"
      ]
    },
    {
      "cell_type": "code",
      "metadata": {
        "id": "-KmMYOAb_Zqs",
        "colab_type": "code",
        "colab": {}
      },
      "source": [
        "# https://www.youtube.com/watch?v=SbHx9Ps7B4g&list=RDCDWVeVZa-DA&index=27\n",
        "\n",
        "# ---- Just some noise"
      ],
      "execution_count": 1,
      "outputs": []
    },
    {
      "cell_type": "code",
      "metadata": {
        "id": "1myWh7Sa_Zq-",
        "colab_type": "code",
        "colab": {}
      },
      "source": [
        "import numpy as np\n",
        "import pandas as pd\n",
        "import matplotlib.pyplot as plt\n",
        "%matplotlib inline"
      ],
      "execution_count": 2,
      "outputs": []
    },
    {
      "cell_type": "code",
      "metadata": {
        "id": "c-je9pii_ZrO",
        "colab_type": "code",
        "colab": {
          "base_uri": "https://localhost:8080/",
          "height": 87
        },
        "outputId": "aef7ca51-a029-46df-eed5-0cd6cd2d4618"
      },
      "source": [
        "# --- Get the data\n",
        "\n",
        "!curl -L https://www.dropbox.com/s/5msc5ix7ndyba10/Train_rev1.csv.tar.gz?dl=1 -o Train_rev1.csv.tar.gz\n",
        "!tar -xvzf ./Train_rev1.csv.tar.gz"
      ],
      "execution_count": 3,
      "outputs": [
        {
          "output_type": "stream",
          "text": [
            "  % Total    % Received % Xferd  Average Speed   Time    Time     Time  Current\n",
            "                                 Dload  Upload   Total   Spent    Left  Speed\n",
            "\r  0     0    0     0    0     0      0      0 --:--:-- --:--:-- --:--:--     0\r  0     0    0     0    0     0      0      0 --:--:-- --:--:-- --:--:--     0\r  0     0    0     0    0     0      0      0 --:--:-- --:--:-- --:--:--     0\n",
            "  0     0    0     0    0     0      0      0 --:--:-- --:--:-- --:--:--     0\n",
            "100  119M  100  119M    0     0  33.1M      0  0:00:03  0:00:03 --:--:-- 47.8M\n",
            "Train_rev1.csv\n"
          ],
          "name": "stdout"
        }
      ]
    },
    {
      "cell_type": "code",
      "metadata": {
        "id": "ISxoy1rI_Zrd",
        "colab_type": "code",
        "colab": {
          "base_uri": "https://localhost:8080/",
          "height": 29
        },
        "outputId": "d94c7a54-611e-4a8f-ac5d-bf53516e659f"
      },
      "source": [
        "data = pd.read_csv(\"./Train_rev1.csv\", index_col=None)\n",
        "\n",
        "data.shape"
      ],
      "execution_count": 4,
      "outputs": [
        {
          "output_type": "execute_result",
          "data": {
            "text/plain": [
              "(244768, 12)"
            ]
          },
          "metadata": {
            "tags": []
          },
          "execution_count": 4
        }
      ]
    },
    {
      "cell_type": "code",
      "metadata": {
        "id": "chgpZWgP_Zrn",
        "colab_type": "code",
        "colab": {
          "base_uri": "https://localhost:8080/",
          "height": 64
        },
        "outputId": "0cc6595e-9dd5-4878-a7e6-1311d14e3ac6"
      },
      "source": [
        "data.columns"
      ],
      "execution_count": 5,
      "outputs": [
        {
          "output_type": "execute_result",
          "data": {
            "text/plain": [
              "Index(['Id', 'Title', 'FullDescription', 'LocationRaw', 'LocationNormalized',\n",
              "       'ContractType', 'ContractTime', 'Company', 'Category', 'SalaryRaw',\n",
              "       'SalaryNormalized', 'SourceName'],\n",
              "      dtype='object')"
            ]
          },
          "metadata": {
            "tags": []
          },
          "execution_count": 5
        }
      ]
    },
    {
      "cell_type": "markdown",
      "metadata": {
        "id": "qniDS4n6_Zr0",
        "colab_type": "text"
      },
      "source": [
        "                Task: Salary Prediction\n",
        "\n",
        "_Salary distribution is not uniform so we can't use mean squared loss_ \\\n",
        "    \n",
        "    To solve this, \n",
        "        1. We could normalize the data to be able to use the MSE \\\n",
        "        2. Use a different loss"
      ]
    },
    {
      "cell_type": "markdown",
      "metadata": {
        "id": "fFac_bGa_Zr2",
        "colab_type": "text"
      },
      "source": [
        "# 1. Normalize the data"
      ]
    },
    {
      "cell_type": "code",
      "metadata": {
        "id": "fwhLBtjl_Zr4",
        "colab_type": "code",
        "colab": {
          "base_uri": "https://localhost:8080/",
          "height": 386
        },
        "outputId": "a1181537-6971-4712-e98e-29dd09a47d7e"
      },
      "source": [
        "# Salary is our target\n",
        "data['Log1pSalary'] = np.log1p(data['SalaryNormalized']).astype('float32')\n",
        "\n",
        "plt.figure(figsize=[8,4])\n",
        "\n",
        "plt.subplot(1,2,1)\n",
        "plt.title('Salary Normalized')\n",
        "plt.hist(data['SalaryNormalized'], \n",
        "        bins = 22)\n",
        "\n",
        "plt.subplot(1,2,2)\n",
        "plt.title('Actually Normalized Salary')\n",
        "plt.hist(data['Log1pSalary'],\n",
        "        bins = 22)"
      ],
      "execution_count": 6,
      "outputs": [
        {
          "output_type": "execute_result",
          "data": {
            "text/plain": [
              "(array([  398.,   237.,   361.,   558.,  1035.,  9521., 14265., 19607.,\n",
              "        25126., 27534., 32996., 30095., 27265., 20446., 14604., 10847.,\n",
              "         5793.,  3784.,    96.,    97.,    62.,    41.]),\n",
              " array([ 8.517393 ,  8.6850605,  8.852728 ,  9.020395 ,  9.188063 ,\n",
              "         9.35573  ,  9.523398 ,  9.691066 ,  9.858733 , 10.026401 ,\n",
              "        10.194068 , 10.361735 , 10.529403 , 10.69707  , 10.8647375,\n",
              "        11.032405 , 11.200072 , 11.367741 , 11.535408 , 11.703075 ,\n",
              "        11.870743 , 12.03841  , 12.206078 ], dtype=float32),\n",
              " <a list of 22 Patch objects>)"
            ]
          },
          "metadata": {
            "tags": []
          },
          "execution_count": 6
        },
        {
          "output_type": "display_data",
          "data": {
            "image/png": "[encoded data removed]",
            "text/plain": [
              "<Figure size 576x288 with 2 Axes>"
            ]
          },
          "metadata": {
            "tags": [],
            "needs_background": "light"
          }
        }
      ]
    },
    {
      "cell_type": "code",
      "metadata": {
        "id": "WCptpFIV_ZsD",
        "colab_type": "code",
        "colab": {}
      },
      "source": [
        "text_columns = ['Title', 'FullDescription']\n",
        "categorical_columns = ['ContractType', 'ContractTime', 'Company', 'Category','LocationNormalized']\n",
        "\n",
        "target_column = 'Log1pSalary'"
      ],
      "execution_count": 7,
      "outputs": []
    },
    {
      "cell_type": "code",
      "metadata": {
        "id": "QH-CelY2_ZsK",
        "colab_type": "code",
        "colab": {
          "base_uri": "https://localhost:8080/",
          "height": 215
        },
        "outputId": "9393ce72-7097-4a06-ecda-31b2c9cbcccd"
      },
      "source": [
        "data[categorical_columns] = data[categorical_columns].fillna('NaN')\n",
        "data.head(3)"
      ],
      "execution_count": 8,
      "outputs": [
        {
          "output_type": "execute_result",
          "data": {
            "text/html": [
              "<div>\n",
              "<style scoped>\n",
              "    .dataframe tbody tr th:only-of-type {\n",
              "        vertical-align: middle;\n",
              "    }\n",
              "\n",
              "    .dataframe tbody tr th {\n",
              "        vertical-align: top;\n",
              "    }\n",
              "\n",
              "    .dataframe thead th {\n",
              "        text-align: right;\n",
              "    }\n",
              "</style>\n",
              "<table border=\"1\" class=\"dataframe\">\n",
              "  <thead>\n",
              "    <tr style=\"text-align: right;\">\n",
              "      <th></th>\n",
              "      <th>Id</th>\n",
              "      <th>Title</th>\n",
              "      <th>FullDescription</th>\n",
              "      <th>LocationRaw</th>\n",
              "      <th>LocationNormalized</th>\n",
              "      <th>ContractType</th>\n",
              "      <th>ContractTime</th>\n",
              "      <th>Company</th>\n",
              "      <th>Category</th>\n",
              "      <th>SalaryRaw</th>\n",
              "      <th>SalaryNormalized</th>\n",
              "      <th>SourceName</th>\n",
              "      <th>Log1pSalary</th>\n",
              "    </tr>\n",
              "  </thead>\n",
              "  <tbody>\n",
              "    <tr>\n",
              "      <th>0</th>\n",
              "      <td>12612628</td>\n",
              "      <td>Engineering Systems Analyst</td>\n",
              "      <td>Engineering Systems Analyst Dorking Surrey Sal...</td>\n",
              "      <td>Dorking, Surrey, Surrey</td>\n",
              "      <td>Dorking</td>\n",
              "      <td>NaN</td>\n",
              "      <td>permanent</td>\n",
              "      <td>Gregory Martin International</td>\n",
              "      <td>Engineering Jobs</td>\n",
              "      <td>20000 - 30000/annum 20-30K</td>\n",
              "      <td>25000</td>\n",
              "      <td>cv-library.co.uk</td>\n",
              "      <td>10.126671</td>\n",
              "    </tr>\n",
              "    <tr>\n",
              "      <th>1</th>\n",
              "      <td>12612830</td>\n",
              "      <td>Stress Engineer Glasgow</td>\n",
              "      <td>Stress Engineer Glasgow Salary **** to **** We...</td>\n",
              "      <td>Glasgow, Scotland, Scotland</td>\n",
              "      <td>Glasgow</td>\n",
              "      <td>NaN</td>\n",
              "      <td>permanent</td>\n",
              "      <td>Gregory Martin International</td>\n",
              "      <td>Engineering Jobs</td>\n",
              "      <td>25000 - 35000/annum 25-35K</td>\n",
              "      <td>30000</td>\n",
              "      <td>cv-library.co.uk</td>\n",
              "      <td>10.308986</td>\n",
              "    </tr>\n",
              "    <tr>\n",
              "      <th>2</th>\n",
              "      <td>12612844</td>\n",
              "      <td>Modelling and simulation analyst</td>\n",
              "      <td>Mathematical Modeller / Simulation Analyst / O...</td>\n",
              "      <td>Hampshire, South East, South East</td>\n",
              "      <td>Hampshire</td>\n",
              "      <td>NaN</td>\n",
              "      <td>permanent</td>\n",
              "      <td>Gregory Martin International</td>\n",
              "      <td>Engineering Jobs</td>\n",
              "      <td>20000 - 40000/annum 20-40K</td>\n",
              "      <td>30000</td>\n",
              "      <td>cv-library.co.uk</td>\n",
              "      <td>10.308986</td>\n",
              "    </tr>\n",
              "  </tbody>\n",
              "</table>\n",
              "</div>"
            ],
            "text/plain": [
              "         Id                             Title  ...        SourceName Log1pSalary\n",
              "0  12612628       Engineering Systems Analyst  ...  cv-library.co.uk   10.126671\n",
              "1  12612830           Stress Engineer Glasgow  ...  cv-library.co.uk   10.308986\n",
              "2  12612844  Modelling and simulation analyst  ...  cv-library.co.uk   10.308986\n",
              "\n",
              "[3 rows x 13 columns]"
            ]
          },
          "metadata": {
            "tags": []
          },
          "execution_count": 8
        }
      ]
    },
    {
      "cell_type": "markdown",
      "metadata": {
        "id": "9dBCt9Zp_ZsU",
        "colab_type": "text"
      },
      "source": [
        "## Preprocess text\n",
        "\n",
        "    Lowercase all text under Title and FullDescription and store in a space-separated string token"
      ]
    },
    {
      "cell_type": "code",
      "metadata": {
        "id": "kAjtgKT2_ZsW",
        "colab_type": "code",
        "colab": {}
      },
      "source": [
        "import nltk\n",
        "from nltk.tokenize import wordpunct_tokenize\n",
        "\n",
        "# nltk.download('punkt')\n",
        "\n",
        "def normalize(text):\n",
        "    tokens = wordpunct_tokenize(str(text).lower())\n",
        "    return ' '.join(tokens)\n",
        "\n",
        "data[text_columns] = data[text_columns].applymap(normalize) \n",
        "\n",
        "# nltk.tokenize.wordpunct_tokenize?"
      ],
      "execution_count": 9,
      "outputs": []
    },
    {
      "cell_type": "code",
      "metadata": {
        "id": "eKrNU9Qb_Zsf",
        "colab_type": "code",
        "colab": {
          "base_uri": "https://localhost:8080/",
          "height": 29
        },
        "outputId": "73886c14-7ab8-41dd-b447-09e5720cbd33"
      },
      "source": [
        "data['FullDescription'][2][:50]"
      ],
      "execution_count": 10,
      "outputs": [
        {
          "output_type": "execute_result",
          "data": {
            "text/plain": [
              "'mathematical modeller / simulation analyst / opera'"
            ]
          },
          "metadata": {
            "tags": []
          },
          "execution_count": 10
        }
      ]
    },
    {
      "cell_type": "markdown",
      "metadata": {
        "id": "pbDnN8il_Zso",
        "colab_type": "text"
      },
      "source": [
        "    Build a token-to-count dictionary"
      ]
    },
    {
      "cell_type": "code",
      "metadata": {
        "id": "JgJHcndo_Zsq",
        "colab_type": "code",
        "colab": {}
      },
      "source": [
        "from collections import Counter\n",
        "\n",
        "token_to_count = Counter()\n",
        "\n",
        "for row in data[text_columns].values.flatten():\n",
        "    token_to_count.update(row.split(' '))"
      ],
      "execution_count": 11,
      "outputs": []
    },
    {
      "cell_type": "code",
      "metadata": {
        "id": "GbUbvmbV_Zsz",
        "colab_type": "code",
        "colab": {
          "base_uri": "https://localhost:8080/",
          "height": 292
        },
        "outputId": "68081f0e-e601-4bc9-c75a-d126de2643ae"
      },
      "source": [
        "plt.hist(list(token_to_count.values()), \n",
        "         bins = 22, \n",
        "         log = True,\n",
        "         range = [1, 5000]\n",
        "        )\n",
        "plt.xlabel('word_count')"
      ],
      "execution_count": 12,
      "outputs": [
        {
          "output_type": "execute_result",
          "data": {
            "text/plain": [
              "Text(0.5, 0, 'word_count')"
            ]
          },
          "metadata": {
            "tags": []
          },
          "execution_count": 12
        },
        {
          "output_type": "display_data",
          "data": {
            "image/png": "[encoded data removed]",
            "text/plain": [
              "<Figure size 432x288 with 1 Axes>"
            ]
          },
          "metadata": {
            "tags": [],
            "needs_background": "light"
          }
        }
      ]
    },
    {
      "cell_type": "code",
      "metadata": {
        "id": "KXXIlV6p_Zs_",
        "colab_type": "code",
        "colab": {}
      },
      "source": [
        "tokens = [token for token, count in token_to_count.items() if count > 10]\n",
        "\n",
        "# sorted(tokens)"
      ],
      "execution_count": 13,
      "outputs": []
    },
    {
      "cell_type": "code",
      "metadata": {
        "id": "F5rsJzDk_ZtI",
        "colab_type": "code",
        "colab": {}
      },
      "source": [
        "# special token for unknow and empty words\n",
        "\n",
        "UNK, PAD = 'UNK', 'PAD'\n",
        "\n",
        "tokens = [UNK, PAD] + sorted(tokens)"
      ],
      "execution_count": 14,
      "outputs": []
    },
    {
      "cell_type": "markdown",
      "metadata": {
        "id": "zuFlX-GA_ZtS",
        "colab_type": "text"
      },
      "source": [
        "    Build token-to-index dictionary"
      ]
    },
    {
      "cell_type": "code",
      "metadata": {
        "id": "ASApJT07_ZtT",
        "colab_type": "code",
        "colab": {}
      },
      "source": [
        "token_to_index = {word:idx for idx,word in enumerate(tokens)}"
      ],
      "execution_count": 15,
      "outputs": []
    },
    {
      "cell_type": "markdown",
      "metadata": {
        "id": "T6RLiwtK_Zta",
        "colab_type": "text"
      },
      "source": [
        "    Convert vocabulary to matrices"
      ]
    },
    {
      "cell_type": "code",
      "metadata": {
        "id": "itA4KokM_Ztc",
        "colab_type": "code",
        "colab": {}
      },
      "source": [
        "UNK_IDX, PAD_IDX = map(token_to_index.get, [UNK, PAD])"
      ],
      "execution_count": 16,
      "outputs": []
    },
    {
      "cell_type": "code",
      "metadata": {
        "id": "rM_08g5V_Ztk",
        "colab_type": "code",
        "colab": {}
      },
      "source": [
        "def to_matrix(sequence, max_len = None):\n",
        "    if isinstance(sequence[0], str):\n",
        "        sequence = list(map(str.split, sequence))\n",
        "        \n",
        "    max_len = min(max(map(len, sequence)), max_len or float('inf'))\n",
        "    \n",
        "    matrix = np.full((len(sequence), max_len), np.int32(PAD_IDX))\n",
        "    \n",
        "    for i, seq in enumerate(sequence):\n",
        "        row_idx = [token_to_index.get(word, UNK_IDX) for word in seq[:max_len]]\n",
        "        matrix[i,:len(row_idx)] = row_idx\n",
        "        \n",
        "    return matrix"
      ],
      "execution_count": 17,
      "outputs": []
    },
    {
      "cell_type": "markdown",
      "metadata": {
        "id": "qPDj47qb_Ztp",
        "colab_type": "text"
      },
      "source": [
        "    Encode categorical data\n",
        "    \n",
        "    Options:\n",
        "        1.One-hot\n",
        "        2.BOW\n",
        "        3.TFIDF"
      ]
    },
    {
      "cell_type": "code",
      "metadata": {
        "id": "oT3fB_7-_Zts",
        "colab_type": "code",
        "colab": {
          "base_uri": "https://localhost:8080/",
          "height": 40
        },
        "outputId": "2daa1015-4ad8-4215-8b97-e0f0470ac359"
      },
      "source": [
        "from sklearn.feature_extraction import DictVectorizer\n",
        "\n",
        "top_companies, top_counts = zip(*Counter(data['Company']).most_common(500))\n",
        "recognized_companies = set(top_companies)\n",
        "data['Company'] = data['Company'].apply(lambda company: company if company in recognized_companies else 'Other')\n",
        "\n",
        "categorical_vectorizer = DictVectorizer(dtype = np.float32, sparse = False)\n",
        "categorical_vectorizer.fit(data[categorical_columns].apply(dict, axis = 1))\n",
        "\n",
        "# DictVectorizer?"
      ],
      "execution_count": 18,
      "outputs": [
        {
          "output_type": "execute_result",
          "data": {
            "text/plain": [
              "DictVectorizer(dtype=<class 'numpy.float32'>, separator='=', sort=True,\n",
              "               sparse=False)"
            ]
          },
          "metadata": {
            "tags": []
          },
          "execution_count": 18
        }
      ]
    },
    {
      "cell_type": "code",
      "metadata": {
        "id": "fJMgZpEK_Zty",
        "colab_type": "code",
        "colab": {}
      },
      "source": [
        "from sklearn.model_selection import train_test_split\n",
        "\n",
        "train, validation = train_test_split(data, test_size = .3 ,random_state = 22)\n",
        "\n",
        "train.index = range(len(train))\n",
        "validation.index = range(len(validation))"
      ],
      "execution_count": 19,
      "outputs": []
    },
    {
      "cell_type": "code",
      "metadata": {
        "id": "fUVl4PV0_Zt4",
        "colab_type": "code",
        "colab": {}
      },
      "source": [
        "def make_batch(data, max_len=None, word_dropout=0):\n",
        "    \"\"\"\n",
        "    Creates a keras-friendly dict from the batch data.\n",
        "    :param word_dropout: replaces token index with UNK_IX with this probability\n",
        "    :returns: a dict with {'title' : int64[batch, title_max_len]\n",
        "    \"\"\"\n",
        "    \n",
        "    batch = {}\n",
        "    batch[\"Title\"]           = to_matrix(data[\"Title\"].values, max_len)\n",
        "    batch[\"FullDescription\"] = to_matrix(data[\"FullDescription\"].values, max_len)\n",
        "    batch['Categorical']     = categorical_vectorizer.transform(data[categorical_columns].apply(dict, axis=1))\n",
        "    \n",
        "    if word_dropout != 0:\n",
        "        batch[\"FullDescription\"] = apply_word_dropout(batch[\"FullDescription\"], 1. - word_dropout)\n",
        "    \n",
        "    if target_column in data.columns:\n",
        "        batch[target_column] = data[target_column].values\n",
        "    \n",
        "    return batch\n",
        "\n",
        "def apply_word_dropout(matrix, keep_prop, replace_with=UNK_IDX, pad_ix=PAD_IDX,):\n",
        "    \n",
        "    dropout_mask = np.random.choice(2, np.shape(matrix), p=[keep_prop, 1 - keep_prop])\n",
        "    \n",
        "    dropout_mask &= matrix != pad_ix\n",
        "    \n",
        "    return np.choose(dropout_mask, [matrix, np.full_like(matrix, replace_with)])"
      ],
      "execution_count": 20,
      "outputs": []
    },
    {
      "cell_type": "code",
      "metadata": {
        "id": "B7Eh9YC1_Zt-",
        "colab_type": "code",
        "colab": {}
      },
      "source": [
        "batch_1 = make_batch(train[:3], max_len=22)"
      ],
      "execution_count": 21,
      "outputs": []
    },
    {
      "cell_type": "markdown",
      "metadata": {
        "id": "dtwCa-sq_ZuH",
        "colab_type": "text"
      },
      "source": [
        "    Notice that the main model here has 3 parts: \n",
        "        1.Title encoder\n",
        "        2.Description encoder\n",
        "        3.Categorical features encoder.\n",
        "    \n",
        "    We'll fit all these into a network to predict the salary"
      ]
    },
    {
      "cell_type": "code",
      "metadata": {
        "id": "Puo2ldq5_ZuI",
        "colab_type": "code",
        "colab": {}
      },
      "source": [
        "# Imports \n",
        "\n",
        "import torch\n",
        "from torch import nn\n",
        "import torch.nn.functional as F"
      ],
      "execution_count": 22,
      "outputs": []
    },
    {
      "cell_type": "code",
      "metadata": {
        "id": "dCYu3Q1d_ZuN",
        "colab_type": "code",
        "colab": {}
      },
      "source": [
        "class Flatten(nn.Module):\n",
        "    def forward(self, input):\n",
        "        return input.view(input.size(0), -1)\n",
        "\n",
        "class Reorder(nn.Module):\n",
        "    def forward(self, input):\n",
        "        return input.permute((0, 2, 1))"
      ],
      "execution_count": 23,
      "outputs": []
    },
    {
      "cell_type": "code",
      "metadata": {
        "id": "B9HMv9Bn_ZuU",
        "colab_type": "code",
        "colab": {}
      },
      "source": [
        "#  To generate mini-batches,\n",
        "\n",
        "def iterate_minibatches(data, batch_size=256, shuffle=True, cycle=False, **kwargs):\n",
        "    \"\"\" iterates minibatches of data in random order \"\"\"\n",
        "    while True:\n",
        "        indices = np.arange(len(data))\n",
        "        if shuffle:\n",
        "            indices = np.random.permutation(indices)\n",
        "\n",
        "        for start in range(0, len(indices), batch_size):\n",
        "            batch = make_batch(data.iloc[indices[start : start + batch_size]], **kwargs)\n",
        "            target = batch.pop(target_column)\n",
        "            yield batch, target\n",
        "        \n",
        "        if not cycle: break"
      ],
      "execution_count": 24,
      "outputs": []
    },
    {
      "cell_type": "code",
      "metadata": {
        "id": "cNVM1qat_ZuY",
        "colab_type": "code",
        "colab": {}
      },
      "source": [
        "iterator = iterate_minibatches(train, 3)\n",
        "batch, target = next(iterator)"
      ],
      "execution_count": 25,
      "outputs": []
    },
    {
      "cell_type": "code",
      "metadata": {
        "id": "5z63I79y_Zug",
        "colab_type": "code",
        "colab": {}
      },
      "source": [
        "n_tokens=len(tokens)\n",
        "n_cat_features=len(categorical_vectorizer.vocabulary_)\n",
        "hid_size=64\n",
        "n_max = 2\n",
        "simple_model = nn.Sequential()\n",
        "\n",
        "simple_model.add_module('emb', nn.Embedding(num_embeddings=n_tokens, embedding_dim=hid_size))\n",
        "simple_model.add_module('reorder', Reorder())\n",
        "\n",
        "simple_model.add_module('conv1', nn.Conv1d(hid_size, hid_size*2, kernel_size = 2))\n",
        "simple_model.add_module('relu' , nn.ReLU(True))\n",
        "\n",
        "simple_model.add_module('conv2', nn.Conv1d(hid_size*2, hid_size*2, kernel_size = 3))\n",
        "simple_model.add_module('relu2' , nn.ReLU(True))\n",
        "\n",
        "simple_model.add_module('conv3', nn.Conv1d(hid_size*2, hid_size*2, kernel_size = 3))\n",
        "simple_model.add_module('bn1' , nn.BatchNorm1d(hid_size*2))\n",
        "simple_model.add_module('adaptive_pool', nn.AdaptiveAvgPool1d(n_max))\n",
        "simple_model.add_module('flatten', nn.Flatten())\n",
        "simple_model.add_module('out', nn.Linear(hid_size*2*n_max, 1))"
      ],
      "execution_count": 26,
      "outputs": []
    },
    {
      "cell_type": "markdown",
      "metadata": {
        "id": "soO3xHWH_Zuk",
        "colab_type": "text"
      },
      "source": [
        "__It's a regression problem__\n",
        "\n",
        "Our prediction is a single number _Salary_"
      ]
    },
    {
      "cell_type": "code",
      "metadata": {
        "id": "hBNN3IKn_Zul",
        "colab_type": "code",
        "colab": {}
      },
      "source": [
        "device = torch.device('cuda:0') if torch.cuda.is_available() else torch.device('cpu')\n",
        "\n",
        "model = simple_model.to(device)"
      ],
      "execution_count": 27,
      "outputs": []
    },
    {
      "cell_type": "code",
      "metadata": {
        "id": "bMtq3OQy_Zus",
        "colab_type": "code",
        "colab": {
          "base_uri": "https://localhost:8080/",
          "height": 265
        },
        "outputId": "57e0f65d-dec6-45db-a9cc-f36e8c04fb94"
      },
      "source": [
        "from IPython.display import clear_output\n",
        "from random import sample\n",
        "\n",
        "epochs = 1\n",
        "\n",
        "opt = torch.optim.SGD(model.parameters(), lr = .002, momentum = .9)\n",
        "loss_func = nn.MSELoss()         \n",
        "\n",
        "history = []\n",
        "for epoch_num in range(epochs):\n",
        "    for idx, (batch, target) in enumerate(iterate_minibatches(train)):\n",
        "        # Preprocessing the batch data and target\n",
        "        batch = torch.tensor(batch['FullDescription'], dtype=torch.long).to(device)\n",
        "        target = torch.tensor(target).to(device)\n",
        "\n",
        "\n",
        "        predictions = model(batch)\n",
        "        predictions = predictions.view(predictions.size(0))\n",
        "\n",
        "        loss = loss_func(predictions, target)        \n",
        "\n",
        "        loss.backward()\n",
        "        opt.step()\n",
        "        opt.zero_grad()\n",
        "\n",
        "        history.append(loss.item())\n",
        "        if (idx+1)%10==0:\n",
        "            clear_output(True)\n",
        "            plt.plot(history,label='loss')\n",
        "            plt.legend()\n",
        "            plt.show()"
      ],
      "execution_count": 28,
      "outputs": [
        {
          "output_type": "display_data",
          "data": {
            "image/png": "[encoded data removed]",
            "text/plain": [
              "<Figure size 432x288 with 1 Axes>"
            ]
          },
          "metadata": {
            "tags": [],
            "needs_background": "light"
          }
        }
      ]
    },
    {
      "cell_type": "markdown",
      "metadata": {
        "id": "KVnZwTKb_Zuw",
        "colab_type": "text"
      },
      "source": [
        "        To evaluate the model, do model.eval()"
      ]
    },
    {
      "cell_type": "code",
      "metadata": {
        "id": "Z-B28v2u_Zux",
        "colab_type": "code",
        "colab": {
          "base_uri": "https://localhost:8080/",
          "height": 98
        },
        "outputId": "8c0de958-0527-4136-8b0d-281f3aacee50"
      },
      "source": [
        "%timeit\n",
        "from tqdm import tqdm, tqdm_notebook\n",
        " \n",
        "model.eval()\n",
        "    \n",
        "def print_metrics(model, data, batch_size, name=\"\", **kw):\n",
        "    squared_error = abs_error = num_samples = 0.0\n",
        "    for batch_x, batch_y in iterate_minibatches(data, batch_size=batch_size, shuffle=False, **kw):\n",
        "        batch = torch.tensor(batch_x['FullDescription'], dtype=torch.long).to(device)\n",
        "        batch_pred = simple_model(batch)[:, 0].detach().cpu().numpy()\n",
        "        squared_error += np.sum(np.square(batch_pred - batch_y))\n",
        "        abs_error += np.sum(np.abs(batch_pred - batch_y))\n",
        "        num_samples += len(batch_y)\n",
        "    print(\"%s results:\" % (name or \"\"))\n",
        "    print(\"Mean square error: %.5f\" % (squared_error / num_samples))\n",
        "    print(\"Mean absolute error: %.5f\" % (abs_error / num_samples))\n",
        "    return squared_error, abs_error\n",
        "   \n",
        "print_metrics(model, train, name='Train', batch_size = 222)\n",
        "print_metrics(model, validation, name='Val', batch_size = 222)"
      ],
      "execution_count": 29,
      "outputs": [
        {
          "output_type": "stream",
          "text": [
            "Train results:\n",
            "Mean square error: 0.24139\n",
            "Mean absolute error: 0.39412\n",
            "Val results:\n",
            "Mean square error: 0.24240\n",
            "Mean absolute error: 0.39452\n"
          ],
          "name": "stdout"
        },
        {
          "output_type": "execute_result",
          "data": {
            "text/plain": [
              "(17799.942710876465, 28970.24647140503)"
            ]
          },
          "metadata": {
            "tags": []
          },
          "execution_count": 29
        }
      ]
    },
    {
      "cell_type": "markdown",
      "metadata": {
        "id": "6f32Db5oC7ec",
        "colab_type": "text"
      },
      "source": [
        "Implement the three headed network (title|FullDescription|categorical)"
      ]
    },
    {
      "cell_type": "code",
      "metadata": {
        "id": "eSRsoeGK_Zu3",
        "colab_type": "code",
        "colab": {}
      },
      "source": [
        "class ThreeInputsNetwork(nn.Module):\n",
        "    def __init__(self,\n",
        "                 n_tokens = len(tokens),\n",
        "                 n_categorical_features = len(categorical_vectorizer.vocabulary_),\n",
        "                 hid_size = 64):\n",
        "        super(TwoInputsNet, self).__init__()\n",
        "        self.title_emb = nn.Embedding(n_tokens, \n",
        "                                      embedding_dim= hid_size)\n",
        "        self.full_emb = nn.Embedding(num_embeddings=n_tokens,\n",
        "                                     embedding_dim = hid_size)\n",
        "        self.category_out = nn.Embedding(num_embeddings=n_categorical_features,\n",
        "                                         embedding_dim = hid_size)\n",
        "        \n",
        "    def forward(self,\n",
        "                whole_input):\n",
        "        input1, input2, input3 = whole_input\n",
        "        title_beg = self.title_emb(input1).permute((0,2,1))\n",
        "        title = self.title_emb(input1).permute((0,2,1))\n",
        "\n",
        "        full_beg = self.full_emb(input2).permute((0, 2, 1))\n",
        "        full = self.full_emb(input2).permute((0, 2, 1))\n",
        "\n",
        "        category = self.category_out(input3).permute((0, 2, 1))\n",
        "\n",
        "        concatenated = torch.cat([title.view(title.size(0), -1),\n",
        "                                  full.view(full.size(0), -1),\n",
        "                                  category.view(category.size(0), -1)],\n",
        "                                 dim = 1)\n",
        "        \n",
        "        out = concatenated\n",
        "\n",
        "        return out"
      ],
      "execution_count": 30,
      "outputs": []
    },
    {
      "cell_type": "code",
      "metadata": {
        "id": "s1qfgQSqG3P4",
        "colab_type": "code",
        "colab": {}
      },
      "source": [
        ""
      ],
      "execution_count": null,
      "outputs": []
    }
  ]
}
