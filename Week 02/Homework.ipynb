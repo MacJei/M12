{
  "nbformat": 4,
  "nbformat_minor": 0,
  "metadata": {
    "anaconda-cloud": {},
    "colab": {
      "name": "Homework.ipynb",
      "provenance": [],
      "collapsed_sections": [],
      "machine_shape": "hm",
      "include_colab_link": true
    },
    "kernelspec": {
      "name": "python3",
      "display_name": "Python 3"
    },
    "accelerator": "GPU"
  },
  "cells": [
    {
      "cell_type": "markdown",
      "metadata": {
        "id": "view-in-github",
        "colab_type": "text"
      },
      "source": [
        "<a href=\"https://colab.research.google.com/github/lagom-QB/M12/blob/master/Homework.ipynb\" target=\"_parent\"><img src=\"https://colab.research.google.com/assets/colab-badge.svg\" alt=\"Open In Colab\"/></a>"
      ]
    },
    {
      "cell_type": "markdown",
      "metadata": {
        "id": "IG5qk33d0rli",
        "colab_type": "text"
      },
      "source": [
        "## Homework №2"
      ]
    },
    {
      "cell_type": "markdown",
      "metadata": {
        "id": "xg0j76yt0rll",
        "colab_type": "text"
      },
      "source": [
        "### Neural Machine Translation in the wild\n",
        "In the third homework you are supposed to get the best translation you can for the machine translation translation task.\n",
        "\n",
        "Please, select the language you prefer from the [OPUS webpage](http://opus.nlpl.eu/News-Commentary.php). You need the plain txt format which is availabe in the bottom of the page (last table, lower-left triangle (`Bottom-left triangle: download plain text files (MOSES/GIZA++)`)).\n",
        "\n",
        "\n",
        "Please, select the language pairs with English (so it might be `en-ar` or `en-ru` etc.)\n",
        "\n",
        "English will be the target language.\n",
        "\n",
        "__Please, avoid the language pairs with small corpus (e.g. the en-ja). The link should be green if there is rather big dataset.__\n",
        "\n",
        "\n",
        "After you downloaded the file, unzip in the working directory (`unzip <FILE_NAME>` in the console. Use `! unzip <FILE NAME>` in Colab)."
      ]
    },
    {
      "cell_type": "markdown",
      "metadata": {
        "id": "XRNuvfsj0rl_",
        "colab_type": "text"
      },
      "source": [
        "Basic approach using RNNs as encoder and decoder is implemented for you. \n",
        "\n",
        "Your ultimate task is to use the techniques we've covered, e.g.\n",
        "\n",
        "* Optimization enhancements (e.g. learning rate decay)\n",
        "\n",
        "* CNN encoder (with or without positional encoding)\n",
        "\n",
        "* Pre-trained word embeddings for the source and target languages\n",
        "\n",
        "* attention/self-attention mechanism\n",
        "\n",
        "* pretraining the language model\n",
        "\n",
        "* [Byte Pair Encoding](https://github.com/rsennrich/subword-nmt)\n",
        "\n",
        "* or just fine-tunning BERT ;)\n",
        "\n",
        "to improve the translation quality. \n",
        "\n",
        "__Please use at least three different approaches/models and compare them (translation quality/complexity/training and evaluation time).__\n",
        "\n",
        "Write down some summary on your experiments and illustrate it with convergence plots/metrics and your thoughts. Just like you would approach a real problem."
      ]
    },
    {
      "cell_type": "code",
      "metadata": {
        "id": "LldzuE8o0rmB",
        "colab_type": "code",
        "colab": {
          "base_uri": "https://localhost:8080/",
          "height": 188
        },
        "outputId": "b4d50ee5-e794-45b3-a5ec-eddbd8aa15ac"
      },
      "source": [
        "# You might need to install the libraries below. Do it in the desired environment\n",
        "# if you are working locally.\n",
        "\n",
        "! pip  install subword-nmt\n",
        "! pip install nltk\n",
        "! pip install torchtext"
      ],
      "execution_count": null,
      "outputs": [
        {
          "output_type": "stream",
          "text": [
            "Requirement already satisfied: subword-nmt in /usr/local/lib/python3.6/dist-packages (0.3.7)\n",
            "Requirement already satisfied: nltk in /usr/local/lib/python3.6/dist-packages (3.2.5)\n",
            "Requirement already satisfied: six in /usr/local/lib/python3.6/dist-packages (from nltk) (1.12.0)\n",
            "Requirement already satisfied: torchtext in /usr/local/lib/python3.6/dist-packages (0.3.1)\n",
            "Requirement already satisfied: requests in /usr/local/lib/python3.6/dist-packages (from torchtext) (2.23.0)\n",
            "Requirement already satisfied: tqdm in /usr/local/lib/python3.6/dist-packages (from torchtext) (4.41.1)\n",
            "Requirement already satisfied: numpy in /usr/local/lib/python3.6/dist-packages (from torchtext) (1.18.5)\n",
            "Requirement already satisfied: torch in /usr/local/lib/python3.6/dist-packages (from torchtext) (1.5.1+cu101)\n",
            "Requirement already satisfied: certifi>=2017.4.17 in /usr/local/lib/python3.6/dist-packages (from requests->torchtext) (2020.4.5.2)\n",
            "Requirement already satisfied: chardet<4,>=3.0.2 in /usr/local/lib/python3.6/dist-packages (from requests->torchtext) (3.0.4)\n",
            "Requirement already satisfied: urllib3!=1.25.0,!=1.25.1,<1.26,>=1.21.1 in /usr/local/lib/python3.6/dist-packages (from requests->torchtext) (1.24.3)\n",
            "Requirement already satisfied: idna<3,>=2.5 in /usr/local/lib/python3.6/dist-packages (from requests->torchtext) (2.9)\n",
            "Requirement already satisfied: future in /usr/local/lib/python3.6/dist-packages (from torch->torchtext) (0.16.0)\n"
          ],
          "name": "stdout"
        }
      ]
    },
    {
      "cell_type": "code",
      "metadata": {
        "id": "QZwk6HiN0rmO",
        "colab_type": "code",
        "colab": {
          "base_uri": "https://localhost:8080/",
          "height": 87
        },
        "outputId": "b740cd04-816f-4cbf-8ad7-6fd7f6277d81"
      },
      "source": [
        "# Uncomment the following cell on Colab\n",
        "! wget https://raw.githubusercontent.com/neychev/harbour_dlia2020/master/homeworks/homework02/utils.py -nc\n",
        "! wget https://raw.githubusercontent.com/lagom-QB/M12/master/Week%2002/attention_network.py -nc\n",
        "! wget https://raw.githubusercontent.com/neychev/harbour_dlia2020/master/homeworks/homework02/my_network.py -nc"
      ],
      "execution_count": null,
      "outputs": [
        {
          "output_type": "stream",
          "text": [
            "File ‘utils.py’ already there; not retrieving.\n",
            "\n",
            "File ‘attention_network.py’ already there; not retrieving.\n",
            "\n",
            "File ‘my_network.py’ already there; not retrieving.\n",
            "\n"
          ],
          "name": "stdout"
        }
      ]
    },
    {
      "cell_type": "code",
      "metadata": {
        "id": "IYKrUjFt0rmp",
        "colab_type": "code",
        "colab": {}
      },
      "source": [
        "import os\n",
        "import torch\n",
        "import torch.nn as nn\n",
        "import torch.optim as optim\n",
        "\n",
        "import torchtext\n",
        "from torchtext.datasets import TranslationDataset, Multi30k\n",
        "from torchtext.data import Field, BucketIterator\n",
        "\n",
        "import spacy\n",
        "\n",
        "import random\n",
        "import math\n",
        "import time\n",
        "\n",
        "import matplotlib\n",
        "matplotlib.rcParams.update({'figure.figsize': (8, 6), 'font.size': 8})\n",
        "import matplotlib.pyplot as plt\n",
        "%matplotlib inline\n",
        "from IPython.display import clear_output\n",
        "\n",
        "from nltk.tokenize import WordPunctTokenizer\n",
        "\n",
        "from subword_nmt.learn_bpe import learn_bpe\n",
        "from subword_nmt.apply_bpe import BPE\n"
      ],
      "execution_count": null,
      "outputs": []
    },
    {
      "cell_type": "markdown",
      "metadata": {
        "id": "8QOX6Tui0rm3",
        "colab_type": "text"
      },
      "source": [
        "### Main part\n",
        "__Here comes the preprocessing. Do not hesitate to use BPE or more complex preprocessing ;)__"
      ]
    },
    {
      "cell_type": "markdown",
      "metadata": {
        "id": "VjPOMIui0rnD",
        "colab_type": "text"
      },
      "source": [
        "Change the filenames for your language pairs."
      ]
    },
    {
      "cell_type": "code",
      "metadata": {
        "id": "E8wbA2pTHBIt",
        "colab_type": "code",
        "colab": {
          "base_uri": "https://localhost:8080/",
          "height": 665
        },
        "outputId": "41afb5d9-8740-41cd-8d69-954478b1c902"
      },
      "source": [
        "# Here comes the download for the en-fr language pair\n",
        "\n",
        "! python -m spacy download en\n",
        "! python -m spacy download fr"
      ],
      "execution_count": null,
      "outputs": [
        {
          "output_type": "stream",
          "text": [
            "Requirement already satisfied: en_core_web_sm==2.2.5 from https://github.com/explosion/spacy-models/releases/download/en_core_web_sm-2.2.5/en_core_web_sm-2.2.5.tar.gz#egg=en_core_web_sm==2.2.5 in /usr/local/lib/python3.6/dist-packages (2.2.5)\n",
            "Requirement already satisfied: spacy>=2.2.2 in /usr/local/lib/python3.6/dist-packages (from en_core_web_sm==2.2.5) (2.2.4)\n",
            "Requirement already satisfied: catalogue<1.1.0,>=0.0.7 in /usr/local/lib/python3.6/dist-packages (from spacy>=2.2.2->en_core_web_sm==2.2.5) (1.0.0)\n",
            "Requirement already satisfied: murmurhash<1.1.0,>=0.28.0 in /usr/local/lib/python3.6/dist-packages (from spacy>=2.2.2->en_core_web_sm==2.2.5) (1.0.2)\n",
            "Requirement already satisfied: preshed<3.1.0,>=3.0.2 in /usr/local/lib/python3.6/dist-packages (from spacy>=2.2.2->en_core_web_sm==2.2.5) (3.0.2)\n",
            "Requirement already satisfied: requests<3.0.0,>=2.13.0 in /usr/local/lib/python3.6/dist-packages (from spacy>=2.2.2->en_core_web_sm==2.2.5) (2.23.0)\n",
            "Requirement already satisfied: setuptools in /usr/local/lib/python3.6/dist-packages (from spacy>=2.2.2->en_core_web_sm==2.2.5) (47.3.1)\n",
            "Requirement already satisfied: plac<1.2.0,>=0.9.6 in /usr/local/lib/python3.6/dist-packages (from spacy>=2.2.2->en_core_web_sm==2.2.5) (1.1.3)\n",
            "Requirement already satisfied: wasabi<1.1.0,>=0.4.0 in /usr/local/lib/python3.6/dist-packages (from spacy>=2.2.2->en_core_web_sm==2.2.5) (0.6.0)\n",
            "Requirement already satisfied: blis<0.5.0,>=0.4.0 in /usr/local/lib/python3.6/dist-packages (from spacy>=2.2.2->en_core_web_sm==2.2.5) (0.4.1)\n",
            "Requirement already satisfied: tqdm<5.0.0,>=4.38.0 in /usr/local/lib/python3.6/dist-packages (from spacy>=2.2.2->en_core_web_sm==2.2.5) (4.41.1)\n",
            "Requirement already satisfied: cymem<2.1.0,>=2.0.2 in /usr/local/lib/python3.6/dist-packages (from spacy>=2.2.2->en_core_web_sm==2.2.5) (2.0.3)\n",
            "Requirement already satisfied: srsly<1.1.0,>=1.0.2 in /usr/local/lib/python3.6/dist-packages (from spacy>=2.2.2->en_core_web_sm==2.2.5) (1.0.2)\n",
            "Requirement already satisfied: numpy>=1.15.0 in /usr/local/lib/python3.6/dist-packages (from spacy>=2.2.2->en_core_web_sm==2.2.5) (1.18.5)\n",
            "Requirement already satisfied: thinc==7.4.0 in /usr/local/lib/python3.6/dist-packages (from spacy>=2.2.2->en_core_web_sm==2.2.5) (7.4.0)\n",
            "Requirement already satisfied: importlib-metadata>=0.20; python_version < \"3.8\" in /usr/local/lib/python3.6/dist-packages (from catalogue<1.1.0,>=0.0.7->spacy>=2.2.2->en_core_web_sm==2.2.5) (1.6.1)\n",
            "Requirement already satisfied: certifi>=2017.4.17 in /usr/local/lib/python3.6/dist-packages (from requests<3.0.0,>=2.13.0->spacy>=2.2.2->en_core_web_sm==2.2.5) (2020.4.5.2)\n",
            "Requirement already satisfied: urllib3!=1.25.0,!=1.25.1,<1.26,>=1.21.1 in /usr/local/lib/python3.6/dist-packages (from requests<3.0.0,>=2.13.0->spacy>=2.2.2->en_core_web_sm==2.2.5) (1.24.3)\n",
            "Requirement already satisfied: chardet<4,>=3.0.2 in /usr/local/lib/python3.6/dist-packages (from requests<3.0.0,>=2.13.0->spacy>=2.2.2->en_core_web_sm==2.2.5) (3.0.4)\n",
            "Requirement already satisfied: idna<3,>=2.5 in /usr/local/lib/python3.6/dist-packages (from requests<3.0.0,>=2.13.0->spacy>=2.2.2->en_core_web_sm==2.2.5) (2.9)\n",
            "Requirement already satisfied: zipp>=0.5 in /usr/local/lib/python3.6/dist-packages (from importlib-metadata>=0.20; python_version < \"3.8\"->catalogue<1.1.0,>=0.0.7->spacy>=2.2.2->en_core_web_sm==2.2.5) (3.1.0)\n",
            "\u001b[38;5;2m✔ Download and installation successful\u001b[0m\n",
            "You can now load the model via spacy.load('en_core_web_sm')\n",
            "\u001b[38;5;2m✔ Linking successful\u001b[0m\n",
            "/usr/local/lib/python3.6/dist-packages/en_core_web_sm -->\n",
            "/usr/local/lib/python3.6/dist-packages/spacy/data/en\n",
            "You can now load the model via spacy.load('en')\n",
            "Requirement already satisfied: fr_core_news_sm==2.2.5 from https://github.com/explosion/spacy-models/releases/download/fr_core_news_sm-2.2.5/fr_core_news_sm-2.2.5.tar.gz#egg=fr_core_news_sm==2.2.5 in /usr/local/lib/python3.6/dist-packages (2.2.5)\n",
            "Requirement already satisfied: spacy>=2.2.2 in /usr/local/lib/python3.6/dist-packages (from fr_core_news_sm==2.2.5) (2.2.4)\n",
            "Requirement already satisfied: blis<0.5.0,>=0.4.0 in /usr/local/lib/python3.6/dist-packages (from spacy>=2.2.2->fr_core_news_sm==2.2.5) (0.4.1)\n",
            "Requirement already satisfied: numpy>=1.15.0 in /usr/local/lib/python3.6/dist-packages (from spacy>=2.2.2->fr_core_news_sm==2.2.5) (1.18.5)\n",
            "Requirement already satisfied: wasabi<1.1.0,>=0.4.0 in /usr/local/lib/python3.6/dist-packages (from spacy>=2.2.2->fr_core_news_sm==2.2.5) (0.6.0)\n",
            "Requirement already satisfied: murmurhash<1.1.0,>=0.28.0 in /usr/local/lib/python3.6/dist-packages (from spacy>=2.2.2->fr_core_news_sm==2.2.5) (1.0.2)\n",
            "Requirement already satisfied: thinc==7.4.0 in /usr/local/lib/python3.6/dist-packages (from spacy>=2.2.2->fr_core_news_sm==2.2.5) (7.4.0)\n",
            "Requirement already satisfied: cymem<2.1.0,>=2.0.2 in /usr/local/lib/python3.6/dist-packages (from spacy>=2.2.2->fr_core_news_sm==2.2.5) (2.0.3)\n",
            "Requirement already satisfied: catalogue<1.1.0,>=0.0.7 in /usr/local/lib/python3.6/dist-packages (from spacy>=2.2.2->fr_core_news_sm==2.2.5) (1.0.0)\n",
            "Requirement already satisfied: plac<1.2.0,>=0.9.6 in /usr/local/lib/python3.6/dist-packages (from spacy>=2.2.2->fr_core_news_sm==2.2.5) (1.1.3)\n",
            "Requirement already satisfied: requests<3.0.0,>=2.13.0 in /usr/local/lib/python3.6/dist-packages (from spacy>=2.2.2->fr_core_news_sm==2.2.5) (2.23.0)\n",
            "Requirement already satisfied: setuptools in /usr/local/lib/python3.6/dist-packages (from spacy>=2.2.2->fr_core_news_sm==2.2.5) (47.3.1)\n",
            "Requirement already satisfied: tqdm<5.0.0,>=4.38.0 in /usr/local/lib/python3.6/dist-packages (from spacy>=2.2.2->fr_core_news_sm==2.2.5) (4.41.1)\n",
            "Requirement already satisfied: preshed<3.1.0,>=3.0.2 in /usr/local/lib/python3.6/dist-packages (from spacy>=2.2.2->fr_core_news_sm==2.2.5) (3.0.2)\n",
            "Requirement already satisfied: srsly<1.1.0,>=1.0.2 in /usr/local/lib/python3.6/dist-packages (from spacy>=2.2.2->fr_core_news_sm==2.2.5) (1.0.2)\n",
            "Requirement already satisfied: importlib-metadata>=0.20; python_version < \"3.8\" in /usr/local/lib/python3.6/dist-packages (from catalogue<1.1.0,>=0.0.7->spacy>=2.2.2->fr_core_news_sm==2.2.5) (1.6.1)\n",
            "Requirement already satisfied: idna<3,>=2.5 in /usr/local/lib/python3.6/dist-packages (from requests<3.0.0,>=2.13.0->spacy>=2.2.2->fr_core_news_sm==2.2.5) (2.9)\n",
            "Requirement already satisfied: certifi>=2017.4.17 in /usr/local/lib/python3.6/dist-packages (from requests<3.0.0,>=2.13.0->spacy>=2.2.2->fr_core_news_sm==2.2.5) (2020.4.5.2)\n",
            "Requirement already satisfied: chardet<4,>=3.0.2 in /usr/local/lib/python3.6/dist-packages (from requests<3.0.0,>=2.13.0->spacy>=2.2.2->fr_core_news_sm==2.2.5) (3.0.4)\n",
            "Requirement already satisfied: urllib3!=1.25.0,!=1.25.1,<1.26,>=1.21.1 in /usr/local/lib/python3.6/dist-packages (from requests<3.0.0,>=2.13.0->spacy>=2.2.2->fr_core_news_sm==2.2.5) (1.24.3)\n",
            "Requirement already satisfied: zipp>=0.5 in /usr/local/lib/python3.6/dist-packages (from importlib-metadata>=0.20; python_version < \"3.8\"->catalogue<1.1.0,>=0.0.7->spacy>=2.2.2->fr_core_news_sm==2.2.5) (3.1.0)\n",
            "\u001b[38;5;2m✔ Download and installation successful\u001b[0m\n",
            "You can now load the model via spacy.load('fr_core_news_sm')\n",
            "\u001b[38;5;2m✔ Linking successful\u001b[0m\n",
            "/usr/local/lib/python3.6/dist-packages/fr_core_news_sm -->\n",
            "/usr/local/lib/python3.6/dist-packages/spacy/data/fr\n",
            "You can now load the model via spacy.load('fr')\n"
          ],
          "name": "stdout"
        }
      ]
    },
    {
      "cell_type": "markdown",
      "metadata": {
        "id": "uXO0vSsc0rnk",
        "colab_type": "text"
      },
      "source": [
        "The cell below combines the pairs into one dataset. `MAX_LENGTH` const can be adjusted, but avoid the phrases longer than 100 tokens."
      ]
    },
    {
      "cell_type": "code",
      "metadata": {
        "id": "050to78xpLZJ",
        "colab_type": "code",
        "colab": {}
      },
      "source": [
        "import numpy as np\n",
        "\n",
        "SEED = 1234\n",
        "\n",
        "random.seed(SEED)\n",
        "np.random.seed(SEED)\n",
        "torch.manual_seed(SEED)\n",
        "torch.cuda.manual_seed(SEED)\n",
        "torch.backends.cudnn.deterministic = True"
      ],
      "execution_count": null,
      "outputs": []
    },
    {
      "cell_type": "code",
      "metadata": {
        "id": "o5nT0k_4RNmc",
        "colab_type": "code",
        "colab": {}
      },
      "source": [
        "# Load the model\n",
        "\n",
        "spacy_fr = spacy.load('fr')\n",
        "spacy_en = spacy.load('en')"
      ],
      "execution_count": null,
      "outputs": []
    },
    {
      "cell_type": "code",
      "metadata": {
        "id": "hixMTtPYRRMi",
        "colab_type": "code",
        "colab": {}
      },
      "source": [
        "def tokenize_fr(text):\n",
        "    \"\"\"\n",
        "    Tokenizes French text from a string into a list of strings (tokens) and reverses it\n",
        "    \"\"\"\n",
        "    return [tok.text for tok in spacy_fr.tokenizer(text)][::-1]\n",
        "\n",
        "def tokenize_en(text):\n",
        "    \"\"\"\n",
        "    Tokenizes English text from a string into a list of strings (tokens)\n",
        "    \"\"\"\n",
        "    return [tok.text for tok in spacy_en.tokenizer(text)]"
      ],
      "execution_count": null,
      "outputs": []
    },
    {
      "cell_type": "code",
      "metadata": {
        "id": "rWoqxVmdgu6i",
        "colab_type": "code",
        "colab": {
          "base_uri": "https://localhost:8080/",
          "height": 29
        },
        "outputId": "6e78c679-6428-4707-8021-c5df8aa03fcd"
      },
      "source": [
        "ROOT = './'\n",
        "Multi30k.download(ROOT)"
      ],
      "execution_count": null,
      "outputs": [
        {
          "output_type": "execute_result",
          "data": {
            "text/plain": [
              "'./multi30k/'"
            ]
          },
          "metadata": {
            "tags": []
          },
          "execution_count": 8
        }
      ]
    },
    {
      "cell_type": "code",
      "metadata": {
        "id": "p6BjGG_h0rn4",
        "colab_type": "code",
        "colab": {}
      },
      "source": [
        "SRC = Field(tokenize = tokenize_fr, \n",
        "            init_token = '<sos>', \n",
        "            eos_token = '<eos>', \n",
        "            lower = True)\n",
        "\n",
        "TRG = Field(tokenize = tokenize_en, \n",
        "            init_token = '<sos>', \n",
        "            eos_token = '<eos>', \n",
        "            lower = True)"
      ],
      "execution_count": null,
      "outputs": []
    },
    {
      "cell_type": "code",
      "metadata": {
        "id": "idWvNPu90roF",
        "colab_type": "code",
        "colab": {}
      },
      "source": [
        "train_data, valid_data, test_data = Multi30k.splits(   \n",
        "                                                        path       = ROOT,  \n",
        "                                                        exts       = ['.fr', '.en'],   \n",
        "                                                        fields     = [('src', SRC), \n",
        "                                                                      ('trg',TRG)],\n",
        "                                                        test       = '/content/multi30k/test2016',\n",
        "                                                        train      =  '/content/multi30k/train',\n",
        "                                                        validation =  '/content/multi30k/val'\n",
        "                                                    )\n",
        "# Split the data"
      ],
      "execution_count": null,
      "outputs": []
    },
    {
      "cell_type": "code",
      "metadata": {
        "id": "PTPbAKLdtgGe",
        "colab_type": "code",
        "colab": {
          "base_uri": "https://localhost:8080/",
          "height": 261
        },
        "outputId": "147caac9-7513-4563-bb99-73d0fb0a4776"
      },
      "source": [
        "train_data.examples[0].src[::-1], train_data.examples[0].trg"
      ],
      "execution_count": null,
      "outputs": [
        {
          "output_type": "execute_result",
          "data": {
            "text/plain": [
              "(['deux',\n",
              "  'jeunes',\n",
              "  'hommes',\n",
              "  'blancs',\n",
              "  'sont',\n",
              "  'dehors',\n",
              "  'près',\n",
              "  'de',\n",
              "  'buissons',\n",
              "  '.'],\n",
              " ['two',\n",
              "  'young',\n",
              "  ',',\n",
              "  'white',\n",
              "  'males',\n",
              "  'are',\n",
              "  'outside',\n",
              "  'near',\n",
              "  'many',\n",
              "  'bushes',\n",
              "  '.'])"
            ]
          },
          "metadata": {
            "tags": []
          },
          "execution_count": 11
        }
      ]
    },
    {
      "cell_type": "code",
      "metadata": {
        "id": "4eLgwUSe0roN",
        "colab_type": "code",
        "colab": {
          "base_uri": "https://localhost:8080/",
          "height": 52
        },
        "outputId": "c6e230c6-cbab-48b5-a10c-2d7826fc2a2f"
      },
      "source": [
        "print(f\"Number of training examples: {len(train_data.examples)}\")\n",
        "print(f\"Number of validation examples: {len(valid_data.examples)}\")\n",
        "print(f\"Number of testing examples: {len(test_data.examples)}\")"
      ],
      "execution_count": null,
      "outputs": [
        {
          "output_type": "stream",
          "text": [
            "Number of training examples: 29000\n",
            "Number of validation examples: 1014\n",
            "Number of testing examples: 1000\n"
          ],
          "name": "stdout"
        }
      ]
    },
    {
      "cell_type": "markdown",
      "metadata": {
        "id": "E8GHMV9K0roT",
        "colab_type": "text"
      },
      "source": [
        "You can adjust the `MIN_FREQ` as well (stick to ~10k unique tokens in each language)."
      ]
    },
    {
      "cell_type": "code",
      "metadata": {
        "id": "YwNKY7Ei0roV",
        "colab_type": "code",
        "colab": {}
      },
      "source": [
        "MIN_FREQ_SRC = 2\n",
        "MIN_FREQ_TRG = 2"
      ],
      "execution_count": null,
      "outputs": []
    },
    {
      "cell_type": "code",
      "metadata": {
        "id": "DDmJ90qo0rob",
        "colab_type": "code",
        "colab": {}
      },
      "source": [
        "SRC.build_vocab(train_data, \n",
        "                min_freq = MIN_FREQ_SRC)\n",
        "TRG.build_vocab(train_data, \n",
        "                min_freq = MIN_FREQ_TRG)\n",
        "\n",
        "# Create vocabulary associated with each language"
      ],
      "execution_count": null,
      "outputs": []
    },
    {
      "cell_type": "code",
      "metadata": {
        "id": "Zbk6hH040roh",
        "colab_type": "code",
        "colab": {
          "base_uri": "https://localhost:8080/",
          "height": 40
        },
        "outputId": "3065665a-2ce2-4537-9fed-07db3c203759"
      },
      "source": [
        "print(f\"Unique tokens in source vocabulary: {len(SRC.vocab)}\")\n",
        "print(f\"Unique tokens in target (EN) vocabulary: {len(TRG.vocab)}\")"
      ],
      "execution_count": null,
      "outputs": [
        {
          "output_type": "stream",
          "text": [
            "Unique tokens in source vocabulary: 6462\n",
            "Unique tokens in target (EN) vocabulary: 5893\n"
          ],
          "name": "stdout"
        }
      ]
    },
    {
      "cell_type": "markdown",
      "metadata": {
        "id": "33SzpA_G0ron",
        "colab_type": "text"
      },
      "source": [
        "Here are tokens from original corpus:"
      ]
    },
    {
      "cell_type": "code",
      "metadata": {
        "id": "GSadFLcz6nta",
        "colab_type": "code",
        "colab": {
          "base_uri": "https://localhost:8080/",
          "height": 60
        },
        "outputId": "f3656ea0-5093-427d-9d3a-4c71003a0434"
      },
      "source": [
        "'Source corpus sample: %s'%[*SRC.vocab.itos[::10]] ,'Target(EN) corpus sample: %s' %[*TRG.vocab.itos[::10]]"
      ],
      "execution_count": null,
      "outputs": [
        {
          "output_type": "execute_result",
          "data": {
            "text/plain": [
              "('Source corpus sample: [\\'<unk>\\', \\'dans\\', \"l\\'\", \\'au\\', \\'chien\\', \\'pour\\', \\'qui\\', \\'près\\', \\'air\\', \\'marche\\', \\'regardent\\', \\'table\\', \\'filles\\', \\'chiens\\', \\'leurs\\', \\'sac\\', \\'terrain\\', \\'gris\\', \\'couple\\', \\'grande\\', \\'prend\\', \\'noirs\\', \\'âgé\\', \\'lit\\', \\'arbres\\', \\'travaille\\', \\'tenues\\', \\'camion\\', \\'livre\\', \\'bleus\\', \\'fenêtre\\', \\'lac\\', \\'bonnet\\', \\'zone\\', \\'chariot\\', \\'briques\\', \\'quai\\', \\'fontaine\\', \\'photos\\', \\'graffitis\\', \\'utilisant\\', \\'fruits\\', \\'attendant\\', \\'cour\\', \\'proximité\\', \\'posant\\', \\'montagnes\\', \\'sautent\\', \\'yeux\\', \\'concert\\', \\'coin\\', \\'comme\\', \\'noël\\', \\'sans\\', \\'cigarette\\', \\'ballons\\', \\'artiste\\', \\'rocheuse\\', \\'roulant\\', \\'martiaux\\', \\'parler\\', \\'masque\\', \\'longues\\', \\'lieu\\', \\'manches\\', \\'photographe\\', \\'discutent\\', \\'tour\\', \\'laisse\\', \\'boue\\', \\'boisson\\', \\'cravate\\', \\'joueuse\\', \\'coureur\\', \\'électrique\\', \\' \\', \\'paroi\\', \\'salon\\', \\'sandales\\', \\'ruelle\\', \\'peut\\', \\'chat\\', \\'accroupi\\', \\'sculpture\\', \\'cérémonie\\', \\'travailler\\', \\'jambe\\', \\'volleyball\\', \\'nettoie\\', \\'tout-petit\\', \\'colorées\\', \\'lumières\\', \\'voit\\', \\'gymnaste\\', \\'utilisent\\', \\'coupant\\', \\'jetée\\', \\'randonneurs\\', \\'couché\\', \\'queue\\', \\'york\\', \\'heureux\\', \\'tentent\\', \\'image\\', \\'prêt\\', \\'voir\\', \\'chevauche\\', \\'pois\\', \\'amusant\\', \\'flaque\\', \\'rayures\\', \\'attaché\\', \\'danseuse\\', \\'marié\\', \\'skis\\', \\'camionnette\\', \\'herbes\\', \\'sert\\', \\'buissons\\', \\'glaces\\', \\'rebord\\', \\';\\', \\'battant\\', \\'identiques\\', \\'poutre\\', \\'alpiniste\\', \\'danseuses\\', \\'kiosque\\', \\'publicitaire\\', \\'éclairé\\', \\'chanter\\', \\'entraînement\\', \\'montrent\\', \\'rock\\', \\'automatique\\', \\'envoie\\', \\'membre\\', \\'peindre\\', \\'télévision\\', \\'ajuste\\', \\'billard\\', \\'cricket\\', \\'hôpital\\', \\'maquillage\\', \\'poitrine\\', \\'vitre\\', \\'arme\\', \\'cerf\\', \\'envers\\', \\'micros\\', \\'plonge\\', \\'tiré\\', \\'allongées\\', \\'bougies\\', \\'clôturée\\', \\'entraînant\\', \\'marbre\\', \\'pigeons\\', \\'taxi\\', \\'écossaise\\', \\'appareils\\', \\'celui\\', \\'détendent\\', \\'geste\\', \\'laver\\', \\'pagaie\\', \\'ramassant\\', \\'valise\\', \\'attente\\', \\'chorale\\', \\'cuisinière\\', \\'frisés\\', \\'nuageux\\', \\'protéger\\', \\'service\\', \\'voler\\', \\'bains\\', \\'client\\', \\'documents\\', \\'intérieure\\', \\'morceaux\\', \\'performance\\', \\'rouler\\', \\'turban\\', \\'argile\\', \\'bordure\\', \\'cible\\', \\'document\\', \\'fourrure\\', \\'jumelles\\', \\'nageur\\', \\'patineurs\\', \\'ramasse\\', \\'surveille\\', \\'étreignent\\', \\'apprend\\', \\'chargement\\', \\'déplacent\\', \\'food\\', \\'imprimé\\', \\'mord\\', \\'pliante\\', \\'rafting\\', \\'sauté\\', \\'turquoise\\', \\'épicerie\\', \\'armes\\', \\'blessé\\', \\'chariots\\', \\'crée\\', \\'essaient\\', \\'genou\\', \\'lèche\\', \\'obscurité\\', \\'poche\\', \\'restauration\\', \\'tant\\', \\'vont\\', \\'admire\\', \\'balançant\\', \\'canal\\', \\'circulent\\', \\'douche\\', \\'europe\\', \\'halloween\\', \\'lancent\\', \\'médical\\', \\'peintre\\', \\'pourpre\\', \\'revêtement\\', \\'soda\\', \\'tombent\\', \\'écart\\', \\'agenouille\\', \\'bambou\\', \\'bracelet\\', \\'cerceaux\\', \\'clôturé\\', \\'creusent\\', \\'décolle\\', \\'essayent\\', \\'flânent\\', \\'goûter\\', \\'kayaks\\', \\'montagneux\\', \\'obscure\\', \\'patinent\\', \\'posées\\', \\'quitte\\', \\'répète\\', \\'située\\', \\'temple\\', \\'tuba\\', \\'établissement\\', \\'alcool\\', \\'arrose\\', \\'balais\\', \\'brunes\\', \\'cigare\\', \\'courbé\\', \\'dinosaure\\', \\'entourant\\', \\'flammes\\', \\'gravissent\\', \\'javelot\\', \\'maquette\\', \\'mobile\\', \\'observer\\', \\'pelleteuse\\', \\'pliantes\\', \\'pub\\', \\'renversé\\', \\'soulevant\\', \\'suivent\\', \\'toujours\\', \\'versant\\', \\'écrasant\\', \\'étudiante\\', \\'ancienne\\', \\'auvent\\', \\'biker\\', \\'campement\\', \\'citrouilles\\', \\'construite\\', \\'dragon\\', \\'encore\\', \\'examiner\\', \\'foulards\\', \\'historique\\', \\'ipod\\', \\'lutteurs\\', \\'minces\\', \\'mélangeant\\', \\'paisible\\', \\'pipe\\', \\'potier\\', \\'propos\\', \\'ramassent\\', \\'renifle\\', \\'répètent\\', \\'slip\\', \\'souple\\', \\'synchronisée\\', \\'tisse\\', \\'typique\\', \\'volants\\', \\'étalage\\', \\'admirent\\', \\'applaudissant\\', \\'artisan\\', \\'banderoles\\', \\'boucle\\', \\'campeurs\\', \\'cela\\', \\'clarinette\\', \\'corniche\\', \\'câlins\\', \\'disponibles\\', \\'décombres\\', \\'enfile\\', \\'fausses\\', \\'franchit\\', \\'guitaristes\\', \\'indiquant\\', \\'japon\\', \\'kitesurfeur\\', \\'lion\\', \\'marqueur\\', \\'monté\\', \\'nageuses\\', \\'of\\', \\'participer\\', \\'piles\\', \\'plutôt\\', \\'produire\\', \\'pétales\\', \\'reniflant\\', \\'rythme\\', \\'services\\', \\'snowboardeurs\\', \\'starbucks\\', \\'surélevé\\', \\'toque\\', \\'tricoté\\', \\'visite\\', \\'élève\\', \\'accélère\\', \\'album\\', \\'apparence\\', \\'ascenseur\\', \\'aérosol\\', \\'billet\\', \\'boutons\\', \\'béquilles\\', \\'carré\\', \\'charcuterie\\', \\'citrons\\', \\'commander\\', \\'contravention\\', \\'cravates\\', \\'cygne\\', \\'diable\\', \\'domicile\\', \\'décorative\\', \\'enclos\\', \\'enveloppée\\', \\'fast\\', \\'fixes\\', \\'gamins\\', \\'gravir\\', \\'hippodrome\\', \\'installé\\', \\'jazz\\', \\'lait\\', \\'lourd\\', \\'marcheurs\\', \\'menuisier\\', \\'morts\\', \\'natte\\', \\'officiel\\', \\'paintball\\', \\'peine\\', \\'perruques\\', \\'pirates\\', \\'poilu\\', \\'poêles\\', \\'publics\\', \\'rameurs\\', \\'renaissance\\', \\'saisissant\\', \\'scout\\', \\'situation\\', \\'spa\\', \\'synthétiseur\\', \\'tomate\\', \\'triangle\\', \\'troupeau\\', \\'ustensiles\\', \\'voient\\', \\'écolière\\', \\'étranges\\', \\'accorde\\', \\'ait\\', \\'amicale\\', \\'apprendre\\', \\'artisanale\\', \\'assure\\', \\'autocollants\\', \\'bacs\\', \\'ballots\\', \\'beagle\\', \\'bmw\\', \\'boutiques\\', \\'bunker\\', \\'cages\\', \\'caractères\\', \\'chanteurs\\', \\'chirurgical\\', \\'classiques\\', \\'communique\\', \\'coney\\', \\'cornemuses\\', \\'cowboys\\', \\'cueillant\\', \\'dentiste\\', \\'diplôme\\', \\'dojo\\', \\'découpés\\', \\'dépanneuse\\', \\'détendre\\', \\'empilés\\', \\'enterré\\', \\'espagnole\\', \\'expérimenté\\', \\'feuillage\\', \\'flous\\', \\'fouillant\\', \\'frénétiquement\\', \\'graines\\', \\'guerrier\\', \\'histoire\\', \\'importante\\', \\'inspiration\\', \\'joliment\\', \\'lancés\\', \\'lentille\\', \\'luttant\\', \\'manie\\', \\'mariachi\\', \\'menus\\', \\'mollet\\', \\'mouse\\', \\'médailles\\', \\'neigeux\\', \\'occupé\\', \\'ordinaire\\', \\'panda\\', \\'passion\\', \\'pavillon\\', \\'phare\\', \\'planeur\\', \\'poignées\\', \\'ponce\\', \\'poster\\', \\'profondément\\', \\'préféré\\', \\'pèse\\', \\'rebondit\\', \\'rentrant\\', \\'retrouve\\', \\'récipients\\', \\'sandale\\', \\'seins\\', \\'sinistre\\', \\'soudage\\', \\'store\\', \\'survêtements\\', \\'talkie\\', \\'tendues\\', \\'tournent\\', \\'trio\\', \\'témoin\\', \\'velu\\', \\'volante\\', \\'ébouriffés\\', \\'élégants\\', \\'étiquette\\', \\'2008\\', \\'abattu\\', \\'accomplir\\', \\'affalé\\', \\'agité\\', \\'ajustent\\', \\'allonge\\', \\'american\\', \\'apparaissent\\', \\'ardoise\\', \\'arrosoir\\', \\'aspire\\', \\'attablés\\', \\'attirantes\\', \\'aventureux\\', \\'baltimore\\', \\'batiment\\', \\'bidon\\', \\'blocks\\', \\'bordés\\', \\'bourse\\', \\'braque\\', \\'british\\', \\'brûle\\', \\'butte\\', \\'cadet\\', \\'canapés\\', \\'cascadeur\\', \\'chamallows\\', \\'chaussette\\', \\'chimie\\', \\'cibles\\', \\'clairs\\', \\'collecte\\', \\'communication\\', \\'concernant\\', \\'contemplent\\', \\'coréen\\', \\'courbée\\', \\'creux\\', \\'cuissardes\\', \\'dance\\', \\'descent\\', \\'dirigé\\', \\'dix\\', \\'dossiers\\', \\'dressées\\', \\'déblaie\\', \\'décore\\', \\'délabrées\\', \\'déployés\\', \\'détachés\\', \\'effrayé\\', \\'empare\\', \\'endommagée\\', \\'enregistre\\', \\'entraîneurs\\', \\'espadrilles\\', \\'excitation\\', \\'extraire\\', \\'familiale\\', \\'ferry\\', \\'finissent\\', \\'flot\\', \\'formant\\', \\'fraîches\\', \\'fument\\', \\'fêtards\\', \\'garniture\\', \\'golfeurs\\', \\'griffe\\', \\'gyro\\', \\'haut-parleurs\\', \\'hirsutes\\', \\'huile\\', \\'igloo\\', \\'impressionnante\\', \\'inondé\\', \\'interviennent\\', \\'irrité\\', \\'jerrican\\', \\'journalistes\\', \\'justice\\', \\'labourant\\', \\'latin\\', \\'limonade\\', \\'longtemps\\', \\'macbook\\', \\'manivelle\\', \\'marionnettes\\', \\'massage\\', \\'mauve\\', \\'michigan\\', \\'minijupe\\', \\'modèles\\', \\'montés\\', \\'mp3\\', \\'mustang\\', \\'ninja\\', \\'nécessaire\\', \\'oeil\\', \\'organisé\\', \\'pagayer\\', \\'parapente\\', \\'particulière\\', \\'patriotique\\', \\'pelotes\\', \\'perdant\\', \\'pingouins\\', \\'plaisanciers\\', \\'poignets\\', \\'portait\\', \\'poursuivent\\', \\'prière\\', \\'protestent\\', \\'présence\\', \\'pédalent\\', \\'quaterback\\', \\'ramassé\\', \\'rasée\\', \\'regardée\\', \\'remporter\\', \\'respiratoire\\', \\'retirées\\', \\'ribbon\\', \\'rouet\\', \\'réagissent\\', \\'réflexion\\', \\'résille\\', \\'sangles\\', \\'saxophonistes\\', \\'secouriste\\', \\'serpillière\\', \\'signant\\', \\'snorkeling\\', \\'sorti\\', \\'souterraine\\', \\'stationnées\\', \\'surchargé\\', \\'suspension\\', \\'sérieux\\', \\'tandem\\', \\'terres\\', \\'tirées\\', \\'tourisme\\', \\'trajet\\', \\'traîne\\', \\'tricots\\', \\'téléviseur\\', \\'vador\\', \\'veulent\\', \\'vins\\', \\'vois\\', \\'wall\\', \\'zigzaguer\\', \\'éclair\\', \\'égouts\\', \\'épaisseurs\\', \\'établi\\', \\'éventails\\']',\n",
              " 'Target(EN) corpus sample: [\\'<unk>\\', \\'is\\', \\'at\\', \\'men\\', \\'down\\', \\'women\\', \\'through\\', \\'small\\', \\'near\\', \\'pink\\', \\'stand\\', \\'four\\', \\'lady\\', \\'working\\', \\'holds\\', \\'sit\\', \\'\"\\', \\'dirt\\', \\'boat\\', \\'eating\\', \\'band\\', \\'haired\\', \\'microphone\\', \\'climbing\\', \\'window\\', \\'trees\\', \\'trying\\', \\'jump\\', \\'inside\\', \\'someone\\', \\'outfit\\', \\'open\\', \\'above\\', \\'dance\\', \\'like\\', \\'pole\\', \\'guys\\', \\'preparing\\', \\'does\\', \\'graffiti\\', \\'setting\\', \\'pushing\\', \\'public\\', \\'party\\', \\'woods\\', \\'seated\\', \\'beer\\', \\'buildings\\', \\'skateboarder\\', \\'spectators\\', \\'right\\', \\'snowboarder\\', \\'structure\\', \\'younger\\', \\'talks\\', \\'rocky\\', \\'rodeo\\', \\'gloves\\', \\'blanket\\', \\'bikini\\', \\'hot\\', \\'sliding\\', \\'gold\\', \\'mask\\', \\'tie\\', \\'surfing\\', \\'musicians\\', \\'stroller\\', \\'writing\\', \\'waving\\', \\'close\\', \\'way\\', \\'cafe\\', \\'made\\', \\'meat\\', \\'golf\\', \\'washing\\', \\'musical\\', \\'reaching\\', \\'relaxing\\', \\'foot\\', \\'balls\\', \\'prepare\\', \\'desert\\', \\'pond\\', \\'customers\\', \\'these\\', \\'hiker\\', \\'circle\\', \\'matching\\', \\'trampoline\\', \\'gymnast\\', \\'surface\\', \\'goes\\', \\'pushes\\', \\'button\\', \\'not\\', \\'driver\\', \\'overalls\\', \\'foreign\\', \\'porch\\', \\'steep\\', \\'blocks\\', \\'opposite\\', \\'shooting\\', \\'eye\\', \\'polo\\', \\'wheelchair\\', \\'fabric\\', \\'low\\', \\'student\\', \\'boats\\', \\'garbage\\', \\'nap\\', \\'stool\\', \\'backpacks\\', \\'hay\\', \\'serving\\', \\'!\\', \\'examining\\', \\'operating\\', \\'summer\\', \\'barbecue\\', \\'hallway\\', \\'opponent\\', \\'sharing\\', \\'action\\', \\'feeding\\', \\'machinery\\', \\'racetrack\\', \\'sporting\\', \\'boardwalk\\', \\'eastern\\', \\'lay\\', \\'read\\', \\'tattooed\\', \\'buy\\', \\'funny\\', \\'microphones\\', \\'shepherd\\', \\'balance\\', \\'conference\\', \\'first\\', \\'jockey\\', \\'reflective\\', \\'stack\\', \\'we\\', \\'batter\\', \\'crane\\', \\'float\\', \\'keep\\', \\'odd\\', \\'snack\\', \\'war\\', \\'carry\\', \\'engaged\\', \\'lamp\\', \\'newborn\\', \\'present\\', \\'shaved\\', \\'trailer\\', \\'angel\\', \\'casual\\', \\'gift\\', \\'lounge\\', \\'photographed\\', \\'shops\\', \\'teaching\\', \\'autumn\\', \\'chainsaw\\', \\'debris\\', \\'form\\', \\'lead\\', \\'paddle\\', \\'studying\\', \\'wheelbarrow\\', \\'beanie\\', \\'comes\\', \\'filling\\', \\'jet\\', \\'movie\\', \\'placing\\', \\'shadows\\', \\'suitcase\\', \\'visiting\\', \\'adjusting\\', \\'cans\\', \\'couples\\', \\'dj\\', \\'focused\\', \\'larger\\', \\'meet\\', \\'patch\\', \\'rally\\', \\'second\\', \\'supplies\\', \\'tricycle\\', \\'yarn\\', \\'belts\\', \\'care\\', \\'creating\\', \\'facility\\', \\'headdress\\', \\'leggings\\', \\'monitor\\', \\'portrait\\', \\'scaffold\\', \\'teens\\', \\'venue\\', \\'aprons\\', \\'booths\\', \\'cellphones\\', \\'cola\\', \\'diner\\', \\'farmers\\', \\'grabs\\', \\'images\\', \\'menu\\', \\'parasailing\\', \\'presenting\\', \\'riot\\', \\'soap\\', \\'tags\\', \\'treat\\', \\'wind\\', \\'babies\\', \\'bundle\\', \\'cigar\\', \\'crayons\\', \\'easel\\', \\'followed\\', \\'hammering\\', \\'industrial\\', \\'loaded\\', \\'murky\\', \\'peers\\', \\'purses\\', \\'skies\\', \\'sprays\\', \\'surgical\\', \\'travel\\', \\'washer\\', \\'activities\\', \\'barrels\\', \\'british\\', \\'characters\\', \\'contest\\', \\'designed\\', \\'drying\\', \\'facial\\', \\'fog\\', \\'husband\\', \\'lion\\', \\'measuring\\', \\'named\\', \\'pans\\', \\'pops\\', \\'railings\\', \\'scientist\\', \\'skyline\\', \\'stores\\', \\'temple\\', \\'trotting\\', \\'visor\\', \\'xylophone\\', \\'anvil\\', \\'barriers\\', \\'boogie\\', \\'bunny\\', \\'circus\\', \\'connected\\', \\'damaged\\', \\'elaborate\\', \\'fixes\\', \\'glacier\\', \\'heavyset\\', \\'jumpsuits\\', \\'lime\\', \\'miniature\\', \\'noses\\', \\'pedal\\', \\'posed\\', \\'rag\\', \\'rimmed\\', \\'scattered\\', \\'skull\\', \\'spatula\\', \\'strollers\\', \\'teddy\\', \\'tying\\', \\'whistle\\', \\'ad\\', \\'applies\\', \\'available\\', \\'barbecuing\\', \\'blurry\\', \\'bundled\\', \\'cartwheel\\', \\'cheeks\\', \\'cloths\\', \\'conditions\\', \\'crazy\\', \\'dilapidated\\', \\'earrings\\', \\'eyeglasses\\', \\'flowing\\', \\'gum\\', \\'hooping\\', \\'island\\', \\'lean\\', \\'makeshift\\', \\'message\\', \\'nike\\', \\'parachutes\\', \\'perched\\', \\'poodles\\', \\'recreational\\', \\'rubs\\', \\'season\\', \\'shoeshine\\', \\'soft\\', \\'starts\\', \\'suburban\\', \\'themed\\', \\'trimming\\', \\'vegetation\\', \\'whole\\', \\'9\\', \\'arabic\\', \\'banging\\', \\'beyond\\', \\'bridal\\', \\'buses\\', \\'casts\\', \\'chip\\', \\'communicating\\', \\'crab\\', \\'curious\\', \\'descend\\', \\'dramatically\\', \\'eatery\\', \\'exciting\\', \\'firetrucks\\', \\'fold\\', \\'frustrated\\', \\'guarding\\', \\'henna\\', \\'impressive\\', \\'kayaker\\', \\'ladders\\', \\'lifeguards\\', \\'mark\\', \\'messenger\\', \\'muzzles\\', \\'organizing\\', \\'paintbrush\\', \\'patrol\\', \\'piercing\\', \\'poised\\', \\'powered\\', \\'projected\\', \\'railway\\', \\'retrieving\\', \\'runway\\', \\'scottish\\', \\'seniors\\', \\'similarly\\', \\'sloping\\', \\'solitary\\', \\'speedo\\', \\'stationary\\', \\'storage\\', \\'substance\\', \\'swampy\\', \\'taught\\', \\'tickets\\', \\'triangle\\', \\'ukulele\\', \\'vegas\\', \\'washed\\', \\'whispering\\', \\'yamaha\\', \\'addresses\\', \\'ally\\', \\'arguing\\', \\'audio\\', \\'baker\\', \\'beagle\\', \\'blonds\\', \\'bounces\\', \\'bulls\\', \\'camcorder\\', \\'careful\\', \\'clerk\\', \\'contains\\', \\'crashed\\', \\'curling\\', \\'decals\\', \\'director\\', \\'dreads\\', \\'dumps\\', \\'electrical\\', \\'entertaining\\', \\'exit\\', \\'families\\', \\'fingernail\\', \\'flotation\\', \\'friendly\\', \\'government\\', \\'grooms\\', \\'handful\\', \\'hedge\\', \\'huddling\\', \\'interior\\', \\'jogger\\', \\'kissed\\', \\'lakers\\', \\'leafy\\', \\'littered\\', \\'maneuver\\', \\'master\\', \\'mexico\\', \\'mopping\\', \\'needs\\', \\'offers\\', \\'overall\\', \\'pairs\\', \\'patches\\', \\'per\\', \\'pockets\\', \\'positions\\', \\'procession\\', \\'pumpkins\\', \\'re\\', \\'related\\', \\'retriever\\', \\'route\\', \\'sauna\\', \\'sees\\', \\'shelf\\', \\'skill\\', \\'solider\\', \\'spider\\', \\'sprinkles\\', \\'sticker\\', \\'study\\', \\'sweet\\', \\'tend\\', \\'topped\\', \\'tricycles\\', \\'turtleneck\\', \\'union\\', \\'vaulting\\', \\'wade\\', \\'wheat\\', \\'wrong\\', \\'14\\', \\'acrobatics\\', \\'africans\\', \\'alpine\\', \\'annual\\', \\'architecture\\', \\'atlanta\\', \\'awaiting\\', \\'bales\\', \\'battery\\', \\'bespectacled\\', \\'blackboard\\', \\'blooming\\', \\'born\\', \\'breast\\', \\'brownish\\', \\'bullet\\', \\'busking\\', \\'camo\\', \\'caressing\\', \\'cellular\\', \\'chipper\\', \\'circuit\\', \\'cliffs\\', \\'coated\\', \\'comic\\', \\'consoles\\', \\'controlled\\', \\'counters\\', \\'creepy\\', \\'custody\\', \\'daring\\', \\'delight\\', \\'devil\\', \\'discovering\\', \\'downwards\\', \\'drumming\\', \\'eiffel\\', \\'engaging\\', \\'escalators\\', \\'explains\\', \\'fare\\', \\'fetches\\', \\'fitting\\', \\'flier\\', \\'forever\\', \\'frolics\\', \\'gallon\\', \\'glances\\', \\'goofy\\', \\'grilled\\', \\'guides\\', \\'handhold\\', \\'haul\\', \\'helper\\', \\'hippie\\', \\'homes\\', \\'houston\\', \\'hurt\\', \\'incense\\', \\'inspectors\\', \\'iowa\\', \\'jackson\\', \\'jousting\\', \\'king\\', \\'language\\', \\'leaped\\', \\'lettuce\\', \\'locker\\', \\'lowering\\', \\'manicured\\', \\'mass\\', \\'medals\\', \\'michigan\\', \\'missed\\', \\'moon\\', \\'mugs\\', \\'neatly\\', \\'non\\', \\'oddly\\', \\'opinions\\', \\'p\\', \\'paperback\\', \\'passer\\', \\'pee\\', \\'peruses\\', \\'placard\\', \\'plywood\\', \\'postcards\\', \\'presumably\\', \\'propeller\\', \\'question\\', \\'rates\\', \\'recycling\\', \\'relaxed\\', \\'residence\\', \\'rinsing\\', \\'routines\\', \\'saluting\\', \\'sax\\', \\'scrabble\\', \\'seamstress\\', \\'sending\\', \\'sewer\\', \\'shine\\', \\'showgirl\\', \\'simultaneously\\', \\'skyscraper\\', \\'slow\\', \\'snowdrift\\', \\'soapy\\', \\'sparsely\\', \\'splits\\', \\'starfish\\', \\'stopping\\', \\'stumbling\\', \\'super\\', \\'sveral\\', \\'swung\\', \\'teaches\\', \\'textile\\', \\'thursday\\', \\'toenails\\', \\'trails\\', \\'tress\\', \\'turkeys\\', \\'unkempt\\', \\'vault\\', \\'visit\\', \\'walkman\\', \\'watery\\', \\'windowsill\\', \\'worried\\', \\'zigzag\\']')"
            ]
          },
          "metadata": {
            "tags": []
          },
          "execution_count": 16
        }
      ]
    },
    {
      "cell_type": "code",
      "metadata": {
        "id": "i3G9cMV40row",
        "colab_type": "code",
        "colab": {
          "base_uri": "https://localhost:8080/",
          "height": 680
        },
        "outputId": "f35ce908-c991-4920-e5b3-35825d8a738f"
      },
      "source": [
        "SRC.vocab.itos[::222], TRG.vocab.itos[::222]"
      ],
      "execution_count": null,
      "outputs": [
        {
          "output_type": "execute_result",
          "data": {
            "text/plain": [
              "(['<unk>',\n",
              "  'équipe',\n",
              "  'instruments',\n",
              "  'tirant',\n",
              "  'tissu',\n",
              "  'attaché',\n",
              "  'sortant',\n",
              "  'flûte',\n",
              "  'dessine',\n",
              "  'meubles',\n",
              "  'douche',\n",
              "  'murale',\n",
              "  'mouillée',\n",
              "  'informations',\n",
              "  'bob',\n",
              "  'plutôt',\n",
              "  'chaton',\n",
              "  'mule',\n",
              "  'éparpillés',\n",
              "  'couteaux',\n",
              "  'lancés',\n",
              "  'quais',\n",
              "  'aborde',\n",
              "  'burqa',\n",
              "  'dressent',\n",
              "  'garniture',\n",
              "  'matador',\n",
              "  'pratiquants',\n",
              "  'soignée',\n",
              "  'émerveillée'],\n",
              " ['<unk>',\n",
              "  'covered',\n",
              "  'dock',\n",
              "  'females',\n",
              "  'lab',\n",
              "  'boats',\n",
              "  'medical',\n",
              "  'flowered',\n",
              "  'drive',\n",
              "  'contraption',\n",
              "  'tags',\n",
              "  'bush',\n",
              "  'bikinis',\n",
              "  'tips',\n",
              "  'memorial',\n",
              "  'casts',\n",
              "  'pancake',\n",
              "  'unpaved',\n",
              "  'ds',\n",
              "  'monks',\n",
              "  'sticker',\n",
              "  'bicycler',\n",
              "  'depicted',\n",
              "  'hide',\n",
              "  'navigate',\n",
              "  'sax',\n",
              "  'tilts'])"
            ]
          },
          "metadata": {
            "tags": []
          },
          "execution_count": 17
        }
      ]
    },
    {
      "cell_type": "markdown",
      "metadata": {
        "id": "9HwlxyrX0ro2",
        "colab_type": "text"
      },
      "source": [
        "And here is example from train dataset:"
      ]
    },
    {
      "cell_type": "code",
      "metadata": {
        "id": "PNlXhNqt0ro3",
        "colab_type": "code",
        "colab": {
          "base_uri": "https://localhost:8080/",
          "height": 40
        },
        "outputId": "5b294302-0479-4b41-8e20-e4794dd34ddf"
      },
      "source": [
        "vars(train_data.examples[2222])"
      ],
      "execution_count": null,
      "outputs": [
        {
          "output_type": "execute_result",
          "data": {
            "text/plain": [
              "{'src': ['.', 'terrasse', 'sa', 'sur', 'flâne', 'famille', 'une'],\n",
              " 'trg': ['a', 'family', 'is', 'lounging', 'on', 'their', 'porch', '.']}"
            ]
          },
          "metadata": {
            "tags": []
          },
          "execution_count": 18
        }
      ]
    },
    {
      "cell_type": "markdown",
      "metadata": {
        "id": "-RAUSDAn0ro-",
        "colab_type": "text"
      },
      "source": [
        "Let's check the length distributions:"
      ]
    },
    {
      "cell_type": "code",
      "metadata": {
        "id": "5Jngth_h0ro_",
        "colab_type": "code",
        "colab": {
          "base_uri": "https://localhost:8080/",
          "height": 293
        },
        "outputId": "314bae41-0713-4915-ea42-3d53145bb312"
      },
      "source": [
        "src_length = map(len, [vars(x)['src'] for x in train_data.examples])\n",
        "trg_length = map(len, [vars(x)['trg'] for x in train_data.examples])\n",
        "\n",
        "print('Length distribution in Train data')\n",
        "plt.figure(figsize=[8, 4])\n",
        "plt.subplot(1, 2, 1)\n",
        "plt.title(\"source length\")\n",
        "plt.hist(list(src_length), bins=20);\n",
        "\n",
        "plt.subplot(1, 2, 2)\n",
        "plt.title(\"translation length\")\n",
        "plt.hist(list(trg_length), bins=20);"
      ],
      "execution_count": null,
      "outputs": [
        {
          "output_type": "stream",
          "text": [
            "Length distribution in Train data\n"
          ],
          "name": "stdout"
        },
        {
          "output_type": "display_data",
          "data": {
            "image/png": "[encoded data removed]",
            "text/plain": [
              "<Figure size 576x288 with 2 Axes>"
            ]
          },
          "metadata": {
            "tags": [],
            "needs_background": "light"
          }
        }
      ]
    },
    {
      "cell_type": "code",
      "metadata": {
        "id": "yyXhVOf-0rpF",
        "colab_type": "code",
        "colab": {
          "base_uri": "https://localhost:8080/",
          "height": 293
        },
        "outputId": "963c573e-3d09-41f5-eafd-7cbc8c381db4"
      },
      "source": [
        "src_length = map(len, [vars(x)['src'] for x in test_data.examples])\n",
        "trg_length = map(len, [vars(x)['trg'] for x in test_data.examples])\n",
        "\n",
        "print('Length distribution in Test data')\n",
        "plt.figure(figsize=[8, 4])\n",
        "plt.subplot(1, 2, 1)\n",
        "plt.title(\"source length\")\n",
        "plt.hist(list(src_length), bins=20);\n",
        "\n",
        "plt.subplot(1, 2, 2)\n",
        "plt.title(\"translation length\")\n",
        "plt.hist(list(trg_length), bins=20);"
      ],
      "execution_count": null,
      "outputs": [
        {
          "output_type": "stream",
          "text": [
            "Length distribution in Test data\n"
          ],
          "name": "stdout"
        },
        {
          "output_type": "display_data",
          "data": {
            "image/png": "[encoded data removed]",
            "text/plain": [
              "<Figure size 576x288 with 2 Axes>"
            ]
          },
          "metadata": {
            "tags": [],
            "needs_background": "light"
          }
        }
      ]
    },
    {
      "cell_type": "markdown",
      "metadata": {
        "id": "lgmBDaYG0rpL",
        "colab_type": "text"
      },
      "source": [
        "### Model side\n",
        "__Here comes simple pipeline of NMT model learning. It almost copies the week03 practice__"
      ]
    },
    {
      "cell_type": "code",
      "metadata": {
        "id": "x3_yH9in0rpp",
        "colab_type": "code",
        "colab": {}
      },
      "source": [
        "INPUT_DIM = len(SRC.vocab)\n",
        "OUTPUT_DIM = len(TRG.vocab)\n",
        "BATCH_SIZE = 222\n",
        "ENC_EMB_DIM = 256\n",
        "DEC_EMB_DIM = 256\n",
        "ATTENTION_DIM = 4\n",
        "HID_DIM = 512\n",
        "N_LAYERS = 4\n",
        "ENC_DROPOUT = 0.5\n",
        "DEC_DROPOUT = 0.5\n",
        "\n",
        "DEVICE = torch.device(\"cuda:0\" if torch.cuda.is_available() else \"cpu\")\n",
        "# https://www.youtube.com/watch?v=0OMgS3wNoog&list=RDI_wnoAn4UO8&index=12"
      ],
      "execution_count": null,
      "outputs": []
    },
    {
      "cell_type": "code",
      "metadata": {
        "id": "NsdoTDGJ0rpZ",
        "colab_type": "code",
        "colab": {}
      },
      "source": [
        "def _len_sort_key(x):\n",
        "    return len(x.src)\n",
        "\n",
        "train_iterator, valid_iterator, test_iterator = BucketIterator.splits((train_data, valid_data, test_data), \n",
        "                                                                        batch_size = BATCH_SIZE, \n",
        "                                                                        device = DEVICE,\n",
        "                                                                        sort_key=_len_sort_key\n",
        ")"
      ],
      "execution_count": null,
      "outputs": []
    },
    {
      "cell_type": "code",
      "metadata": {
        "id": "RlOQbnbj0rpk",
        "colab_type": "code",
        "colab": {}
      },
      "source": [
        "import my_network as proff\n",
        "\n",
        "Encoder = proff.Encoder\n",
        "Decoder = proff.Decoder\n",
        "Seq2Seq = proff.Seq2Seq"
      ],
      "execution_count": null,
      "outputs": []
    },
    {
      "cell_type": "code",
      "metadata": {
        "id": "CV3yZS7sYGoq",
        "colab_type": "code",
        "colab": {}
      },
      "source": [
        "enc = Encoder(INPUT_DIM,  ENC_EMB_DIM, HID_DIM, N_LAYERS, ENC_DROPOUT)\n",
        "dec = Decoder(OUTPUT_DIM, DEC_EMB_DIM, HID_DIM, N_LAYERS, DEC_DROPOUT)\n",
        "\n",
        "# dont forget to put the model to the right device\n",
        "model_main = Seq2Seq(enc, dec, DEVICE).to(DEVICE)"
      ],
      "execution_count": null,
      "outputs": []
    },
    {
      "cell_type": "code",
      "metadata": {
        "id": "qlINXp3e0rpu",
        "colab_type": "code",
        "colab": {
          "base_uri": "https://localhost:8080/",
          "height": 168
        },
        "outputId": "c0a86776-b914-4364-880d-f83957fcf9cd"
      },
      "source": [
        "def init_weights(model):\n",
        "    for name, param in model.named_parameters():\n",
        "        nn.init.uniform_(param, -0.08, 0.08)\n",
        "        \n",
        "model_main.apply(init_weights)"
      ],
      "execution_count": null,
      "outputs": [
        {
          "output_type": "execute_result",
          "data": {
            "text/plain": [
              "Seq2Seq(\n",
              "  (encoder): Encoder(\n",
              "    (embedding): Embedding(6462, 256)\n",
              "    (rnn): LSTM(256, 512, num_layers=4, dropout=0.5)\n",
              "    (dropout): Dropout(p=0.5, inplace=False)\n",
              "  )\n",
              "  (decoder): Decoder(\n",
              "    (embedding): Embedding(5893, 256)\n",
              "    (rnn): LSTM(256, 512, num_layers=4, dropout=0.5)\n",
              "    (out): Linear(in_features=512, out_features=5893, bias=True)\n",
              "    (dropout): Dropout(p=0.5, inplace=False)\n",
              "  )\n",
              ")"
            ]
          },
          "metadata": {
            "tags": []
          },
          "execution_count": 25
        }
      ]
    },
    {
      "cell_type": "code",
      "metadata": {
        "id": "PxQxnCLM0rpz",
        "colab_type": "code",
        "colab": {
          "base_uri": "https://localhost:8080/",
          "height": 29
        },
        "outputId": "4960895e-22e9-4b06-d0e3-5b71046874f4"
      },
      "source": [
        "def count_parameters(model):\n",
        "    return sum(p.numel() for p in model.parameters() if p.requires_grad)\n",
        "\n",
        "print(f'The model has {count_parameters(model_main):,} trainable parameters')"
      ],
      "execution_count": null,
      "outputs": [
        {
          "output_type": "stream",
          "text": [
            "The model has 21,947,397 trainable parameters\n"
          ],
          "name": "stdout"
        }
      ]
    },
    {
      "cell_type": "code",
      "metadata": {
        "id": "gSGAlYgG0rp3",
        "colab_type": "code",
        "colab": {}
      },
      "source": [
        "PAD_IDX = TRG.vocab.stoi['<pad>']  #Write <pad> where key not present in TRG\n",
        "optimizer = optim.ASGD(model_main.parameters(),\n",
        "                          lr = 2*10-3)\n",
        "loss_function = nn.CrossEntropyLoss(ignore_index = PAD_IDX)"
      ],
      "execution_count": null,
      "outputs": []
    },
    {
      "cell_type": "code",
      "metadata": {
        "id": "Xa1SkiBN0rp-",
        "colab_type": "code",
        "colab": {}
      },
      "source": [
        "def train(model, iterator, optimizer, criterion, clip, train_history=None, valid_history=None):\n",
        "    print('... Training')\n",
        "    model.train()\n",
        "    \n",
        "    epoch_loss = 0\n",
        "    history = []\n",
        "    for i, batch in enumerate(iterator):\n",
        "        \n",
        "        src = batch.src\n",
        "        trg = batch.trg\n",
        "        \n",
        "        optimizer.zero_grad()\n",
        "        \n",
        "        output = model(src, trg)\n",
        "        \n",
        "        output = output[1:].view(-1, output.shape[-1])\n",
        "        trg = trg[1:].view(-1)\n",
        "        \n",
        "        loss = criterion(output, trg)\n",
        "        \n",
        "        loss.backward()\n",
        "        \n",
        "        # Let's clip the gradient\n",
        "        torch.nn.utils.clip_grad_norm_(model.parameters(), clip)\n",
        "        \n",
        "        optimizer.step()\n",
        "        \n",
        "        epoch_loss += loss.item()\n",
        "        \n",
        "        history.append(loss.cpu().data.numpy())\n",
        "        if (i+1)%10==0:\n",
        "            fig, ax = plt.subplots(nrows=1, ncols=2, figsize=(8, 6))\n",
        "\n",
        "            clear_output(True)\n",
        "            ax[0].plot(history, label='train loss')\n",
        "            ax[0].set_xlabel('Batch')\n",
        "            ax[0].set_title('Train loss')\n",
        "            if train_history is not None:\n",
        "                ax[1].plot(train_history, label='general train history')\n",
        "                ax[1].set_xlabel('Epoch')\n",
        "            if valid_history is not None:\n",
        "                ax[1].plot(valid_history, label='general valid history')\n",
        "            plt.legend()\n",
        "            \n",
        "            plt.show()\n",
        "\n",
        "        \n",
        "    return epoch_loss / len(iterator)"
      ],
      "execution_count": null,
      "outputs": []
    },
    {
      "cell_type": "code",
      "metadata": {
        "id": "p3J0hKQa0rqE",
        "colab_type": "code",
        "colab": {}
      },
      "source": [
        "def evaluate(model, iterator, criterion):\n",
        "    print('... Testing')\n",
        "    model.eval()\n",
        "    \n",
        "    epoch_loss = 0\n",
        "    \n",
        "    history = []\n",
        "    \n",
        "    with torch.no_grad():\n",
        "    \n",
        "        for i, batch in enumerate(iterator):\n",
        "\n",
        "            src = batch.src\n",
        "            trg = batch.trg\n",
        "\n",
        "            output = model(src, trg, 0) #turn off teacher forcing\n",
        "\n",
        "            output = output[1:].view(-1, output.shape[-1])\n",
        "            trg = trg[1:].view(-1)\n",
        "\n",
        "            loss = criterion(output, trg)\n",
        "            \n",
        "            epoch_loss += loss.item()\n",
        "        \n",
        "    return epoch_loss / len(iterator)"
      ],
      "execution_count": null,
      "outputs": []
    },
    {
      "cell_type": "code",
      "metadata": {
        "id": "44iXEJTs0rqJ",
        "colab_type": "code",
        "colab": {}
      },
      "source": [
        "def epoch_time(start_time, end_time):\n",
        "    elapsed_time = end_time - start_time\n",
        "    elapsed_mins = int(elapsed_time / 60)\n",
        "    elapsed_secs = int(elapsed_time - (elapsed_mins * 60))\n",
        "    \n",
        "    return elapsed_mins, elapsed_secs"
      ],
      "execution_count": null,
      "outputs": []
    },
    {
      "cell_type": "code",
      "metadata": {
        "id": "rrf2gAee0rqL",
        "colab_type": "code",
        "colab": {}
      },
      "source": [
        "train_history = []\n",
        "valid_history = []\n",
        "\n",
        "N_EPOCHS = 10\n",
        "CLIP = 1\n",
        "best_valid_loss = float('inf')\n",
        "\n",
        "# https://www.youtube.com/watch?v=I_wnoAn4UO8&list=RDI_wnoAn4UO8&start_radio=1\n",
        "# https://www.youtube.com/watch?v=oM2TKqKlORU&list=RDI_wnoAn4UO8&index=4"
      ],
      "execution_count": null,
      "outputs": []
    },
    {
      "cell_type": "code",
      "metadata": {
        "id": "5NzNWqMq0rqY",
        "colab_type": "code",
        "colab": {
          "base_uri": "https://localhost:8080/",
          "height": 451
        },
        "outputId": "8889b885-23bb-40df-d693-5876f3870cb8"
      },
      "source": [
        "for epoch in range(N_EPOCHS):\n",
        "    \n",
        "    start_time = time.time()\n",
        "    \n",
        "    train_loss = train(model_main, train_iterator, optimizer, loss_function, CLIP, train_history, valid_history)\n",
        "    valid_loss = evaluate(model_main, valid_iterator, loss_function)\n",
        "    \n",
        "    end_time = time.time()\n",
        "    \n",
        "    epoch_mins, epoch_secs = epoch_time(start_time, end_time)\n",
        "    \n",
        "    if valid_loss < best_valid_loss:\n",
        "        best_valid_loss = valid_loss\n",
        "        torch.save(model_main.state_dict(), 'tut1-model.pt')\n",
        "    \n",
        "    train_history.append(train_loss)\n",
        "    valid_history.append(valid_loss)\n",
        "    print(f'Epoch: {epoch+1:02} | Time: {epoch_mins}m {epoch_secs}s')\n",
        "    print(f'\\tTrain Loss: {train_loss:.3f} | Train PPL: {math.exp(train_loss):7.3f}')\n",
        "    print(f'\\t Val. Loss: {valid_loss:.3f} |  Val. PPL: {math.exp(valid_loss):7.3f}')"
      ],
      "execution_count": null,
      "outputs": [
        {
          "output_type": "display_data",
          "data": {
            "image/png": "[encoded data removed]",
            "text/plain": [
              "<Figure size 576x432 with 2 Axes>"
            ]
          },
          "metadata": {
            "tags": [],
            "needs_background": "light"
          }
        },
        {
          "output_type": "stream",
          "text": [
            "... Testing\n",
            "Epoch: 10 | Time: 0m 41s\n",
            "\tTrain Loss: 5.140 | Train PPL: 170.633\n",
            "\t Val. Loss: 5.012 |  Val. PPL: 150.273\n"
          ],
          "name": "stdout"
        }
      ]
    },
    {
      "cell_type": "markdown",
      "metadata": {
        "id": "-6tHRgpf0rqc",
        "colab_type": "text"
      },
      "source": [
        "__Let's take a look at our network quality__:"
      ]
    },
    {
      "cell_type": "code",
      "metadata": {
        "id": "mNbNtzVQ0rqc",
        "colab_type": "code",
        "colab": {}
      },
      "source": [
        "import utils\n",
        "import imp\n",
        "\n",
        "imp.reload(utils)\n",
        "\n",
        "generate_translation = utils.generate_translation\n",
        "remove_tech_tokens = utils.remove_tech_tokens\n",
        "\n",
        "get_text = utils.get_text\n",
        "flatten = utils.flatten"
      ],
      "execution_count": null,
      "outputs": []
    },
    {
      "cell_type": "markdown",
      "metadata": {
        "id": "LGz2Fl950rqf",
        "colab_type": "text"
      },
      "source": [
        "Take a look at the example translation:"
      ]
    },
    {
      "cell_type": "code",
      "metadata": {
        "id": "dGRFnn670rqg",
        "colab_type": "code",
        "colab": {}
      },
      "source": [
        "batch = next(iter(test_iterator))"
      ],
      "execution_count": null,
      "outputs": []
    },
    {
      "cell_type": "code",
      "metadata": {
        "id": "PjJQnJQf0rqk",
        "colab_type": "code",
        "colab": {
          "base_uri": "https://localhost:8080/",
          "height": 87
        },
        "outputId": "59e24b35-fc49-4096-a91f-36d156d3d706"
      },
      "source": [
        "for idx in [1,2]:\n",
        "    src = batch.src[:, idx:idx+1]\n",
        "    trg = batch.trg[:, idx:idx+1]\n",
        "    generate_translation(src, trg, model_main, TRG.vocab)"
      ],
      "execution_count": null,
      "outputs": [
        {
          "output_type": "stream",
          "text": [
            "Original: an older man is opening his arms wide and looking .\n",
            "Generated: a man in a a a a a\n",
            "\n",
            "Original: a man is working a hotdog stand .\n",
            "Generated: a man in a a a a a\n",
            "\n"
          ],
          "name": "stdout"
        }
      ]
    },
    {
      "cell_type": "code",
      "metadata": {
        "id": "Nf2PCyyL0rqp",
        "colab_type": "code",
        "colab": {}
      },
      "source": [
        "from nltk.translate.bleu_score import corpus_bleu\n",
        "\n",
        "#     \"\"\" Estimates corpora-level BLEU score of model's translations given inp and reference out \"\"\"\n",
        "#     translations, _ = model.translate_lines(inp_lines, **flags)\n",
        "#     # Note: if you experience out-of-memory error, split input lines into batches and translate separately\n",
        "#     return corpus_bleu([[ref] for ref in out_lines], translations) * 100"
      ],
      "execution_count": null,
      "outputs": []
    },
    {
      "cell_type": "code",
      "metadata": {
        "id": "yL1jBLzB0rqv",
        "colab_type": "code",
        "colab": {}
      },
      "source": [
        "import tqdm"
      ],
      "execution_count": null,
      "outputs": []
    },
    {
      "cell_type": "code",
      "metadata": {
        "id": "FGclWiqq0rq0",
        "colab_type": "code",
        "colab": {
          "base_uri": "https://localhost:8080/",
          "height": 29
        },
        "outputId": "c6258ded-cb03-4d6c-f233-aeaf34b8a627"
      },
      "source": [
        "original_text_proff = []\n",
        "generated_text_proff = []\n",
        "\n",
        "model_main.eval()\n",
        "\n",
        "with torch.no_grad():\n",
        "\n",
        "    for i, batch in tqdm.tqdm(enumerate(test_iterator)):\n",
        "\n",
        "        src = batch.src\n",
        "        trg = batch.trg\n",
        "\n",
        "        prediction = model_main(src, trg, 0) #turn off teacher forcing\n",
        "        prediction = prediction.argmax(dim=-1)\n",
        "        \n",
        "        original_text_proff.extend([get_text(x, TRG.vocab) for x in trg.cpu().numpy().T])\n",
        "        generated_text_proff.extend([get_text(x, TRG.vocab) for x in prediction[1:].detach().cpu().numpy().T])"
      ],
      "execution_count": null,
      "outputs": [
        {
          "output_type": "stream",
          "text": [
            "5it [00:00, 13.36it/s]\n"
          ],
          "name": "stderr"
        }
      ]
    },
    {
      "cell_type": "code",
      "metadata": {
        "id": "E4a5MnLf0rq6",
        "colab_type": "code",
        "colab": {
          "base_uri": "https://localhost:8080/",
          "height": 29
        },
        "outputId": "4b73e80b-fd6f-4d86-8ef6-01ca00197501"
      },
      "source": [
        "corpus_bleu([[text] for text in original_text_proff], generated_text_proff) * 100"
      ],
      "execution_count": null,
      "outputs": [
        {
          "output_type": "execute_result",
          "data": {
            "text/plain": [
              "2.1383247529275486"
            ]
          },
          "metadata": {
            "tags": []
          },
          "execution_count": 39
        }
      ]
    },
    {
      "cell_type": "markdown",
      "metadata": {
        "id": "RbKcVZkN0rrB",
        "colab_type": "text"
      },
      "source": [
        "Baseline solution BLEU score is quite low. Try to achieve at least __18__ BLEU on the test set.\n",
        "\n",
        "Here are some thresholds you might refer to (they may vary for different language pairs, but are good references for pairs line EN-FR or EN-GE):\n",
        "\n",
        "* __18__ – good starting point\n",
        "\n",
        "* __20__ – better\n",
        "\n",
        "* __25__ – excellent score"
      ]
    },
    {
      "cell_type": "markdown",
      "metadata": {
        "id": "jNWGC9JVMUVQ",
        "colab_type": "text"
      },
      "source": [
        "\n",
        "\n",
        "---\n",
        "\n",
        "\n",
        "\n",
        "---\n",
        "\n"
      ]
    },
    {
      "cell_type": "code",
      "metadata": {
        "colab_type": "code",
        "id": "8LUgUnUOMWox",
        "colab": {}
      },
      "source": [
        "import attention_network as attention_ntwrk\n",
        "\n",
        "Encoder = attention_ntwrk.Encoder\n",
        "Decoder = attention_ntwrk.Decoder\n",
        "Attention = attention_ntwrk.Attention\n",
        "Seq2Seq = attention_ntwrk.Seq2Seq"
      ],
      "execution_count": null,
      "outputs": []
    },
    {
      "cell_type": "code",
      "metadata": {
        "colab_type": "code",
        "id": "FECKXwzPMWpP",
        "colab": {}
      },
      "source": [
        "enc = Encoder(INPUT_DIM,  ENC_EMB_DIM, HID_DIM, ENC_DROPOUT)\n",
        "attention = Attention(HID_DIM, ATTENTION_DIM)\n",
        "dec = Decoder(OUTPUT_DIM, DEC_EMB_DIM, HID_DIM, DEC_DROPOUT, attention)\n",
        "\n",
        "# dont forget to put the model to the right device\n",
        "model_attention  = Seq2Seq(enc, dec, DEVICE). to(DEVICE)\n",
        "optimizer = optim.Adam(model_attention.parameters())"
      ],
      "execution_count": null,
      "outputs": []
    },
    {
      "cell_type": "code",
      "metadata": {
        "colab_type": "code",
        "id": "HX8f3C0sMWpv",
        "colab": {
          "base_uri": "https://localhost:8080/",
          "height": 215
        },
        "outputId": "0ac10b73-3a50-4f09-d524-d2f70c6003d0"
      },
      "source": [
        "model_attention.apply(init_weights)"
      ],
      "execution_count": null,
      "outputs": [
        {
          "output_type": "execute_result",
          "data": {
            "text/plain": [
              "Seq2Seq(\n",
              "  (encoder): Encoder(\n",
              "    (embedding): Embedding(6462, 256)\n",
              "    (rnn): GRU(256, 512, bidirectional=True)\n",
              "    (fc): Linear(in_features=1024, out_features=512, bias=True)\n",
              "    (dropout): Dropout(p=0.5, inplace=False)\n",
              "  )\n",
              "  (decoder): Decoder(\n",
              "    (attention): Attention(\n",
              "      (attn): Linear(in_features=1536, out_features=4, bias=True)\n",
              "    )\n",
              "    (embedding): Embedding(5893, 256)\n",
              "    (rnn): GRU(1280, 512)\n",
              "    (out): Linear(in_features=1792, out_features=5893, bias=True)\n",
              "    (dropout): Dropout(p=0.5, inplace=False)\n",
              "  )\n",
              ")"
            ]
          },
          "metadata": {
            "tags": []
          },
          "execution_count": 42
        }
      ]
    },
    {
      "cell_type": "code",
      "metadata": {
        "colab_type": "code",
        "id": "8qMQxkzUMWqG",
        "colab": {
          "base_uri": "https://localhost:8080/",
          "height": 29
        },
        "outputId": "08917c4e-be94-44ed-dc72-bb6f1e83eae1"
      },
      "source": [
        "print(f'The model has {count_parameters(model_attention):,} trainable parameters')"
      ],
      "execution_count": null,
      "outputs": [
        {
          "output_type": "stream",
          "text": [
            "The model has 19,381,001 trainable parameters\n"
          ],
          "name": "stdout"
        }
      ]
    },
    {
      "cell_type": "code",
      "metadata": {
        "colab_type": "code",
        "id": "NsEOXQ3YMWqS",
        "colab": {
          "base_uri": "https://localhost:8080/",
          "height": 451
        },
        "outputId": "f176a686-a566-483b-c1ff-4192abf2b035"
      },
      "source": [
        "for epoch in range(N_EPOCHS):\n",
        "    \n",
        "    start_time = time.time()\n",
        "    \n",
        "    train_loss = train(model_attention, train_iterator, optimizer, loss_function, CLIP, train_history, valid_history)\n",
        "    valid_loss = evaluate(model_attention, valid_iterator, loss_function)\n",
        "    \n",
        "    end_time = time.time()\n",
        "    \n",
        "    epoch_mins, epoch_secs = epoch_time(start_time, end_time)\n",
        "    \n",
        "    if valid_loss < best_valid_loss:\n",
        "        best_valid_loss = valid_loss\n",
        "        torch.save(model_attention.state_dict(), 'attention-model_1.pt')\n",
        "    \n",
        "    train_history.append(train_loss)\n",
        "    valid_history.append(valid_loss)\n",
        "    print(f'Epoch: {epoch+1:02} | Time: {epoch_mins}m {epoch_secs}s')\n",
        "    print(f'\\tTrain Loss: {train_loss:.3f} | Train PPL: {math.exp(train_loss):7.3f}')\n",
        "    print(f'\\t Val. Loss: {valid_loss:.3f} |  Val. PPL: {math.exp(valid_loss):7.3f}')"
      ],
      "execution_count": null,
      "outputs": [
        {
          "output_type": "display_data",
          "data": {
            "image/png": "[encoded data removed]",
            "text/plain": [
              "<Figure size 576x432 with 2 Axes>"
            ]
          },
          "metadata": {
            "tags": [],
            "needs_background": "light"
          }
        },
        {
          "output_type": "stream",
          "text": [
            "... Testing\n",
            "Epoch: 10 | Time: 0m 42s\n",
            "\tTrain Loss: 1.343 | Train PPL:   3.829\n",
            "\t Val. Loss: 2.994 |  Val. PPL:  19.962\n"
          ],
          "name": "stdout"
        }
      ]
    },
    {
      "cell_type": "code",
      "metadata": {
        "colab_type": "code",
        "id": "zPzK8jjTMWqc",
        "colab": {}
      },
      "source": [
        "batch = next(iter(test_iterator))"
      ],
      "execution_count": null,
      "outputs": []
    },
    {
      "cell_type": "code",
      "metadata": {
        "colab_type": "code",
        "id": "kG90O7F5MWql",
        "colab": {
          "base_uri": "https://localhost:8080/",
          "height": 87
        },
        "outputId": "dac9c6de-58e0-497a-91f3-a0e13f0a55ba"
      },
      "source": [
        "for idx in [1,2]:\n",
        "    src = batch.src[:, idx:idx+1]\n",
        "    trg = batch.trg[:, idx:idx+1]\n",
        "    generate_translation(src, trg, model_attention, TRG.vocab)"
      ],
      "execution_count": null,
      "outputs": [
        {
          "output_type": "stream",
          "text": [
            "Original: an older man is opening his arms wide and looking .\n",
            "Generated: an older man is holding his right and and looks like be be looking\n",
            "\n",
            "Original: a man is working a hotdog stand .\n",
            "Generated: a man is working on a hotdog . .\n",
            "\n"
          ],
          "name": "stdout"
        }
      ]
    },
    {
      "cell_type": "code",
      "metadata": {
        "colab_type": "code",
        "id": "ys1_DHBUMWqw",
        "colab": {
          "base_uri": "https://localhost:8080/",
          "height": 29
        },
        "outputId": "a221aca5-b095-4392-f800-bc9bde626683"
      },
      "source": [
        "original_text = []\n",
        "generated_text = []\n",
        "\n",
        "model_attention.eval()\n",
        "\n",
        "with torch.no_grad():\n",
        "\n",
        "    for i, batch in tqdm.tqdm(enumerate(test_iterator)):\n",
        "\n",
        "        src = batch.src\n",
        "        trg = batch.trg\n",
        "\n",
        "        prediction = model_attention(src, trg, 0) #turn off teacher forcing\n",
        "        prediction = prediction.argmax(dim=-1)\n",
        "        \n",
        "        original_text.extend([get_text(x, TRG.vocab) for x in trg.cpu().numpy().T])\n",
        "        generated_text.extend([get_text(x, TRG.vocab) for x in prediction[1:].detach().cpu().numpy().T])"
      ],
      "execution_count": null,
      "outputs": [
        {
          "output_type": "stream",
          "text": [
            "5it [00:00, 13.53it/s]\n"
          ],
          "name": "stderr"
        }
      ]
    },
    {
      "cell_type": "code",
      "metadata": {
        "colab_type": "code",
        "id": "cN9gTvqKMWq6",
        "colab": {
          "base_uri": "https://localhost:8080/",
          "height": 29
        },
        "outputId": "7186b697-8f70-4f3e-8be0-a8362a423e88"
      },
      "source": [
        "corpus_bleu([[text] for text in original_text], generated_text) * 100"
      ],
      "execution_count": null,
      "outputs": [
        {
          "output_type": "execute_result",
          "data": {
            "text/plain": [
              "40.561276619378276"
            ]
          },
          "metadata": {
            "tags": []
          },
          "execution_count": 48
        }
      ]
    },
    {
      "cell_type": "markdown",
      "metadata": {
        "id": "tYx8B2c7V-Hm",
        "colab_type": "text"
      },
      "source": [
        "\n",
        "\n",
        "---\n",
        "\n",
        "\n",
        "\n",
        "---\n",
        "\n"
      ]
    },
    {
      "cell_type": "code",
      "metadata": {
        "id": "UQ_IGGi6E9dZ",
        "colab_type": "code",
        "colab": {}
      },
      "source": [
        "text_train= [' '.join(train_data.examples[i].src[::-1]) for i in range(len(train_data.examples))]\n",
        "text_test = [' '.join(test_data.examples[i].src[::-1]) for i in range(len(test_data.examples))]\n",
        "y_train =   [' '.join(train_data.examples[i].trg) for i in range(len(train_data.examples))]\n",
        "y_test =    [' '.join(test_data.examples[i].trg) for i in range(len(test_data.examples))]"
      ],
      "execution_count": null,
      "outputs": []
    },
    {
      "cell_type": "code",
      "metadata": {
        "id": "SFGUgzVtkV-N",
        "colab_type": "code",
        "colab": {
          "base_uri": "https://localhost:8080/",
          "height": 40
        },
        "outputId": "fee145b5-3dec-457c-8ef5-34798515c57f"
      },
      "source": [
        "text_train[0], y_train[0]"
      ],
      "execution_count": null,
      "outputs": [
        {
          "output_type": "execute_result",
          "data": {
            "text/plain": [
              "('deux jeunes hommes blancs sont dehors près de buissons .',\n",
              " 'two young , white males are outside near many bushes .')"
            ]
          },
          "metadata": {
            "tags": []
          },
          "execution_count": 83
        }
      ]
    },
    {
      "cell_type": "code",
      "metadata": {
        "id": "PATCKFcjK5jL",
        "colab_type": "code",
        "colab": {
          "base_uri": "https://localhost:8080/",
          "height": 1000
        },
        "outputId": "09532156-be89-4ea4-95ba-70b9a69a38e2"
      },
      "source": [
        "SRC.vocab.itos"
      ],
      "execution_count": null,
      "outputs": [
        {
          "output_type": "execute_result",
          "data": {
            "text/plain": [
              "['<unk>',\n",
              " '<pad>',\n",
              " '<sos>',\n",
              " '<eos>',\n",
              " 'un',\n",
              " '.',\n",
              " 'une',\n",
              " 'de',\n",
              " 'en',\n",
              " \"d'\",\n",
              " 'dans',\n",
              " 'sur',\n",
              " 'homme',\n",
              " 'et',\n",
              " 'des',\n",
              " 'avec',\n",
              " 'la',\n",
              " 'à',\n",
              " ',',\n",
              " 'femme',\n",
              " \"l'\",\n",
              " 'deux',\n",
              " 'le',\n",
              " 'est',\n",
              " '-',\n",
              " 'debout',\n",
              " 'se',\n",
              " 'personnes',\n",
              " 'sont',\n",
              " 'jeune',\n",
              " 'au',\n",
              " 'tandis',\n",
              " 'devant',\n",
              " 'hommes',\n",
              " 'fille',\n",
              " 'du',\n",
              " 'groupe',\n",
              " 'les',\n",
              " 'garçon',\n",
              " 'assis',\n",
              " 'chien',\n",
              " 'son',\n",
              " 'rue',\n",
              " 'rouge',\n",
              " \"qu'\",\n",
              " 'noir',\n",
              " 'portant',\n",
              " 't',\n",
              " 'shirt',\n",
              " 'blanc',\n",
              " 'pour',\n",
              " 'gens',\n",
              " 'trois',\n",
              " 'train',\n",
              " 'bleu',\n",
              " 'eau',\n",
              " 'femmes',\n",
              " 'fait',\n",
              " 'enfant',\n",
              " 'enfants',\n",
              " 'qui',\n",
              " 'sa',\n",
              " 'côté',\n",
              " 'tient',\n",
              " 'par',\n",
              " 'autre',\n",
              " 'regarde',\n",
              " 'que',\n",
              " 'petit',\n",
              " 'joue',\n",
              " 'près',\n",
              " \"s'\",\n",
              " 'personne',\n",
              " 'tenant',\n",
              " 'vêtu',\n",
              " 'jouant',\n",
              " 'photo',\n",
              " 'il',\n",
              " 'jaune',\n",
              " 'chemise',\n",
              " 'air',\n",
              " 'jeunes',\n",
              " 'vélo',\n",
              " 'jouent',\n",
              " 'petite',\n",
              " 'lors',\n",
              " 'regardant',\n",
              " 'a',\n",
              " 'dehors',\n",
              " 'bâtiment',\n",
              " 'marche',\n",
              " 'blanche',\n",
              " 'lunettes',\n",
              " 'veste',\n",
              " 'ses',\n",
              " 'assise',\n",
              " 'trottoir',\n",
              " 'dessus',\n",
              " 'faisant',\n",
              " 'saute',\n",
              " 'regardent',\n",
              " 'cheveux',\n",
              " 'tout',\n",
              " 'foule',\n",
              " 'marchant',\n",
              " 'derrière',\n",
              " 'vert',\n",
              " 'plage',\n",
              " 'bleue',\n",
              " 'porte',\n",
              " 'table',\n",
              " 'court',\n",
              " 'neige',\n",
              " 'ballon',\n",
              " 'main',\n",
              " 'quelque',\n",
              " 'plusieurs',\n",
              " 'rose',\n",
              " 'chose',\n",
              " 'autres',\n",
              " 'filles',\n",
              " 'grand',\n",
              " 'arrière-plan',\n",
              " 'brun',\n",
              " 'tenue',\n",
              " 'herbe',\n",
              " 'orange',\n",
              " 'marchent',\n",
              " 'aux',\n",
              " 'quatre',\n",
              " 'chiens',\n",
              " 'chapeau',\n",
              " '\"',\n",
              " 'vers',\n",
              " 'football',\n",
              " 'ville',\n",
              " 'noire',\n",
              " 'mur',\n",
              " 'sous',\n",
              " 'autour',\n",
              " 'leurs',\n",
              " 'soleil',\n",
              " 'robe',\n",
              " 'balle',\n",
              " 'font',\n",
              " 'guitare',\n",
              " 'garçons',\n",
              " 'parc',\n",
              " 'course',\n",
              " 'assises',\n",
              " 'sac',\n",
              " 'bois',\n",
              " 'elle',\n",
              " 'ensemble',\n",
              " 'marron',\n",
              " 'scène',\n",
              " 'terre',\n",
              " 'long',\n",
              " 'joueur',\n",
              " 'gars',\n",
              " 'terrain',\n",
              " 'banc',\n",
              " 'maillot',\n",
              " 'vêtue',\n",
              " 'asiatique',\n",
              " 'lui',\n",
              " 'haut',\n",
              " 'jean',\n",
              " 'pantalon',\n",
              " 'tête',\n",
              " 'gris',\n",
              " 'voiture',\n",
              " 'costume',\n",
              " 'très',\n",
              " 'casque',\n",
              " 'dos',\n",
              " 'y',\n",
              " 'verte',\n",
              " 'casquette',\n",
              " 'short',\n",
              " 'couple',\n",
              " 'bord',\n",
              " 'route',\n",
              " 'bébé',\n",
              " 'cheval',\n",
              " 'gros',\n",
              " 'match',\n",
              " 'vêtements',\n",
              " 'bateau',\n",
              " 'extérieur',\n",
              " 'grande',\n",
              " 'sautant',\n",
              " 'téléphone',\n",
              " 'pendant',\n",
              " 'rouges',\n",
              " 'magasin',\n",
              " 'piscine',\n",
              " 'nourriture',\n",
              " 'sable',\n",
              " 'champ',\n",
              " 'prend',\n",
              " 'milieu',\n",
              " 'courant',\n",
              " 'sol',\n",
              " 'leur',\n",
              " 'arbre',\n",
              " 'faire',\n",
              " 'manteau',\n",
              " 'parle',\n",
              " 'sweat',\n",
              " 'noirs',\n",
              " 'passe',\n",
              " 'journée',\n",
              " 'blancs',\n",
              " 'bras',\n",
              " 'skateboard',\n",
              " 'contre',\n",
              " 'visage',\n",
              " 'vieil',\n",
              " 'courent',\n",
              " 'âgé',\n",
              " 'blonde',\n",
              " 'équipe',\n",
              " 'face',\n",
              " 'souriant',\n",
              " 'restaurant',\n",
              " 'tennis',\n",
              " 'eux',\n",
              " 'micro',\n",
              " 'salle',\n",
              " 'lit',\n",
              " 'sourit',\n",
              " 'portable',\n",
              " 'océan',\n",
              " 'mains',\n",
              " 'montagne',\n",
              " 'chemin',\n",
              " 'pose',\n",
              " 'moto',\n",
              " 'cinq',\n",
              " 'arbres',\n",
              " 'piste',\n",
              " 'fleurs',\n",
              " 'arrière',\n",
              " 'entre',\n",
              " 'cuisine',\n",
              " 'jeu',\n",
              " 'âgée',\n",
              " 'plan',\n",
              " 'tente',\n",
              " 'travaille',\n",
              " 'baseball',\n",
              " 'marché',\n",
              " 'plein',\n",
              " 'bain',\n",
              " 'travers',\n",
              " 'après',\n",
              " 'où',\n",
              " 'beaucoup',\n",
              " 'parlant',\n",
              " 'tenues',\n",
              " \"quelqu'\",\n",
              " 'vêtus',\n",
              " 'jouer',\n",
              " 'être',\n",
              " 'appareil',\n",
              " 'attraper',\n",
              " 'joueurs',\n",
              " 'nuit',\n",
              " 'travaillant',\n",
              " 'camion',\n",
              " 'jouet',\n",
              " 'nu',\n",
              " 'ou',\n",
              " 'ouvriers',\n",
              " 'rayé',\n",
              " 'planche',\n",
              " 'tiennent',\n",
              " 'débardeur',\n",
              " 'habillé',\n",
              " 'livre',\n",
              " 'rampe',\n",
              " 'gueule',\n",
              " 'pièce',\n",
              " 'travaillent',\n",
              " 'bus',\n",
              " 'intérieur',\n",
              " 'rivière',\n",
              " 'américain',\n",
              " 'blanches',\n",
              " 'bleus',\n",
              " 'adultes',\n",
              " 'musique',\n",
              " 'rocher',\n",
              " 'violet',\n",
              " 'ils',\n",
              " 'semble',\n",
              " 'torse',\n",
              " 'cycliste',\n",
              " 'quelques',\n",
              " 'fenêtre',\n",
              " 'petits',\n",
              " 'pierre',\n",
              " 'ce',\n",
              " 'chaise',\n",
              " 'danse',\n",
              " 'maison',\n",
              " 'bas',\n",
              " 'pont',\n",
              " 'spectateurs',\n",
              " 'lac',\n",
              " 'plus',\n",
              " 'utilise',\n",
              " 'basket',\n",
              " 'chante',\n",
              " 'clôture',\n",
              " 'pelouse',\n",
              " 'objectif',\n",
              " 'corde',\n",
              " 'asiatiques',\n",
              " 'bonnet',\n",
              " 'gilet',\n",
              " 'public',\n",
              " 'marches',\n",
              " 'objet',\n",
              " 'costumes',\n",
              " 'fête',\n",
              " 'balançoire',\n",
              " 'glace',\n",
              " 'stand',\n",
              " 'zone',\n",
              " 'manger',\n",
              " 'montre',\n",
              " 'métro',\n",
              " 'polo',\n",
              " 'posent',\n",
              " 'vague',\n",
              " 'figure',\n",
              " 'prenant',\n",
              " 'allongé',\n",
              " 'chariot',\n",
              " 'sacs',\n",
              " 'escalade',\n",
              " 'regarder',\n",
              " 'couleur',\n",
              " 'point',\n",
              " 'bâton',\n",
              " 'forêt',\n",
              " 'parlent',\n",
              " 'pieds',\n",
              " 'briques',\n",
              " 'machine',\n",
              " 'oranges',\n",
              " 'trouve',\n",
              " 'chaussures',\n",
              " 'famille',\n",
              " 'beige',\n",
              " 'ordinateur',\n",
              " 'colline',\n",
              " 'passent',\n",
              " 'quai',\n",
              " 'base',\n",
              " 'escalier',\n",
              " 'carreaux',\n",
              " 'jaunes',\n",
              " 'longs',\n",
              " 'prendre',\n",
              " 'pull',\n",
              " 'verre',\n",
              " 'casques',\n",
              " 'fontaine',\n",
              " 'peint',\n",
              " 'shirts',\n",
              " 'vieux',\n",
              " 'canapé',\n",
              " 'avant',\n",
              " 'ball',\n",
              " 'combinaison',\n",
              " 'elles',\n",
              " 'enneigée',\n",
              " 'photos',\n",
              " 'bruns',\n",
              " 'noires',\n",
              " 'pente',\n",
              " 'café',\n",
              " 'hockey',\n",
              " 'parapluie',\n",
              " 'parmi',\n",
              " 'prépare',\n",
              " 'tous',\n",
              " 'graffitis',\n",
              " 'alors',\n",
              " 'blond',\n",
              " 'dont',\n",
              " 'ensoleillée',\n",
              " 'sorte',\n",
              " 'bleues',\n",
              " 'papier',\n",
              " 'saut',\n",
              " 'travail',\n",
              " 'utilisant',\n",
              " 'vif',\n",
              " 'moyen',\n",
              " 'ont',\n",
              " 'cette',\n",
              " 'gilets',\n",
              " 'sommet',\n",
              " 'bouche',\n",
              " 'dansent',\n",
              " 'frisbee',\n",
              " 'fruits',\n",
              " 'ouvrier',\n",
              " 'pêche',\n",
              " 'attendent',\n",
              " 'barbe',\n",
              " 'feu',\n",
              " 'loin',\n",
              " 'adulte',\n",
              " 'nombreux',\n",
              " 'numéro',\n",
              " 'attendant',\n",
              " 'béton',\n",
              " 'frapper',\n",
              " 'genoux',\n",
              " 'panneau',\n",
              " 'pied',\n",
              " 'pom',\n",
              " 'statue',\n",
              " 'vêtues',\n",
              " 'bureau',\n",
              " 'cour',\n",
              " 'cyclistes',\n",
              " 'hiver',\n",
              " 'nus',\n",
              " 'plastique',\n",
              " 'tas',\n",
              " 'airs',\n",
              " 'attend',\n",
              " 'descend',\n",
              " 'pleine',\n",
              " 'proximité',\n",
              " 'toit',\n",
              " 'uniforme',\n",
              " 'vue',\n",
              " 'instruments',\n",
              " 'passant',\n",
              " 'dansant',\n",
              " 'essayant',\n",
              " 'ligne',\n",
              " 'lisant',\n",
              " 'posant',\n",
              " 'ciel',\n",
              " 'drapeau',\n",
              " 'feuilles',\n",
              " 'foot',\n",
              " 'pancarte',\n",
              " 'rochers',\n",
              " 'spectacle',\n",
              " 'tire',\n",
              " 'journal',\n",
              " 'montagnes',\n",
              " 'monte',\n",
              " 'portent',\n",
              " 'six',\n",
              " 'uniformes',\n",
              " 'âge',\n",
              " 'événement',\n",
              " 'maillots',\n",
              " 'met',\n",
              " 'mère',\n",
              " 'sautent',\n",
              " 'chaises',\n",
              " 'clair',\n",
              " 'défilé',\n",
              " 'fréquentée',\n",
              " 'métallique',\n",
              " 'père',\n",
              " 'sport',\n",
              " 'sécurité',\n",
              " 'traverse',\n",
              " 'yeux',\n",
              " 'foncés',\n",
              " 'forme',\n",
              " 'grosse',\n",
              " 'jupe',\n",
              " 'mangeant',\n",
              " 'nombreuses',\n",
              " 'place',\n",
              " 'promène',\n",
              " 'structure',\n",
              " 'concert',\n",
              " 'dort',\n",
              " 'lancer',\n",
              " 'sauter',\n",
              " 'ski',\n",
              " 'sourient',\n",
              " 'tapis',\n",
              " 'bière',\n",
              " 'chapeaux',\n",
              " 'classe',\n",
              " 'coin',\n",
              " 'fauteuil',\n",
              " 'pousse',\n",
              " 'prennent',\n",
              " 'rempli',\n",
              " 'repas',\n",
              " 'rodéo',\n",
              " 'belle',\n",
              " 'lance',\n",
              " 'vélos',\n",
              " 'comme',\n",
              " 'habillée',\n",
              " 'jeux',\n",
              " 'sentier',\n",
              " 'voitures',\n",
              " 'écrit',\n",
              " 'étant',\n",
              " 'brune',\n",
              " 'depuis',\n",
              " 'nombre',\n",
              " 'noël',\n",
              " 'panier',\n",
              " 'bar',\n",
              " 'compétition',\n",
              " 'légumes',\n",
              " 'toboggan',\n",
              " 'cow',\n",
              " 'gauche',\n",
              " 'glisse',\n",
              " 'instrument',\n",
              " 'sans',\n",
              " 'tablier',\n",
              " 'équilibre',\n",
              " 'donne',\n",
              " 'entouré',\n",
              " 'aide',\n",
              " 'barbu',\n",
              " 'blonds',\n",
              " 'buvant',\n",
              " 'chantant',\n",
              " 'cigarette',\n",
              " 'coup',\n",
              " 'couleurs',\n",
              " 'cours',\n",
              " 'même',\n",
              " 'paysage',\n",
              " 'pluie',\n",
              " 'skateur',\n",
              " 'vieille',\n",
              " 'apprête',\n",
              " 'ballons',\n",
              " 'bottes',\n",
              " 'boy',\n",
              " 'dame',\n",
              " 'gants',\n",
              " 'morceau',\n",
              " 'pilote',\n",
              " 'surf',\n",
              " 'verts',\n",
              " 'amis',\n",
              " 'artiste',\n",
              " 'battent',\n",
              " 'colorés',\n",
              " 'côte',\n",
              " 'doigt',\n",
              " 'drapeaux',\n",
              " 'frappe',\n",
              " 'grise',\n",
              " 'habillés',\n",
              " 'longue',\n",
              " 'rocheuse',\n",
              " 'véhicule',\n",
              " 'âgées',\n",
              " 'falaise',\n",
              " 'jardin',\n",
              " 'poteau',\n",
              " 'produits',\n",
              " 'traversent',\n",
              " 'bien',\n",
              " 'construction',\n",
              " 'roulant',\n",
              " 'bouteille',\n",
              " 'bâtiments',\n",
              " 'petites',\n",
              " 'préparant',\n",
              " 'rassemblent',\n",
              " 'snowboardeur',\n",
              " 'centre',\n",
              " 'foncé',\n",
              " 'mange',\n",
              " 'martiaux',\n",
              " 'peinture',\n",
              " 'seau',\n",
              " 'surfeur',\n",
              " 'arts',\n",
              " 'bowling',\n",
              " 'caméra',\n",
              " 'courses',\n",
              " 'grands',\n",
              " 'musiciens',\n",
              " 'parler',\n",
              " 'policier',\n",
              " 'robes',\n",
              " 'temps',\n",
              " 'vendeur',\n",
              " 'vitrine',\n",
              " 'art',\n",
              " 'but',\n",
              " 'chevaux',\n",
              " 'fils',\n",
              " 'masque',\n",
              " 'vertes',\n",
              " 'boule',\n",
              " 'capuche',\n",
              " 'chantier',\n",
              " 'couverture',\n",
              " 'lire',\n",
              " 'mangent',\n",
              " 'nage',\n",
              " 'ayant',\n",
              " 'longues',\n",
              " 'pas',\n",
              " 'pavée',\n",
              " 'penche',\n",
              " 'peu',\n",
              " 'préparent',\n",
              " 'traversant',\n",
              " 'collier',\n",
              " 'espace',\n",
              " 'filet',\n",
              " 'lieu',\n",
              " 'ouverte',\n",
              " 'roses',\n",
              " 'skieur',\n",
              " 'échelle',\n",
              " 'étendue',\n",
              " 'avoir',\n",
              " 'bulles',\n",
              " 'canne',\n",
              " 'immeuble',\n",
              " 'manches',\n",
              " 'matériel',\n",
              " 'motocross',\n",
              " 'orchestre',\n",
              " 'premier',\n",
              " 'âgés',\n",
              " 'avion',\n",
              " 'bikini',\n",
              " 'descendant',\n",
              " 'différentes',\n",
              " 'photographe',\n",
              " 'pompiers',\n",
              " 'poussette',\n",
              " 'rayée',\n",
              " 'rivage',\n",
              " 'vend',\n",
              " 'écran',\n",
              " 'adolescent',\n",
              " 'allongée',\n",
              " 'batterie',\n",
              " 'discutent',\n",
              " 'droite',\n",
              " 'gâteau',\n",
              " 'parking',\n",
              " 'poisson',\n",
              " 'remplie',\n",
              " 'tirant',\n",
              " 'vagues',\n",
              " 'mer',\n",
              " 'sombre',\n",
              " 'tour',\n",
              " 'vendant',\n",
              " 'équipes',\n",
              " 'boissons',\n",
              " 'conversation',\n",
              " 'essaie',\n",
              " 'marcher',\n",
              " 'violette',\n",
              " 'coucher',\n",
              " 'couvert',\n",
              " 'laisse',\n",
              " 'on',\n",
              " 'recouverte',\n",
              " 'skate',\n",
              " 'taureau',\n",
              " 'terrasse',\n",
              " 'traverser',\n",
              " 'violon',\n",
              " 'été',\n",
              " 'animée',\n",
              " 'boue',\n",
              " 'cascade',\n",
              " 'clients',\n",
              " 'comptoir',\n",
              " 'coupe',\n",
              " 'station',\n",
              " 'tableau',\n",
              " 'affiche',\n",
              " 'allée',\n",
              " 'argent',\n",
              " 'boisson',\n",
              " 'mariage',\n",
              " 'oiseau',\n",
              " 'pause',\n",
              " 'policiers',\n",
              " 'attrape',\n",
              " 'chauve',\n",
              " 'ciment',\n",
              " 'coloré',\n",
              " 'cordes',\n",
              " 'cravate',\n",
              " 'dents',\n",
              " 'mariée',\n",
              " 'montrant',\n",
              " 'peluche',\n",
              " 'roule',\n",
              " 'vient',\n",
              " 'vole',\n",
              " 'écharpe',\n",
              " 'étudiants',\n",
              " 'joueuse',\n",
              " 'objets',\n",
              " 'pelle',\n",
              " 'promenant',\n",
              " 'randonnée',\n",
              " 'rassemblées',\n",
              " 'roller',\n",
              " 'tasse',\n",
              " 'voie',\n",
              " 'volley',\n",
              " 'coureur',\n",
              " 'coureurs',\n",
              " 'cuir',\n",
              " 'foulard',\n",
              " 'monsieur',\n",
              " 'recouvert',\n",
              " 'rit',\n",
              " 'rousse',\n",
              " 'sort',\n",
              " 'surfe',\n",
              " 'électrique',\n",
              " 'adolescents',\n",
              " 'animal',\n",
              " 'barbecue',\n",
              " \"c'\",\n",
              " 'conduit',\n",
              " 'jouets',\n",
              " 'miroir',\n",
              " 'métal',\n",
              " 'trou',\n",
              " ' ',\n",
              " 'chemisier',\n",
              " 'clown',\n",
              " 'hors',\n",
              " 'juste',\n",
              " 'lève',\n",
              " 'marathon',\n",
              " 'membres',\n",
              " 'motard',\n",
              " 'ombre',\n",
              " 'paroi',\n",
              " 'vestes',\n",
              " 'arbitre',\n",
              " 'discutant',\n",
              " 'golf',\n",
              " 'jette',\n",
              " 'ne',\n",
              " 'passage',\n",
              " 'pierres',\n",
              " 'promenade',\n",
              " 'salon',\n",
              " 'stade',\n",
              " 'suspendu',\n",
              " 'tables',\n",
              " 'écouteurs',\n",
              " 'chef',\n",
              " 'fond',\n",
              " \"jusqu'\",\n",
              " 'manège',\n",
              " 'prairie',\n",
              " 'sandales',\n",
              " 'taille',\n",
              " 'balance',\n",
              " 'boit',\n",
              " 'courts',\n",
              " 'endroit',\n",
              " 'habillées',\n",
              " 'microscope',\n",
              " 'poussant',\n",
              " 'profonde',\n",
              " 'ruelle',\n",
              " 'viande',\n",
              " 'vive',\n",
              " 'volant',\n",
              " 'église',\n",
              " 'épaules',\n",
              " 'accordéon',\n",
              " 'désert',\n",
              " 'effectuant',\n",
              " 'fume',\n",
              " 'peut',\n",
              " 'plantes',\n",
              " 'protection',\n",
              " 'quartier',\n",
              " 'seul',\n",
              " 'snowboard',\n",
              " 'souriante',\n",
              " 'tunnel',\n",
              " 'barrière',\n",
              " 'batte',\n",
              " 'chat',\n",
              " 'kaki',\n",
              " 'kayak',\n",
              " 'mouvement',\n",
              " 'pays',\n",
              " 'raquette',\n",
              " 'représentant',\n",
              " 'rues',\n",
              " 'surplombant',\n",
              " 'toutes',\n",
              " 'accroupi',\n",
              " 'bâtons',\n",
              " 'chinois',\n",
              " 'courir',\n",
              " 'donnant',\n",
              " 'laboratoire',\n",
              " 'multicolore',\n",
              " 'park',\n",
              " 'réunis',\n",
              " 'sauvetage',\n",
              " 'sculpture',\n",
              " 'signe',\n",
              " 'tronc',\n",
              " 'tuyau',\n",
              " 'virage',\n",
              " 'bordée',\n",
              " 'boîte',\n",
              " 'caisse',\n",
              " 'cet',\n",
              " 'colorée',\n",
              " 'cérémonie',\n",
              " 'karaté',\n",
              " 'nageant',\n",
              " 'police',\n",
              " 'profitant',\n",
              " 'rangée',\n",
              " 'repose',\n",
              " 'scooter',\n",
              " 'sieste',\n",
              " 'trampoline',\n",
              " 'travailler',\n",
              " 'télescope',\n",
              " 'va',\n",
              " 'énorme',\n",
              " 'balustrade',\n",
              " 'batteur',\n",
              " 'effectue',\n",
              " 'escaliers',\n",
              " 'fumant',\n",
              " 'grimpe',\n",
              " 'jambe',\n",
              " 'participant',\n",
              " 'piétons',\n",
              " 'produit',\n",
              " 'promènent',\n",
              " 'remorque',\n",
              " 'ruisseau',\n",
              " 'semblent',\n",
              " 'vendre',\n",
              " 'vide',\n",
              " 'volleyball',\n",
              " 'épaule',\n",
              " 'campagne',\n",
              " 'endormi',\n",
              " 'entourée',\n",
              " 'entrée',\n",
              " 'girls',\n",
              " 'gymnase',\n",
              " 'hauts',\n",
              " 'motifs',\n",
              " 'nettoie',\n",
              " 'nettoyant',\n",
              " 'nez',\n",
              " 'rient',\n",
              " 'roulettes',\n",
              " 'soirée',\n",
              " 'soit',\n",
              " 'solitaire',\n",
              " 'tissu',\n",
              " 'touche',\n",
              " 'tout-petit',\n",
              " 'têtes',\n",
              " 'aire',\n",
              " 'barre',\n",
              " 'bol',\n",
              " 'bondée',\n",
              " 'brosse',\n",
              " 'cadre',\n",
              " 'cercle',\n",
              " 'chemises',\n",
              " 'colorées',\n",
              " 'descendent',\n",
              " 'dessous',\n",
              " 'doigts',\n",
              " 'eaux',\n",
              " 'enneigé',\n",
              " 'escaladant',\n",
              " 'examine',\n",
              " 'gardien',\n",
              " 'lumière',\n",
              " 'lumières',\n",
              " 'paille',\n",
              " 'poubelle',\n",
              " 'projet',\n",
              " 'riant',\n",
              " 'roue',\n",
              " 'roux',\n",
              " 'sept',\n",
              " 'uns',\n",
              " 'voici',\n",
              " 'voit',\n",
              " 'écoute',\n",
              " 'balaie',\n",
              " 'certains',\n",
              " 'ces',\n",
              " 'couper',\n",
              " 'façade',\n",
              " 'gare',\n",
              " 'glissant',\n",
              " 'gonflable',\n",
              " 'gymnaste',\n",
              " 'mettant',\n",
              " 'militaire',\n",
              " 'moment',\n",
              " 'pantalons',\n",
              " 'participent',\n",
              " 'penché',\n",
              " 'roulent',\n",
              " 'sale',\n",
              " 'soldats',\n",
              " 'utilisent',\n",
              " 'vin',\n",
              " 'école',\n",
              " 'équipement',\n",
              " 'adverse',\n",
              " 'afro-américain',\n",
              " 'balcon',\n",
              " 'bondé',\n",
              " 'canoë',\n",
              " 'combat',\n",
              " 'coupant',\n",
              " 'divers',\n",
              " 'façon',\n",
              " 'figures',\n",
              " 'fresque',\n",
              " 'gril',\n",
              " 'guitariste',\n",
              " 'haute',\n",
              " 'hautes',\n",
              " 'jambes',\n",
              " 'jetée',\n",
              " 'lanceur',\n",
              " 'lançant',\n",
              " 'manteaux',\n",
              " 'marteau',\n",
              " 'montent',\n",
              " 'obstacle',\n",
              " 'peignant',\n",
              " 'pompier',\n",
              " 'randonneur',\n",
              " 'randonneurs',\n",
              " 'shorts',\n",
              " 'type',\n",
              " 'écoutant',\n",
              " 'éloigne',\n",
              " 'animaux',\n",
              " 'appuie',\n",
              " 'articles',\n",
              " 'bagages',\n",
              " 'cou',\n",
              " 'couché',\n",
              " 'linge',\n",
              " 'livres',\n",
              " 'monde',\n",
              " 'new',\n",
              " 'nouveau',\n",
              " 'oiseaux',\n",
              " 'parcours',\n",
              " 'partie',\n",
              " 'plat',\n",
              " 'queue',\n",
              " 'rassemblés',\n",
              " 'ruban',\n",
              " 'réparer',\n",
              " 'sourire',\n",
              " 'supermarché',\n",
              " 'surface',\n",
              " 'traditionnels',\n",
              " 'travaux',\n",
              " 'vache',\n",
              " ...]"
            ]
          },
          "metadata": {
            "tags": []
          },
          "execution_count": 88
        }
      ]
    },
    {
      "cell_type": "code",
      "metadata": {
        "id": "iKwcWAKRr53e",
        "colab_type": "code",
        "colab": {
          "base_uri": "https://localhost:8080/",
          "height": 29
        },
        "outputId": "604c326d-7601-4587-beed-9c89486b68a4"
      },
      "source": [
        "vars(next(iter(train_iterator))).keys()"
      ],
      "execution_count": null,
      "outputs": [
        {
          "output_type": "execute_result",
          "data": {
            "text/plain": [
              "dict_keys(['batch_size', 'dataset', 'fields', 'input_fields', 'target_fields', 'src', 'trg'])"
            ]
          },
          "metadata": {
            "tags": []
          },
          "execution_count": 99
        }
      ]
    },
    {
      "cell_type": "code",
      "metadata": {
        "id": "dIRUguG7Vqbm",
        "colab_type": "code",
        "colab": {}
      },
      "source": [
        "import torch\n",
        "import torch.nn as nn\n",
        "import torch.nn.functional as F\n",
        "import torch.optim as optim\n",
        "from torch.autograd import Variable as V\n",
        " \n",
        "class RNNModel(nn.Module):\n",
        "    def __init__(self, ntoken, ninp,\n",
        "                 nhid, nlayers, bsz,\n",
        "                 dropout=0.5, tie_weights=True):\n",
        "        super(RNNModel, self).__init__()\n",
        "        self.nhid, self.nlayers, self.bsz = nhid, nlayers, bsz\n",
        "        self.drop = nn.Dropout(dropout)\n",
        "        self.encoder = nn.Embedding(ntoken, ninp)\n",
        "        self.rnn = nn.LSTM(ninp, nhid, nlayers, dropout=dropout)\n",
        "        self.decoder = nn.Linear(nhid, ntoken)\n",
        "        self.init_weights()\n",
        "        self.hidden = self.init_hidden(bsz) # the input is a batched consecutive corpus\n",
        "                                            # therefore, we retain the hidden state across batches\n",
        " \n",
        "    def init_weights(self):\n",
        "        initrange = 0.1\n",
        "        self.encoder.weight.data.uniform_(-initrange, initrange)\n",
        "        self.decoder.bias.data.fill_(0)\n",
        "        self.decoder.weight.data.uniform_(-initrange, initrange)\n",
        " \n",
        "    def forward(self, input):\n",
        "        emb = self.drop(self.encoder(input))\n",
        "        output, self.hidden = self.rnn(emb, self.hidden)\n",
        "        output = self.drop(output)\n",
        "        decoded = self.decoder(output.view(output.size(0)*output.size(1), output.size(2)))\n",
        "        return decoded.view(output.size(0), output.size(1), decoded.size(1))\n",
        " \n",
        "    def init_hidden(self, bsz):\n",
        "        weight = next(self.parameters()).data\n",
        "        return (V(weight.new(self.nlayers, bsz, self.nhid).zero_().cuda()),\n",
        "                V(weight.new(self.nlayers, bsz, self.nhid).zero_()).cuda())\n",
        "  \n",
        "    def reset_history(self):\n",
        "        self.hidden = tuple(V(v.data) for v in self.hidden)"
      ],
      "execution_count": null,
      "outputs": []
    },
    {
      "cell_type": "code",
      "metadata": {
        "id": "qlmtoGD5Vva5",
        "colab_type": "code",
        "colab": {
          "base_uri": "https://localhost:8080/",
          "height": 174
        },
        "outputId": "0343ca63-10b4-49b4-d57d-98dfc8f8be82"
      },
      "source": [
        "weight_matrix = SRC.vocab.vectors\n",
        "\n",
        "model_rnn = RNNModel(weight_matrix.size(0), weight_matrix.size(1), 200, 1, BATCH_SIZE)\n",
        "\n",
        "model_rnn.encoder.weight.data.copy_(weight_matrix)\n",
        "\n",
        "model_rnn.to(DEVICE)"
      ],
      "execution_count": null,
      "outputs": [
        {
          "output_type": "error",
          "ename": "AttributeError",
          "evalue": "ignored",
          "traceback": [
            "\u001b[0;31m---------------------------------------------------------------------------\u001b[0m",
            "\u001b[0;31mAttributeError\u001b[0m                            Traceback (most recent call last)",
            "\u001b[0;32m<ipython-input-101-517c24474187>\u001b[0m in \u001b[0;36m<module>\u001b[0;34m()\u001b[0m\n\u001b[1;32m      1\u001b[0m \u001b[0mweight_matrix\u001b[0m \u001b[0;34m=\u001b[0m \u001b[0mSRC\u001b[0m\u001b[0;34m.\u001b[0m\u001b[0mvocab\u001b[0m\u001b[0;34m.\u001b[0m\u001b[0mvectors\u001b[0m\u001b[0;34m\u001b[0m\u001b[0;34m\u001b[0m\u001b[0m\n\u001b[1;32m      2\u001b[0m \u001b[0;34m\u001b[0m\u001b[0m\n\u001b[0;32m----> 3\u001b[0;31m \u001b[0mmodel_rnn\u001b[0m \u001b[0;34m=\u001b[0m \u001b[0mRNNModel\u001b[0m\u001b[0;34m(\u001b[0m\u001b[0mweight_matrix\u001b[0m\u001b[0;34m.\u001b[0m\u001b[0msize\u001b[0m\u001b[0;34m(\u001b[0m\u001b[0;36m0\u001b[0m\u001b[0;34m)\u001b[0m\u001b[0;34m,\u001b[0m \u001b[0mweight_matrix\u001b[0m\u001b[0;34m.\u001b[0m\u001b[0msize\u001b[0m\u001b[0;34m(\u001b[0m\u001b[0;36m1\u001b[0m\u001b[0;34m)\u001b[0m\u001b[0;34m,\u001b[0m \u001b[0;36m200\u001b[0m\u001b[0;34m,\u001b[0m \u001b[0;36m1\u001b[0m\u001b[0;34m,\u001b[0m \u001b[0mBATCH_SIZE\u001b[0m\u001b[0;34m)\u001b[0m\u001b[0;34m\u001b[0m\u001b[0;34m\u001b[0m\u001b[0m\n\u001b[0m\u001b[1;32m      4\u001b[0m \u001b[0;34m\u001b[0m\u001b[0m\n\u001b[1;32m      5\u001b[0m \u001b[0mmodel_rnn\u001b[0m\u001b[0;34m.\u001b[0m\u001b[0mencoder\u001b[0m\u001b[0;34m.\u001b[0m\u001b[0mweight\u001b[0m\u001b[0;34m.\u001b[0m\u001b[0mdata\u001b[0m\u001b[0;34m.\u001b[0m\u001b[0mcopy_\u001b[0m\u001b[0;34m(\u001b[0m\u001b[0mweight_matrix\u001b[0m\u001b[0;34m)\u001b[0m\u001b[0;34m\u001b[0m\u001b[0;34m\u001b[0m\u001b[0m\n",
            "\u001b[0;31mAttributeError\u001b[0m: 'NoneType' object has no attribute 'size'"
          ]
        }
      ]
    },
    {
      "cell_type": "code",
      "metadata": {
        "id": "_Eqg-kH4kyzz",
        "colab_type": "code",
        "colab": {
          "base_uri": "https://localhost:8080/",
          "height": 29
        },
        "outputId": "574bee61-3d10-46c4-b305-d74f9d09a7b5"
      },
      "source": [
        "print(f'The model has {count_parameters(model_transformer):,} trainable parameters')"
      ],
      "execution_count": null,
      "outputs": [
        {
          "output_type": "stream",
          "text": [
            "The model has 4,583,486 trainable parameters\n"
          ],
          "name": "stdout"
        }
      ]
    },
    {
      "cell_type": "code",
      "metadata": {
        "id": "3TP5Jlk_k3W3",
        "colab_type": "code",
        "colab": {
          "base_uri": "https://localhost:8080/",
          "height": 280
        },
        "outputId": "b153b75f-5f26-4c31-97b5-436b31380de4"
      },
      "source": [
        ""
      ],
      "execution_count": null,
      "outputs": [
        {
          "output_type": "error",
          "ename": "TypeError",
          "evalue": "ignored",
          "traceback": [
            "\u001b[0;31m---------------------------------------------------------------------------\u001b[0m",
            "\u001b[0;31mTypeError\u001b[0m                                 Traceback (most recent call last)",
            "\u001b[0;32m<ipython-input-72-9c8e38e23b88>\u001b[0m in \u001b[0;36m<module>\u001b[0;34m()\u001b[0m\n\u001b[1;32m      1\u001b[0m \u001b[0;32mfor\u001b[0m \u001b[0mepoch\u001b[0m \u001b[0;32min\u001b[0m \u001b[0mrange\u001b[0m\u001b[0;34m(\u001b[0m\u001b[0mN_EPOCHS\u001b[0m\u001b[0;34m)\u001b[0m\u001b[0;34m:\u001b[0m\u001b[0;34m\u001b[0m\u001b[0;34m\u001b[0m\u001b[0m\n\u001b[1;32m      2\u001b[0m     \u001b[0mepoch_start_time\u001b[0m \u001b[0;34m=\u001b[0m \u001b[0mtime\u001b[0m\u001b[0;34m.\u001b[0m\u001b[0mtime\u001b[0m\u001b[0;34m(\u001b[0m\u001b[0;34m)\u001b[0m\u001b[0;34m\u001b[0m\u001b[0;34m\u001b[0m\u001b[0m\n\u001b[0;32m----> 3\u001b[0;31m     \u001b[0mtrain\u001b[0m\u001b[0;34m(\u001b[0m\u001b[0;34m)\u001b[0m\u001b[0;34m\u001b[0m\u001b[0;34m\u001b[0m\u001b[0m\n\u001b[0m\u001b[1;32m      4\u001b[0m     \u001b[0mval_loss\u001b[0m \u001b[0;34m=\u001b[0m \u001b[0mevaluate\u001b[0m\u001b[0;34m(\u001b[0m\u001b[0mmodel_transformer\u001b[0m\u001b[0;34m,\u001b[0m \u001b[0mval_data\u001b[0m\u001b[0;34m)\u001b[0m\u001b[0;34m\u001b[0m\u001b[0;34m\u001b[0m\u001b[0m\n\u001b[1;32m      5\u001b[0m     \u001b[0mprint\u001b[0m\u001b[0;34m(\u001b[0m\u001b[0;34m'-'\u001b[0m \u001b[0;34m*\u001b[0m \u001b[0;36m89\u001b[0m\u001b[0;34m)\u001b[0m\u001b[0;34m\u001b[0m\u001b[0;34m\u001b[0m\u001b[0m\n",
            "\u001b[0;32m<ipython-input-71-862c0a82a8a5>\u001b[0m in \u001b[0;36mtrain\u001b[0;34m()\u001b[0m\n\u001b[1;32m      8\u001b[0m \u001b[0;34m\u001b[0m\u001b[0m\n\u001b[1;32m      9\u001b[0m     \u001b[0;32mfor\u001b[0m \u001b[0mbatch\u001b[0m\u001b[0;34m,\u001b[0m \u001b[0mi\u001b[0m \u001b[0;32min\u001b[0m \u001b[0menumerate\u001b[0m\u001b[0;34m(\u001b[0m\u001b[0mtrain_iterator\u001b[0m\u001b[0;34m)\u001b[0m\u001b[0;34m:\u001b[0m\u001b[0;34m\u001b[0m\u001b[0;34m\u001b[0m\u001b[0m\n\u001b[0;32m---> 10\u001b[0;31m         \u001b[0mdata\u001b[0m\u001b[0;34m,\u001b[0m \u001b[0mtargets\u001b[0m \u001b[0;34m=\u001b[0m \u001b[0mget_batch\u001b[0m\u001b[0;34m(\u001b[0m\u001b[0mtrain_data\u001b[0m\u001b[0;34m,\u001b[0m \u001b[0mi\u001b[0m\u001b[0;34m)\u001b[0m\u001b[0;34m\u001b[0m\u001b[0;34m\u001b[0m\u001b[0m\n\u001b[0m\u001b[1;32m     11\u001b[0m         \u001b[0moptimizer\u001b[0m\u001b[0;34m.\u001b[0m\u001b[0mzero_grad\u001b[0m\u001b[0;34m(\u001b[0m\u001b[0;34m)\u001b[0m\u001b[0;34m\u001b[0m\u001b[0;34m\u001b[0m\u001b[0m\n\u001b[1;32m     12\u001b[0m         \u001b[0moutput\u001b[0m \u001b[0;34m=\u001b[0m \u001b[0mmodel_transformer\u001b[0m\u001b[0;34m(\u001b[0m\u001b[0mdata\u001b[0m\u001b[0;34m)\u001b[0m\u001b[0;34m\u001b[0m\u001b[0;34m\u001b[0m\u001b[0m\n",
            "\u001b[0;32m<ipython-input-50-d47dfb08b2f5>\u001b[0m in \u001b[0;36mget_batch\u001b[0;34m(source, i)\u001b[0m\n\u001b[1;32m      1\u001b[0m \u001b[0;32mdef\u001b[0m \u001b[0mget_batch\u001b[0m\u001b[0;34m(\u001b[0m\u001b[0msource\u001b[0m\u001b[0;34m,\u001b[0m \u001b[0mi\u001b[0m\u001b[0;34m)\u001b[0m\u001b[0;34m:\u001b[0m \u001b[0;31m#Break source data into chunks of size BATCH_LEN\u001b[0m\u001b[0;34m\u001b[0m\u001b[0;34m\u001b[0m\u001b[0m\n\u001b[0;32m----> 2\u001b[0;31m     \u001b[0mseq_len\u001b[0m \u001b[0;34m=\u001b[0m \u001b[0mmin\u001b[0m\u001b[0;34m(\u001b[0m\u001b[0mBATCH_LEN\u001b[0m\u001b[0;34m,\u001b[0m \u001b[0mlen\u001b[0m\u001b[0;34m(\u001b[0m\u001b[0msource\u001b[0m\u001b[0;34m)\u001b[0m \u001b[0;34m-\u001b[0m \u001b[0;36m1\u001b[0m \u001b[0;34m-\u001b[0m \u001b[0mi\u001b[0m\u001b[0;34m)\u001b[0m\u001b[0;34m\u001b[0m\u001b[0;34m\u001b[0m\u001b[0m\n\u001b[0m\u001b[1;32m      3\u001b[0m     \u001b[0mdata\u001b[0m \u001b[0;34m=\u001b[0m \u001b[0msource\u001b[0m\u001b[0;34m[\u001b[0m\u001b[0mi\u001b[0m\u001b[0;34m:\u001b[0m\u001b[0mi\u001b[0m\u001b[0;34m+\u001b[0m\u001b[0mseq_len\u001b[0m\u001b[0;34m]\u001b[0m\u001b[0;34m\u001b[0m\u001b[0;34m\u001b[0m\u001b[0m\n\u001b[1;32m      4\u001b[0m     \u001b[0mtarget\u001b[0m \u001b[0;34m=\u001b[0m \u001b[0msource\u001b[0m\u001b[0;34m[\u001b[0m\u001b[0mi\u001b[0m\u001b[0;34m+\u001b[0m\u001b[0;36m1\u001b[0m\u001b[0;34m:\u001b[0m\u001b[0mi\u001b[0m\u001b[0;34m+\u001b[0m\u001b[0;36m1\u001b[0m\u001b[0;34m+\u001b[0m\u001b[0mseq_len\u001b[0m\u001b[0;34m]\u001b[0m\u001b[0;34m.\u001b[0m\u001b[0mview\u001b[0m\u001b[0;34m(\u001b[0m\u001b[0;34m-\u001b[0m\u001b[0;36m1\u001b[0m\u001b[0;34m)\u001b[0m\u001b[0;34m\u001b[0m\u001b[0;34m\u001b[0m\u001b[0m\n\u001b[1;32m      5\u001b[0m     \u001b[0;32mreturn\u001b[0m \u001b[0mdata\u001b[0m\u001b[0;34m,\u001b[0m \u001b[0mtarget\u001b[0m\u001b[0;34m\u001b[0m\u001b[0;34m\u001b[0m\u001b[0m\n",
            "\u001b[0;31mTypeError\u001b[0m: unsupported operand type(s) for -: 'int' and 'Batch'"
          ]
        }
      ]
    },
    {
      "cell_type": "code",
      "metadata": {
        "id": "laRy9YmGXL2T",
        "colab_type": "code",
        "colab": {}
      },
      "source": [
        "y_train[0],text_train[0]"
      ],
      "execution_count": null,
      "outputs": []
    },
    {
      "cell_type": "code",
      "metadata": {
        "id": "2sG0cAlpcfsV",
        "colab_type": "code",
        "colab": {}
      },
      "source": [
        ""
      ],
      "execution_count": null,
      "outputs": []
    }
  ]
}
