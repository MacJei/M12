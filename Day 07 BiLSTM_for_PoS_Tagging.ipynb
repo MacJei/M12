{
  "nbformat": 4,
  "nbformat_minor": 0,
  "metadata": {
    "kernelspec": {
      "name": "python3",
      "display_name": "Python 3"
    },
    "colab": {
      "name": "Copy of practice_BiLSTM_for_PoS_Tagging.ipynb",
      "provenance": [],
      "include_colab_link": true
    },
    "accelerator": "GPU"
  },
  "cells": [
    {
      "cell_type": "markdown",
      "metadata": {
        "id": "view-in-github",
        "colab_type": "text"
      },
      "source": [
        "<a href=\"https://colab.research.google.com/github/lagom-QB/M12/blob/master/Day%2007%20BiLSTM_for_PoS_Tagging.ipynb\" target=\"_parent\"><img src=\"https://colab.research.google.com/assets/colab-badge.svg\" alt=\"Open In Colab\"/></a>"
      ]
    },
    {
      "cell_type": "markdown",
      "metadata": {
        "id": "LWUyom9lW5_C",
        "colab_type": "text"
      },
      "source": [
        "## Practice: BiLSTM for PoS Tagging\n",
        "*This notebook is based on [open-source implementation](https://github.com/bentrevett/pytorch-pos-tagging) of PoS Tagging in PyTorch.*\n",
        "\n",
        "### Introduction\n",
        "\n",
        "In this series we'll be building a machine learning model that produces an output for every element in an input sequence, using PyTorch and TorchText. Specifically, we will be inputting a sequence of text and the model will output a part-of-speech (PoS) tag for each token in the input text. This can also be used for named entity recognition (NER), where the output for each token will be what type of entity, if any, the token is.\n",
        "\n",
        "In this notebook, we'll be implementing a multi-layer bi-directional LSTM (BiLSTM) to predict PoS tags using the Universal Dependencies English Web Treebank (UDPOS) dataset.\n",
        "\n",
        "### Preparing Data\n",
        "\n",
        "First, let's import the necessary Python modules."
      ]
    },
    {
      "cell_type": "code",
      "metadata": {
        "id": "nAELow-8W5_G",
        "colab_type": "code",
        "colab": {}
      },
      "source": [
        "import torch\n",
        "import torch.nn as nn\n",
        "import torch.optim as optim\n",
        "\n",
        "from torchtext import data\n",
        "from torchtext import datasets\n",
        "\n",
        "import spacy\n",
        "import numpy as np\n",
        "\n",
        "import time\n",
        "import random"
      ],
      "execution_count": 0,
      "outputs": []
    },
    {
      "cell_type": "markdown",
      "metadata": {
        "id": "Hp31lzk2W5_a",
        "colab_type": "text"
      },
      "source": [
        "Next, we'll set the random seeds for reproducability."
      ]
    },
    {
      "cell_type": "code",
      "metadata": {
        "id": "e7lzrvjTW5_m",
        "colab_type": "code",
        "colab": {}
      },
      "source": [
        "SEED = 1234\n",
        "\n",
        "random.seed(SEED)\n",
        "np.random.seed(SEED)\n",
        "torch.manual_seed(SEED)\n",
        "torch.backends.cudnn.deterministic = True"
      ],
      "execution_count": 0,
      "outputs": []
    },
    {
      "cell_type": "markdown",
      "metadata": {
        "id": "qms22lNPW5_6",
        "colab_type": "text"
      },
      "source": [
        "One of the key parts of TorchText is the `Field`. The `Field` handles how your dataset is processed.\n",
        "\n",
        "Our `TEXT` field handles how the text that we need to tag is dealt with. All we do here is set `lower = True` which lowercases all of the text.\n",
        "\n",
        "Next we'll define the `Fields` for the tags. This dataset actually has two different sets of tags, [universal dependency (UD) tags](https://universaldependencies.org/u/pos/) and [Penn Treebank (PTB) tags](https://www.sketchengine.eu/penn-treebank-tagset/). We'll only train our model on the UD tags, but will load the PTB tags to show how they could be used instead.\n",
        "\n",
        "`UD_TAGS` handles how the UD tags should be handled. Our `TEXT` vocabulary - which we'll build later - will have *unknown* tokens in it, i.e. tokens that are not within our vocabulary. However, we won't have unknown tags as we are dealing with a finite set of possible tags. TorchText `Fields` initialize a default unknown token, `<unk>`, which we remove by setting `unk_token = None`.\n",
        "\n",
        "`PTB_TAGS` does the same as `UD_TAGS`, but handles the PTB tags instead."
      ]
    },
    {
      "cell_type": "code",
      "metadata": {
        "id": "3G_dOgeEW6AB",
        "colab_type": "code",
        "colab": {}
      },
      "source": [
        "TEXT = data.Field(lower = True)\n",
        "UD_TAGS = data.Field(unk_token = None)\n",
        "PTB_TAGS = data.Field(unk_token = None)"
      ],
      "execution_count": 0,
      "outputs": []
    },
    {
      "cell_type": "markdown",
      "metadata": {
        "id": "GA3Gz0GaW6AO",
        "colab_type": "text"
      },
      "source": [
        "We then define `fields`, which handles passing our fields to the dataset.\n",
        "\n",
        "Note that order matters, if you only wanted to load the PTB tags your field would be:\n",
        "\n",
        "```\n",
        "fields = ((\"text\", TEXT), (None, None), (\"ptbtags\", PTB_TAGS))\n",
        "```\n",
        "\n",
        "Where `None` tells TorchText to not load those tags."
      ]
    },
    {
      "cell_type": "code",
      "metadata": {
        "id": "mq5XyJBkW6AQ",
        "colab_type": "code",
        "colab": {}
      },
      "source": [
        "fields = ((\"text\", TEXT), (\"udtags\", UD_TAGS), (\"ptbtags\", PTB_TAGS))"
      ],
      "execution_count": 0,
      "outputs": []
    },
    {
      "cell_type": "markdown",
      "metadata": {
        "id": "X-PXPhi5W6Ap",
        "colab_type": "text"
      },
      "source": [
        "Next, we load the UDPOS dataset using our defined fields."
      ]
    },
    {
      "cell_type": "code",
      "metadata": {
        "id": "A2Vqhl8RW6Ar",
        "colab_type": "code",
        "colab": {}
      },
      "source": [
        "train_data, valid_data, test_data = datasets.UDPOS.splits(fields)"
      ],
      "execution_count": 0,
      "outputs": []
    },
    {
      "cell_type": "markdown",
      "metadata": {
        "id": "QdFv9JohW6A9",
        "colab_type": "text"
      },
      "source": [
        "We can check how many examples are in each section of the dataset by checking their length."
      ]
    },
    {
      "cell_type": "code",
      "metadata": {
        "id": "mKUPb1FhW6A_",
        "colab_type": "code",
        "outputId": "436b744e-c6ef-4308-8a0f-6647b14ba675",
        "colab": {
          "base_uri": "https://localhost:8080/",
          "height": 52
        }
      },
      "source": [
        "print(f\"Number of training examples: {len(train_data)}\")\n",
        "print(f\"Number of validation examples: {len(valid_data)}\")\n",
        "print(f\"Number of testing examples: {len(test_data)}\")"
      ],
      "execution_count": 0,
      "outputs": [
        {
          "output_type": "stream",
          "text": [
            "Number of training examples: 12543\n",
            "Number of validation examples: 2002\n",
            "Number of testing examples: 2077\n"
          ],
          "name": "stdout"
        }
      ]
    },
    {
      "cell_type": "code",
      "metadata": {
        "id": "COyZs0ZHW6BI",
        "colab_type": "code",
        "colab": {}
      },
      "source": [
        ""
      ],
      "execution_count": 0,
      "outputs": []
    },
    {
      "cell_type": "markdown",
      "metadata": {
        "id": "CcOO_JYxW6BP",
        "colab_type": "text"
      },
      "source": [
        "Let's print out an example:"
      ]
    },
    {
      "cell_type": "code",
      "metadata": {
        "id": "eSCPkK8mW6BR",
        "colab_type": "code",
        "outputId": "0ab91c9d-8421-4f95-d2a3-b3cde510eb8d",
        "colab": {
          "base_uri": "https://localhost:8080/",
          "height": 49
        }
      },
      "source": [
        "print(vars(train_data.examples[0]))"
      ],
      "execution_count": 0,
      "outputs": [
        {
          "output_type": "stream",
          "text": [
            "{'text': ['al', '-', 'zaman', ':', 'american', 'forces', 'killed', 'shaikh', 'abdullah', 'al', '-', 'ani', ',', 'the', 'preacher', 'at', 'the', 'mosque', 'in', 'the', 'town', 'of', 'qaim', ',', 'near', 'the', 'syrian', 'border', '.'], 'udtags': ['PROPN', 'PUNCT', 'PROPN', 'PUNCT', 'ADJ', 'NOUN', 'VERB', 'PROPN', 'PROPN', 'PROPN', 'PUNCT', 'PROPN', 'PUNCT', 'DET', 'NOUN', 'ADP', 'DET', 'NOUN', 'ADP', 'DET', 'NOUN', 'ADP', 'PROPN', 'PUNCT', 'ADP', 'DET', 'ADJ', 'NOUN', 'PUNCT'], 'ptbtags': ['NNP', 'HYPH', 'NNP', ':', 'JJ', 'NNS', 'VBD', 'NNP', 'NNP', 'NNP', 'HYPH', 'NNP', ',', 'DT', 'NN', 'IN', 'DT', 'NN', 'IN', 'DT', 'NN', 'IN', 'NNP', ',', 'IN', 'DT', 'JJ', 'NN', '.']}\n"
          ],
          "name": "stdout"
        }
      ]
    },
    {
      "cell_type": "markdown",
      "metadata": {
        "id": "cqZKTNXSW6Bb",
        "colab_type": "text"
      },
      "source": [
        "We can also view the text and tags separately:"
      ]
    },
    {
      "cell_type": "code",
      "metadata": {
        "id": "zSd9RO8dW6Bf",
        "colab_type": "code",
        "outputId": "c7be91ca-81af-4944-d478-b694f0aafdf5",
        "colab": {
          "base_uri": "https://localhost:8080/",
          "height": 49
        }
      },
      "source": [
        "print(vars(train_data.examples[0])['text'])"
      ],
      "execution_count": 0,
      "outputs": [
        {
          "output_type": "stream",
          "text": [
            "['al', '-', 'zaman', ':', 'american', 'forces', 'killed', 'shaikh', 'abdullah', 'al', '-', 'ani', ',', 'the', 'preacher', 'at', 'the', 'mosque', 'in', 'the', 'town', 'of', 'qaim', ',', 'near', 'the', 'syrian', 'border', '.']\n"
          ],
          "name": "stdout"
        }
      ]
    },
    {
      "cell_type": "code",
      "metadata": {
        "id": "2d_2NBEHW6Bo",
        "colab_type": "code",
        "outputId": "d519e8b0-ac6a-4fa8-95b2-664362c7e6af",
        "colab": {
          "base_uri": "https://localhost:8080/",
          "height": 49
        }
      },
      "source": [
        "print(vars(train_data.examples[0])['udtags'])"
      ],
      "execution_count": 0,
      "outputs": [
        {
          "output_type": "stream",
          "text": [
            "['PROPN', 'PUNCT', 'PROPN', 'PUNCT', 'ADJ', 'NOUN', 'VERB', 'PROPN', 'PROPN', 'PROPN', 'PUNCT', 'PROPN', 'PUNCT', 'DET', 'NOUN', 'ADP', 'DET', 'NOUN', 'ADP', 'DET', 'NOUN', 'ADP', 'PROPN', 'PUNCT', 'ADP', 'DET', 'ADJ', 'NOUN', 'PUNCT']\n"
          ],
          "name": "stdout"
        }
      ]
    },
    {
      "cell_type": "code",
      "metadata": {
        "id": "MPdga_NiW6Bx",
        "colab_type": "code",
        "outputId": "9d538712-bc21-416a-e155-786614e4ba34",
        "colab": {
          "base_uri": "https://localhost:8080/",
          "height": 29
        }
      },
      "source": [
        "print(vars(train_data.examples[0])['ptbtags'])"
      ],
      "execution_count": 0,
      "outputs": [
        {
          "output_type": "stream",
          "text": [
            "['NNP', 'HYPH', 'NNP', ':', 'JJ', 'NNS', 'VBD', 'NNP', 'NNP', 'NNP', 'HYPH', 'NNP', ',', 'DT', 'NN', 'IN', 'DT', 'NN', 'IN', 'DT', 'NN', 'IN', 'NNP', ',', 'IN', 'DT', 'JJ', 'NN', '.']\n"
          ],
          "name": "stdout"
        }
      ]
    },
    {
      "cell_type": "markdown",
      "metadata": {
        "id": "pwH4jOCXW6B8",
        "colab_type": "text"
      },
      "source": [
        "Next, we'll build the vocabulary - a mapping of tokens to integers. \n",
        "\n",
        "We want some unknown tokens within our dataset in order to replicate how this model would be used in real life, so we set the `min_freq` to 2 which means only tokens that appear twice in the training set will be added to the vocabulary and the rest will be replaced by `<unk>` tokens.\n",
        "\n",
        "We also load the [GloVe](https://nlp.stanford.edu/projects/glove/) pre-trained token embeddings. Specifically, the 100-dimensional embeddings that have been trained on 6 billion tokens. Using pre-trained embeddings usually leads to improved performance - although admittedly the dataset used in this tutorial is too small to take advantage of the pre-trained embeddings. \n",
        "\n",
        "`unk_init` is used to initialize the token embeddings which are not in the pre-trained embedding vocabulary. By default this sets those embeddings to zeros, however it is better to not have them all initialized to the same value, so we initialize them from a Normal/Gaussian distribution.\n",
        "\n",
        "These pre-trained vectors are now loaded into our vocabulary and we will initialize our model with these values later."
      ]
    },
    {
      "cell_type": "code",
      "metadata": {
        "id": "IJDVcH3iW6CB",
        "colab_type": "code",
        "colab": {}
      },
      "source": [
        "MIN_FREQ = 2\n",
        "\n",
        "TEXT.build_vocab(train_data, \n",
        "                 min_freq = MIN_FREQ,\n",
        "                 vectors = \"glove.6B.100d\",\n",
        "                 unk_init = torch.Tensor.normal_)\n",
        "\n",
        "\n",
        "UD_TAGS.build_vocab(train_data)\n",
        "PTB_TAGS.build_vocab(train_data)"
      ],
      "execution_count": 0,
      "outputs": []
    },
    {
      "cell_type": "markdown",
      "metadata": {
        "id": "1DTtwOoxW6CO",
        "colab_type": "text"
      },
      "source": [
        "We can check how many tokens and tags are in our vocabulary by getting their length:"
      ]
    },
    {
      "cell_type": "code",
      "metadata": {
        "id": "S45yJVyXW6CR",
        "colab_type": "code",
        "outputId": "18e6666e-2c16-432d-94f2-ce3d6f4cf339",
        "colab": {
          "base_uri": "https://localhost:8080/",
          "height": 52
        }
      },
      "source": [
        "print(f\"Unique tokens in TEXT vocabulary: {len(TEXT.vocab)}\")\n",
        "print(f\"Unique tokens in UD_TAG vocabulary: {len(UD_TAGS.vocab)}\")\n",
        "print(f\"Unique tokens in PTB_TAG vocabulary: {len(PTB_TAGS.vocab)}\")"
      ],
      "execution_count": 0,
      "outputs": [
        {
          "output_type": "stream",
          "text": [
            "Unique tokens in TEXT vocabulary: 8866\n",
            "Unique tokens in UD_TAG vocabulary: 18\n",
            "Unique tokens in PTB_TAG vocabulary: 51\n"
          ],
          "name": "stdout"
        }
      ]
    },
    {
      "cell_type": "markdown",
      "metadata": {
        "id": "g1zEXOlKW6Cd",
        "colab_type": "text"
      },
      "source": [
        "Exploring the vocabulary, we can check the most common tokens within our texts:"
      ]
    },
    {
      "cell_type": "code",
      "metadata": {
        "id": "WSGZxjR3W6Ci",
        "colab_type": "code",
        "outputId": "9217a2ac-cf71-45fd-c47c-03cc0f17e597",
        "colab": {
          "base_uri": "https://localhost:8080/",
          "height": 49
        }
      },
      "source": [
        "print(TEXT.vocab.freqs.most_common(20))"
      ],
      "execution_count": 0,
      "outputs": [
        {
          "output_type": "stream",
          "text": [
            "[('the', 9076), ('.', 8640), (',', 7021), ('to', 5137), ('and', 5002), ('a', 3782), ('of', 3622), ('i', 3379), ('in', 3112), ('is', 2239), ('you', 2156), ('that', 2036), ('it', 1850), ('for', 1842), ('-', 1426), ('have', 1359), ('\"', 1296), ('on', 1273), ('was', 1244), ('with', 1216)]\n"
          ],
          "name": "stdout"
        }
      ]
    },
    {
      "cell_type": "markdown",
      "metadata": {
        "id": "cyU29bPDW6Cp",
        "colab_type": "text"
      },
      "source": [
        "We can see the vocabularies for both of our tags:"
      ]
    },
    {
      "cell_type": "code",
      "metadata": {
        "id": "FBq1NEkBW6Cq",
        "colab_type": "code",
        "outputId": "8f6b3294-ac43-4e97-cc39-1791a14a056f",
        "colab": {
          "base_uri": "https://localhost:8080/",
          "height": 29
        }
      },
      "source": [
        "print(UD_TAGS.vocab.itos)"
      ],
      "execution_count": 0,
      "outputs": [
        {
          "output_type": "stream",
          "text": [
            "['<pad>', 'NOUN', 'PUNCT', 'VERB', 'PRON', 'ADP', 'DET', 'PROPN', 'ADJ', 'AUX', 'ADV', 'CCONJ', 'PART', 'NUM', 'SCONJ', 'X', 'INTJ', 'SYM']\n"
          ],
          "name": "stdout"
        }
      ]
    },
    {
      "cell_type": "code",
      "metadata": {
        "id": "M4DUaB0PW6Cx",
        "colab_type": "code",
        "outputId": "f70c0369-d690-4536-c183-e8134010eb4d",
        "colab": {
          "base_uri": "https://localhost:8080/",
          "height": 49
        }
      },
      "source": [
        "print(PTB_TAGS.vocab.itos)"
      ],
      "execution_count": 0,
      "outputs": [
        {
          "output_type": "stream",
          "text": [
            "['<pad>', 'NN', 'IN', 'DT', 'NNP', 'PRP', 'JJ', 'RB', '.', 'VB', 'NNS', ',', 'CC', 'VBD', 'VBP', 'VBZ', 'CD', 'VBN', 'VBG', 'MD', 'TO', 'PRP$', '-RRB-', '-LRB-', 'WDT', 'WRB', ':', '``', \"''\", 'WP', 'RP', 'UH', 'POS', 'HYPH', 'JJR', 'NNPS', 'JJS', 'EX', 'NFP', 'GW', 'ADD', 'RBR', '$', 'PDT', 'RBS', 'SYM', 'LS', 'FW', 'AFX', 'WP$', 'XX']\n"
          ],
          "name": "stdout"
        }
      ]
    },
    {
      "cell_type": "markdown",
      "metadata": {
        "id": "ZL3k8OaBW6C3",
        "colab_type": "text"
      },
      "source": [
        "We can also see how many of each tag are in our vocabulary:"
      ]
    },
    {
      "cell_type": "code",
      "metadata": {
        "id": "d0IY2mD4W6C5",
        "colab_type": "code",
        "outputId": "692f899a-3bbc-4954-862c-1e8d8de2e938",
        "colab": {
          "base_uri": "https://localhost:8080/",
          "height": 49
        }
      },
      "source": [
        "print(UD_TAGS.vocab.freqs.most_common())"
      ],
      "execution_count": 0,
      "outputs": [
        {
          "output_type": "stream",
          "text": [
            "[('NOUN', 34781), ('PUNCT', 23679), ('VERB', 23081), ('PRON', 18577), ('ADP', 17638), ('DET', 16285), ('PROPN', 12946), ('ADJ', 12477), ('AUX', 12343), ('ADV', 10548), ('CCONJ', 6707), ('PART', 5567), ('NUM', 3999), ('SCONJ', 3843), ('X', 847), ('INTJ', 688), ('SYM', 599)]\n"
          ],
          "name": "stdout"
        }
      ]
    },
    {
      "cell_type": "code",
      "metadata": {
        "id": "qKh5R6PKW6DB",
        "colab_type": "code",
        "outputId": "1d3502d5-8277-4724-a335-a7b2d59f7157",
        "colab": {
          "base_uri": "https://localhost:8080/",
          "height": 49
        }
      },
      "source": [
        "print(PTB_TAGS.vocab.freqs.most_common())"
      ],
      "execution_count": 0,
      "outputs": [
        {
          "output_type": "stream",
          "text": [
            "[('NN', 26915), ('IN', 20724), ('DT', 16817), ('NNP', 12449), ('PRP', 12193), ('JJ', 11591), ('RB', 10831), ('.', 10317), ('VB', 9476), ('NNS', 8438), (',', 8062), ('CC', 6706), ('VBD', 5402), ('VBP', 5374), ('VBZ', 4578), ('CD', 3998), ('VBN', 3967), ('VBG', 3330), ('MD', 3294), ('TO', 3286), ('PRP$', 3068), ('-RRB-', 1008), ('-LRB-', 973), ('WDT', 948), ('WRB', 869), (':', 866), ('``', 813), (\"''\", 785), ('WP', 760), ('RP', 755), ('UH', 689), ('POS', 684), ('HYPH', 664), ('JJR', 503), ('NNPS', 498), ('JJS', 383), ('EX', 359), ('NFP', 338), ('GW', 294), ('ADD', 292), ('RBR', 276), ('$', 258), ('PDT', 175), ('RBS', 169), ('SYM', 156), ('LS', 117), ('FW', 93), ('AFX', 48), ('WP$', 15), ('XX', 1)]\n"
          ],
          "name": "stdout"
        }
      ]
    },
    {
      "cell_type": "markdown",
      "metadata": {
        "id": "Gaa38YuLW6DS",
        "colab_type": "text"
      },
      "source": [
        "We can also view how common each of the tags are within the training set:"
      ]
    },
    {
      "cell_type": "code",
      "metadata": {
        "id": "5AtQOoghW6DW",
        "colab_type": "code",
        "colab": {}
      },
      "source": [
        "def tag_percentage(tag_counts):\n",
        "    \n",
        "    total_count = sum([count for tag, count in tag_counts])\n",
        "    \n",
        "    tag_counts_percentages = [(tag, count, count/total_count) for tag, count in tag_counts]\n",
        "        \n",
        "    return tag_counts_percentages"
      ],
      "execution_count": 0,
      "outputs": []
    },
    {
      "cell_type": "code",
      "metadata": {
        "id": "tFIUGo_CW6Dc",
        "colab_type": "code",
        "outputId": "f16af2eb-c16d-4800-fdd7-20600daf4acc",
        "colab": {
          "base_uri": "https://localhost:8080/",
          "height": 238
        }
      },
      "source": [
        "print(\"Tag\\t\\tCount\\t\\tPercentage\\n\")\n",
        "\n",
        "for tag, count, percent in tag_percentage(UD_TAGS.vocab.freqs.most_common()):\n",
        "    print(f\"{tag}\\t\\t{count}\\t\\t{percent*100:4.1f}%\")"
      ],
      "execution_count": 0,
      "outputs": [
        {
          "output_type": "stream",
          "text": [
            "Tag\t\tCount\t\tPercentage\n",
            "\n",
            "NOUN\t\t34781\t\t17.0%\n",
            "PUNCT\t\t23679\t\t11.6%\n",
            "VERB\t\t23081\t\t11.3%\n",
            "PRON\t\t18577\t\t 9.1%\n",
            "ADP\t\t17638\t\t 8.6%\n",
            "DET\t\t16285\t\t 8.0%\n",
            "PROPN\t\t12946\t\t 6.3%\n",
            "ADJ\t\t12477\t\t 6.1%\n",
            "AUX\t\t12343\t\t 6.0%\n",
            "ADV\t\t10548\t\t 5.2%\n",
            "CCONJ\t\t6707\t\t 3.3%\n",
            "PART\t\t5567\t\t 2.7%\n",
            "NUM\t\t3999\t\t 2.0%\n",
            "SCONJ\t\t3843\t\t 1.9%\n",
            "X\t\t847\t\t 0.4%\n",
            "INTJ\t\t688\t\t 0.3%\n",
            "SYM\t\t599\t\t 0.3%\n"
          ],
          "name": "stdout"
        }
      ]
    },
    {
      "cell_type": "code",
      "metadata": {
        "id": "xRj7zOIUW6Dr",
        "colab_type": "code",
        "outputId": "5a8b872f-08a9-4e78-d4e9-8417877f4d94",
        "colab": {
          "base_uri": "https://localhost:8080/",
          "height": 622
        }
      },
      "source": [
        "print(\"Tag\\t\\tCount\\t\\tPercentage\\n\")\n",
        "\n",
        "for tag, count, percent in tag_percentage(PTB_TAGS.vocab.freqs.most_common()):\n",
        "    print(f\"{tag}\\t\\t{count}\\t\\t{percent*100:4.1f}%\")"
      ],
      "execution_count": 0,
      "outputs": [
        {
          "output_type": "stream",
          "text": [
            "Tag\t\tCount\t\tPercentage\n",
            "\n",
            "NN\t\t26915\t\t13.2%\n",
            "IN\t\t20724\t\t10.1%\n",
            "DT\t\t16817\t\t 8.2%\n",
            "NNP\t\t12449\t\t 6.1%\n",
            "PRP\t\t12193\t\t 6.0%\n",
            "JJ\t\t11591\t\t 5.7%\n",
            "RB\t\t10831\t\t 5.3%\n",
            ".\t\t10317\t\t 5.0%\n",
            "VB\t\t9476\t\t 4.6%\n",
            "NNS\t\t8438\t\t 4.1%\n",
            ",\t\t8062\t\t 3.9%\n",
            "CC\t\t6706\t\t 3.3%\n",
            "VBD\t\t5402\t\t 2.6%\n",
            "VBP\t\t5374\t\t 2.6%\n",
            "VBZ\t\t4578\t\t 2.2%\n",
            "CD\t\t3998\t\t 2.0%\n",
            "VBN\t\t3967\t\t 1.9%\n",
            "VBG\t\t3330\t\t 1.6%\n",
            "MD\t\t3294\t\t 1.6%\n",
            "TO\t\t3286\t\t 1.6%\n",
            "PRP$\t\t3068\t\t 1.5%\n",
            "-RRB-\t\t1008\t\t 0.5%\n",
            "-LRB-\t\t973\t\t 0.5%\n",
            "WDT\t\t948\t\t 0.5%\n",
            "WRB\t\t869\t\t 0.4%\n",
            ":\t\t866\t\t 0.4%\n",
            "``\t\t813\t\t 0.4%\n",
            "''\t\t785\t\t 0.4%\n",
            "WP\t\t760\t\t 0.4%\n",
            "RP\t\t755\t\t 0.4%\n",
            "UH\t\t689\t\t 0.3%\n",
            "POS\t\t684\t\t 0.3%\n",
            "HYPH\t\t664\t\t 0.3%\n",
            "JJR\t\t503\t\t 0.2%\n",
            "NNPS\t\t498\t\t 0.2%\n",
            "JJS\t\t383\t\t 0.2%\n",
            "EX\t\t359\t\t 0.2%\n",
            "NFP\t\t338\t\t 0.2%\n",
            "GW\t\t294\t\t 0.1%\n",
            "ADD\t\t292\t\t 0.1%\n",
            "RBR\t\t276\t\t 0.1%\n",
            "$\t\t258\t\t 0.1%\n",
            "PDT\t\t175\t\t 0.1%\n",
            "RBS\t\t169\t\t 0.1%\n",
            "SYM\t\t156\t\t 0.1%\n",
            "LS\t\t117\t\t 0.1%\n",
            "FW\t\t93\t\t 0.0%\n",
            "AFX\t\t48\t\t 0.0%\n",
            "WP$\t\t15\t\t 0.0%\n",
            "XX\t\t1\t\t 0.0%\n"
          ],
          "name": "stdout"
        }
      ]
    },
    {
      "cell_type": "markdown",
      "metadata": {
        "id": "d3VpF1YjW6D1",
        "colab_type": "text"
      },
      "source": [
        "The final part of data preparation is handling the iterator. \n",
        "\n",
        "This will be iterated over to return batches of data to process. Here, we set the batch size and the `device` - which is used to place the batches of tensors on our GPU, if we have one. "
      ]
    },
    {
      "cell_type": "code",
      "metadata": {
        "id": "QmaQwVPfW6D3",
        "colab_type": "code",
        "colab": {}
      },
      "source": [
        "BATCH_SIZE = 128\n",
        "\n",
        "device = torch.device('cuda:0' if torch.cuda.is_available() else 'cpu')\n",
        "\n",
        "train_iterator, valid_iterator, test_iterator = data.BucketIterator.splits(\n",
        "    (train_data, valid_data, test_data), \n",
        "    batch_size = BATCH_SIZE,\n",
        "    device = device)"
      ],
      "execution_count": 0,
      "outputs": []
    },
    {
      "cell_type": "markdown",
      "metadata": {
        "id": "7Ubm4x8TW6D9",
        "colab_type": "text"
      },
      "source": [
        "## Building the Model\n",
        "\n",
        "Next up, we define our model - a multi-layer bi-directional LSTM. The image below shows a simplified version of the model with only one LSTM layer and omitting the LSTM's cell state for clarity.\n",
        "\n",
        "![](https://github.com/neychev/harbour_dlia2020/blob/master/day07/assets/pos-bidirectional-lstm.png?raw=1)\n",
        "\n",
        "The model takes in a sequence of tokens, $X = \\{x_1, x_2,...,x_T\\}$, passes them through an embedding layer, $e$, to get the token embeddings, $e(X) = \\{e(x_1), e(x_2), ..., e(x_T)\\}$.\n",
        "\n",
        "These embeddings are processed - one per time-step - by the forward and backward LSTMs. The forward LSTM processes the sequence from left-to-right, whilst the backward LSTM processes the sequence right-to-left, i.e. the first input to the forward LSTM is $x_1$ and the first input to the backward LSTM is $x_T$. \n",
        "\n",
        "The LSTMs also take in the the hidden, $h$, and cell, $c$, states from the previous time-step\n",
        "\n",
        "$$h^{\\rightarrow}_t = \\text{LSTM}^{\\rightarrow}(e(x^{\\rightarrow}_t), h^{\\rightarrow}_{t-1}, c^{\\rightarrow}_{t-1})$$\n",
        "$$h^{\\leftarrow}_t=\\text{LSTM}^{\\leftarrow}(e(x^{\\leftarrow}_t), h^{\\leftarrow}_{t-1}, c^{\\leftarrow}_{t-1})$$\n",
        "\n",
        "After the whole sequence has been processed, the hidden and cell states are then passed to the next layer of the LSTM.\n",
        "\n",
        "The initial hidden and cell states, $h_0$ and $c_0$, for each direction and layer are initialized to a tensor full of zeros.\n",
        "\n",
        "We then concatenate both the forward and backward hidden states from the final layer of the LSTM, $H = \\{h_1, h_2, ... h_T\\}$, where $h_1 = [h^{\\rightarrow}_1;h^{\\leftarrow}_T]$, $h_2 = [h^{\\rightarrow}_2;h^{\\leftarrow}_{T-1}]$, etc. and pass them through a linear layer, $f$, which is used to make the prediction of which tag applies to this token, $\\hat{y}_t = f(h_t)$.\n",
        "\n",
        "When training the model, we will compare our predicted tags, $\\hat{Y}$ against the actual tags, $Y$, to calculate a loss, the gradients w.r.t. that loss, and then update our parameters.\n",
        "\n",
        "We implement the model detailed above in the `BiLSTMPOSTagger` class.\n",
        "\n",
        "`nn.Embedding` is an embedding layer and the input dimension should be the size of the input (text) vocabulary. We tell it what the index of the padding token is so it does not update the padding token's embedding entry.\n",
        "\n",
        "`nn.LSTM` is the LSTM. We apply dropout as regularization between the layers, if we are using more than one.\n",
        "\n",
        "`nn.Linear` defines the linear layer to make predictions using the LSTM outputs. We double the size of the input if we are using a bi-directional LSTM. The output dimensions should be the size of the tag vocabulary.\n",
        "\n",
        "We also define a dropout layer with `nn.Dropout`, which we use in the `forward` method to apply dropout to the embeddings and the outputs of the final layer of the LSTM."
      ]
    },
    {
      "cell_type": "code",
      "metadata": {
        "id": "vRH_gRNIW6D_",
        "colab_type": "code",
        "colab": {}
      },
      "source": [
        "class BiLSTMPOSTagger(nn.Module):\n",
        "    def __init__(self, \n",
        "                 input_dim, \n",
        "                 embedding_dim, \n",
        "                 hidden_dim, \n",
        "                 output_dim, \n",
        "                 n_layers, \n",
        "                 bidirectional, \n",
        "                 dropout, \n",
        "                 pad_idx):\n",
        "        \n",
        "        super().__init__()\n",
        "        \n",
        "        self.embedding = nn.Embedding(input_dim, embedding_dim, padding_idx = pad_idx)\n",
        "        \n",
        "        self.lstm = nn.LSTM(embedding_dim, \n",
        "                            hidden_dim, \n",
        "                            num_layers = n_layers, \n",
        "                            bidirectional = bidirectional,\n",
        "                            dropout = dropout if n_layers > 1 else 0)\n",
        "        \n",
        "        self.fc = nn.Linear(hidden_dim * 2 if bidirectional else hidden_dim, output_dim)\n",
        "        \n",
        "        self.dropout = nn.Dropout(dropout)\n",
        "        \n",
        "    def forward(self, text):\n",
        "\n",
        "        #text = [sent len, batch size]\n",
        "        \n",
        "        #pass text through embedding layer\n",
        "        embedded = self.dropout(self.embedding(text))\n",
        "        \n",
        "        #embedded = [sent len, batch size, emb dim]\n",
        "        \n",
        "        #pass embeddings into LSTM\n",
        "        outputs, (hidden, cell) = self.lstm(embedded)\n",
        "        \n",
        "        #outputs holds the backward and forward hidden states in the final layer\n",
        "        #hidden and cell are the backward and forward hidden and cell states at the final time-step\n",
        "        \n",
        "        #output = [sent len, batch size, hid dim * n directions]\n",
        "        #hidden/cell = [n layers * n directions, batch size, hid dim]\n",
        "        \n",
        "        #we use our outputs to make a prediction of what the tag should be\n",
        "        predictions = self.fc(self.dropout(outputs))\n",
        "        \n",
        "        #predictions = [sent len, batch size, output dim]\n",
        "        \n",
        "        return predictions"
      ],
      "execution_count": 0,
      "outputs": []
    },
    {
      "cell_type": "markdown",
      "metadata": {
        "id": "U331NvpxW6EK",
        "colab_type": "text"
      },
      "source": [
        "## Training the Model\n",
        "\n",
        "Next, we instantiate the model. We need to ensure the embedding dimensions matches that of the GloVe embeddings we loaded earlier.\n",
        "\n",
        "The rest of the hyperparmeters have been chosen as sensible defaults, though there may be a combination that performs better on this model and dataset.\n",
        "\n",
        "The input and output dimensions are taken directly from the lengths of the respective vocabularies. The padding index is obtained using the vocabulary and the `Field` of the text."
      ]
    },
    {
      "cell_type": "code",
      "metadata": {
        "id": "-ILK0daHW6EM",
        "colab_type": "code",
        "colab": {}
      },
      "source": [
        "INPUT_DIM = len(TEXT.vocab)\n",
        "EMBEDDING_DIM = 100\n",
        "HIDDEN_DIM = 128\n",
        "OUTPUT_DIM = len(UD_TAGS.vocab)\n",
        "N_LAYERS = 2\n",
        "BIDIRECTIONAL = True\n",
        "DROPOUT = 0.25\n",
        "PAD_IDX = TEXT.vocab.stoi[TEXT.pad_token]\n",
        "\n",
        "model = BiLSTMPOSTagger(INPUT_DIM, \n",
        "                        EMBEDDING_DIM, \n",
        "                        HIDDEN_DIM, \n",
        "                        OUTPUT_DIM, \n",
        "                        N_LAYERS, \n",
        "                        BIDIRECTIONAL, \n",
        "                        DROPOUT, \n",
        "                        PAD_IDX)"
      ],
      "execution_count": 0,
      "outputs": []
    },
    {
      "cell_type": "markdown",
      "metadata": {
        "id": "87jx8QbJW6EQ",
        "colab_type": "text"
      },
      "source": [
        "We initialize the weights from a simple Normal distribution. Again, there may be a better initialization scheme for this model and dataset."
      ]
    },
    {
      "cell_type": "code",
      "metadata": {
        "id": "tRixwJfuW6ET",
        "colab_type": "code",
        "outputId": "4f40a040-ad3a-4d50-bdcd-91cbb139b209",
        "colab": {
          "base_uri": "https://localhost:8080/",
          "height": 87
        }
      },
      "source": [
        "def init_weights(m):\n",
        "    for name, param in m.named_parameters():\n",
        "        nn.init.normal_(param.data, mean = 0, std = 0.1)\n",
        "        \n",
        "model.apply(init_weights)"
      ],
      "execution_count": 0,
      "outputs": [
        {
          "output_type": "execute_result",
          "data": {
            "text/plain": [
              "BiLSTMPOSTagger(\n",
              "  (embedding): Embedding(8866, 100, padding_idx=1)\n",
              "  (lstm): LSTM(100, 128, num_layers=2, dropout=0.25, bidirectional=True)\n",
              "  (fc): Linear(in_features=256, out_features=18, bias=True)\n",
              "  (dropout): Dropout(p=0.25, inplace=False)\n",
              ")"
            ]
          },
          "metadata": {
            "tags": []
          },
          "execution_count": 24
        }
      ]
    },
    {
      "cell_type": "markdown",
      "metadata": {
        "id": "8xOgTArMW6Eb",
        "colab_type": "text"
      },
      "source": [
        "Next, a small function to tell us how many parameters are in our model. Useful for comparing different models."
      ]
    },
    {
      "cell_type": "code",
      "metadata": {
        "id": "WHAYJHgFW6Ec",
        "colab_type": "code",
        "outputId": "1ab9a533-c9e8-481e-c1fe-12bc21024578",
        "colab": {
          "base_uri": "https://localhost:8080/",
          "height": 29
        }
      },
      "source": [
        "def count_parameters(model):\n",
        "    return sum(p.numel() for p in model.parameters() if p.requires_grad)\n",
        "\n",
        "print(f'The model has {count_parameters(model):,} trainable parameters')"
      ],
      "execution_count": 0,
      "outputs": [
        {
          "output_type": "stream",
          "text": [
            "The model has 1,522,010 trainable parameters\n"
          ],
          "name": "stdout"
        }
      ]
    },
    {
      "cell_type": "markdown",
      "metadata": {
        "id": "3nwenkFkW6Eg",
        "colab_type": "text"
      },
      "source": [
        "We'll now initialize our model's embedding layer with the pre-trained embedding values we loaded earlier.\n",
        "\n",
        "This is done by getting them from the vocab's `.vectors` attribute and then performing a `.copy` to overwrite the embedding layer's current weights."
      ]
    },
    {
      "cell_type": "code",
      "metadata": {
        "id": "kFZaJCCHW6Ei",
        "colab_type": "code",
        "outputId": "f199ef6a-179f-41fd-a292-1d3e26827ced",
        "colab": {
          "base_uri": "https://localhost:8080/",
          "height": 29
        }
      },
      "source": [
        "pretrained_embeddings = TEXT.vocab.vectors\n",
        "\n",
        "print(pretrained_embeddings.shape)"
      ],
      "execution_count": 0,
      "outputs": [
        {
          "output_type": "stream",
          "text": [
            "torch.Size([8866, 100])\n"
          ],
          "name": "stdout"
        }
      ]
    },
    {
      "cell_type": "code",
      "metadata": {
        "id": "tn7dMlwwW6Er",
        "colab_type": "code",
        "outputId": "d7117a78-6ba4-4e95-aa9b-14cd7aec1760",
        "colab": {
          "base_uri": "https://localhost:8080/",
          "height": 98
        }
      },
      "source": [
        "model.embedding.weight.data.copy_(pretrained_embeddings)"
      ],
      "execution_count": 0,
      "outputs": [
        {
          "output_type": "execute_result",
          "data": {
            "text/plain": [
              "tensor([[-0.1117, -0.4966,  0.1631,  ...,  1.2647, -0.2753, -0.1325],\n",
              "        [-0.8555, -0.7208,  1.3755,  ...,  0.0825, -1.1314,  0.3997],\n",
              "        [-0.0382, -0.2449,  0.7281,  ..., -0.1459,  0.8278,  0.2706],\n",
              "        ...,\n",
              "        [ 0.9261,  2.3049,  0.5502,  ..., -0.3492, -0.5298, -0.1577],\n",
              "        [-0.5972,  0.0471, -0.2406,  ..., -0.9446, -0.1126, -0.2260],\n",
              "        [-0.4809,  2.5629,  0.9530,  ...,  0.5278, -0.4588,  0.7294]])"
            ]
          },
          "metadata": {
            "tags": []
          },
          "execution_count": 27
        }
      ]
    },
    {
      "cell_type": "markdown",
      "metadata": {
        "id": "NGa5oOKjW6E0",
        "colab_type": "text"
      },
      "source": [
        "It's common to initialize the embedding of the pad token to all zeros. This, along with setting the `padding_idx` in the model's embedding layer, means that the embedding should always output a tensor full of zeros when a pad token is input."
      ]
    },
    {
      "cell_type": "code",
      "metadata": {
        "id": "Ox2pxRQxW6E6",
        "colab_type": "code",
        "outputId": "aa038d5d-4f52-474f-fae5-560741365c89",
        "colab": {
          "base_uri": "https://localhost:8080/",
          "height": 98
        }
      },
      "source": [
        "model.embedding.weight.data[PAD_IDX] = torch.zeros(EMBEDDING_DIM)\n",
        "\n",
        "print(model.embedding.weight.data)"
      ],
      "execution_count": 0,
      "outputs": [
        {
          "output_type": "stream",
          "text": [
            "tensor([[-0.1117, -0.4966,  0.1631,  ...,  1.2647, -0.2753, -0.1325],\n",
            "        [ 0.0000,  0.0000,  0.0000,  ...,  0.0000,  0.0000,  0.0000],\n",
            "        [-0.0382, -0.2449,  0.7281,  ..., -0.1459,  0.8278,  0.2706],\n",
            "        ...,\n",
            "        [ 0.9261,  2.3049,  0.5502,  ..., -0.3492, -0.5298, -0.1577],\n",
            "        [-0.5972,  0.0471, -0.2406,  ..., -0.9446, -0.1126, -0.2260],\n",
            "        [-0.4809,  2.5629,  0.9530,  ...,  0.5278, -0.4588,  0.7294]])\n"
          ],
          "name": "stdout"
        }
      ]
    },
    {
      "cell_type": "markdown",
      "metadata": {
        "id": "2Koq4NRdW6FA",
        "colab_type": "text"
      },
      "source": [
        "We then define our optimizer, used to update our parameters w.r.t. their gradients. We use Adam with the default learning rate."
      ]
    },
    {
      "cell_type": "code",
      "metadata": {
        "id": "YQ2DZ-GjW6FB",
        "colab_type": "code",
        "colab": {}
      },
      "source": [
        "optimizer = optim.Adam(model.parameters())"
      ],
      "execution_count": 0,
      "outputs": []
    },
    {
      "cell_type": "markdown",
      "metadata": {
        "id": "nm4pM0PmW6FJ",
        "colab_type": "text"
      },
      "source": [
        "Next, we define our loss function, cross-entropy loss.\n",
        "\n",
        "Even though we have no `<unk>` tokens within our tag vocab, we still have `<pad>` tokens. This is because all sentences within a batch need to be the same size. However, we don't want to calculate the loss when the target is a `<pad>` token as we aren't training our model to recognize padding tokens.\n",
        "\n",
        "We handle this by setting the `ignore_index` in our loss function to the index of the padding token in our tag vocabulary."
      ]
    },
    {
      "cell_type": "code",
      "metadata": {
        "id": "7-AjGs_KW6FT",
        "colab_type": "code",
        "colab": {}
      },
      "source": [
        "TAG_PAD_IDX = UD_TAGS.vocab.stoi[UD_TAGS.pad_token]\n",
        "\n",
        "criterion = nn.CrossEntropyLoss(ignore_index = TAG_PAD_IDX)"
      ],
      "execution_count": 0,
      "outputs": []
    },
    {
      "cell_type": "markdown",
      "metadata": {
        "id": "CC3lEKSXW6Fh",
        "colab_type": "text"
      },
      "source": [
        "We then place our model and loss function on our GPU, if we have one."
      ]
    },
    {
      "cell_type": "code",
      "metadata": {
        "id": "kbA5IEHdW6Fo",
        "colab_type": "code",
        "colab": {}
      },
      "source": [
        "model = model.to(device)\n",
        "criterion = criterion.to(device)"
      ],
      "execution_count": 0,
      "outputs": []
    },
    {
      "cell_type": "markdown",
      "metadata": {
        "id": "OwMNkuTXW6Fw",
        "colab_type": "text"
      },
      "source": [
        "We will be using the loss value between our predicted and actual tags to train the network, but ideally we'd like a more interpretable way to see how well our model is doing - accuracy.\n",
        "\n",
        "The issue is that we don't want to calculate accuracy over the `<pad>` tokens as we aren't interested in predicting them.\n",
        "\n",
        "The function below only calculates accuracy over non-padded tokens. `non_pad_elements` is a tensor containing the indices of the non-pad tokens within an input batch. We then compare the predictions of those elements with the labels to get a count of how many predictions were correct. We then divide this by the number of non-pad elements to get our accuracy value over the batch."
      ]
    },
    {
      "cell_type": "code",
      "metadata": {
        "id": "X7HItgbDW6Fx",
        "colab_type": "code",
        "colab": {}
      },
      "source": [
        "def categorical_accuracy(preds, y, tag_pad_idx):\n",
        "    \"\"\"\n",
        "    Returns accuracy per batch, i.e. if you get 8/10 right, this returns 0.8, NOT 8\n",
        "    \"\"\"\n",
        "    max_preds = preds.argmax(dim = 1, keepdim = True) # get the index of the max probability\n",
        "    non_pad_elements = (y != tag_pad_idx).nonzero()\n",
        "    correct = max_preds[non_pad_elements].squeeze(1).eq(y[non_pad_elements])\n",
        "    return correct.sum() / torch.FloatTensor([y[non_pad_elements].shape[0]])"
      ],
      "execution_count": 0,
      "outputs": []
    },
    {
      "cell_type": "markdown",
      "metadata": {
        "id": "18Wsq88FW6F4",
        "colab_type": "text"
      },
      "source": [
        "Next is the function that handles training our model.\n",
        "\n",
        "We first set the model to `train` mode to turn on dropout/batch-norm/etc. (if used). Then we iterate over our iterator, which returns a batch of examples. \n",
        "\n",
        "For each batch: \n",
        "- we zero the gradients over the parameters from the last gradient calculation\n",
        "- insert the batch of text into the model to get predictions\n",
        "- as PyTorch loss functions cannot handle 3-dimensional predictions we reshape our predictions\n",
        "- calculate the loss and accuracy between the predicted tags and actual tags\n",
        "- call `backward` to calculate the gradients of the parameters w.r.t. the loss\n",
        "- take an optimizer `step` to update the parameters\n",
        "- add to the running total of loss and accuracy"
      ]
    },
    {
      "cell_type": "code",
      "metadata": {
        "id": "fB-5vL2OW6F5",
        "colab_type": "code",
        "colab": {}
      },
      "source": [
        "def train(model, iterator, optimizer, criterion, tag_pad_idx):\n",
        "    \n",
        "    epoch_loss = 0\n",
        "    epoch_acc = 0\n",
        "    \n",
        "    model.train()\n",
        "    \n",
        "    for batch in iterator:\n",
        "        \n",
        "        text = batch.text\n",
        "        tags = batch.udtags\n",
        "        \n",
        "        optimizer.zero_grad()\n",
        "        \n",
        "        #text = [sent len, batch size]\n",
        "        \n",
        "        predictions = model(text)\n",
        "        \n",
        "        #predictions = [sent len, batch size, output dim]\n",
        "        #tags = [sent len, batch size]\n",
        "        \n",
        "        predictions = predictions.view(-1, predictions.shape[-1])\n",
        "        tags = tags.view(-1)\n",
        "        \n",
        "        #predictions = [sent len * batch size, output dim]\n",
        "        #tags = [sent len * batch size]\n",
        "        \n",
        "        loss = criterion(predictions, tags)\n",
        "                \n",
        "        acc = categorical_accuracy(predictions, tags, tag_pad_idx)\n",
        "        \n",
        "        loss.backward()\n",
        "        \n",
        "        optimizer.step()\n",
        "        \n",
        "        epoch_loss += loss.item()\n",
        "        epoch_acc += acc.item()\n",
        "        \n",
        "    return epoch_loss / len(iterator), epoch_acc / len(iterator)"
      ],
      "execution_count": 0,
      "outputs": []
    },
    {
      "cell_type": "markdown",
      "metadata": {
        "id": "HTJsPEjJW6F-",
        "colab_type": "text"
      },
      "source": [
        "The `evaluate` function is similar to the `train` function, except with changes made so we don't update the model's parameters.\n",
        "\n",
        "`model.eval()` is used to put the model in evaluation mode, so dropout/batch-norm/etc. are turned off. \n",
        "\n",
        "The iteration loop is also wrapped in `torch.no_grad` to ensure we don't calculate any gradients. We also don't need to call `optimizer.zero_grad()` and `optimizer.step()`."
      ]
    },
    {
      "cell_type": "code",
      "metadata": {
        "id": "6MSyalYsW6F_",
        "colab_type": "code",
        "colab": {}
      },
      "source": [
        "def evaluate(model, iterator, criterion, tag_pad_idx):\n",
        "    \n",
        "    epoch_loss = 0\n",
        "    epoch_acc = 0\n",
        "    \n",
        "    model.eval()\n",
        "    \n",
        "    with torch.no_grad():\n",
        "    \n",
        "        for batch in iterator:\n",
        "\n",
        "            text = batch.text\n",
        "            tags = batch.udtags\n",
        "            \n",
        "            predictions = model(text)\n",
        "            \n",
        "            predictions = predictions.view(-1, predictions.shape[-1])\n",
        "            tags = tags.view(-1)\n",
        "            \n",
        "            loss = criterion(predictions, tags)\n",
        "            \n",
        "            acc = categorical_accuracy(predictions, tags, tag_pad_idx)\n",
        "\n",
        "            epoch_loss += loss.item()\n",
        "            epoch_acc += acc.item()\n",
        "        \n",
        "    return epoch_loss / len(iterator), epoch_acc / len(iterator)"
      ],
      "execution_count": 0,
      "outputs": []
    },
    {
      "cell_type": "markdown",
      "metadata": {
        "id": "bLtieaT8W6GG",
        "colab_type": "text"
      },
      "source": [
        "Next, we have a small function that tells us how long an epoch takes."
      ]
    },
    {
      "cell_type": "code",
      "metadata": {
        "id": "cg_d4lPkW6GI",
        "colab_type": "code",
        "colab": {}
      },
      "source": [
        "def epoch_time(start_time, end_time):\n",
        "    elapsed_time = end_time - start_time\n",
        "    elapsed_mins = int(elapsed_time / 60)\n",
        "    elapsed_secs = int(elapsed_time - (elapsed_mins * 60))\n",
        "    return elapsed_mins, elapsed_secs"
      ],
      "execution_count": 0,
      "outputs": []
    },
    {
      "cell_type": "markdown",
      "metadata": {
        "id": "uhifYXJyW6GW",
        "colab_type": "text"
      },
      "source": [
        "Finally, we train our model!\n",
        "\n",
        "After each epoch we check if our model has achieved the best validation loss so far. If it has then we save the parameters of this model and we will use these \"best\" parameters to calculate performance over our test set."
      ]
    },
    {
      "cell_type": "code",
      "metadata": {
        "id": "_7w-aBTiW6Gb",
        "colab_type": "code",
        "colab": {}
      },
      "source": [
        "# N_EPOCHS = 15\n",
        "\n",
        "# best_valid_loss = float('inf')\n",
        "\n",
        "# for epoch in range(N_EPOCHS):\n",
        "\n",
        "#     start_time = time.time()\n",
        "    \n",
        "#     train_loss, train_acc = train(model, train_iterator, optimizer, criterion, TAG_PAD_IDX)\n",
        "#     valid_loss, valid_acc = evaluate(model, valid_iterator, criterion, TAG_PAD_IDX)\n",
        "    \n",
        "#     end_time = time.time()\n",
        "\n",
        "#     epoch_mins, epoch_secs = epoch_time(start_time, end_time)\n",
        "    \n",
        "#     if valid_loss < best_valid_loss:\n",
        "#         best_valid_loss = valid_loss\n",
        "#         torch.save(model.state_dict(), 'tut1-model.pt')\n",
        "    \n",
        "#     print(f'Epoch: {epoch+1:02} | Epoch Time: {epoch_mins}m {epoch_secs}s')\n",
        "#     print(f'\\tTrain Loss: {train_loss:.3f} | Train Acc: {train_acc*100:.2f}%')\n",
        "#     print(f'\\t Val. Loss: {valid_loss:.3f} |  Val. Acc: {valid_acc*100:.2f}%')"
      ],
      "execution_count": 0,
      "outputs": []
    },
    {
      "cell_type": "code",
      "metadata": {
        "id": "M1K1c0O4eUAK",
        "colab_type": "code",
        "outputId": "afb6f649-954b-444f-af75-506457ce3c71",
        "colab": {
          "base_uri": "https://localhost:8080/",
          "height": 541
        }
      },
      "source": [
        "N_EPOCHS = 15\n",
        "\n",
        "best_valid_loss = float('inf')\n",
        "\n",
        "for p in model.embedding.parameters(): p.require_grad = False   #Freeze\n",
        "\n",
        "for epoch in range(N_EPOCHS):\n",
        "\n",
        "    start_time = time.time()\n",
        "\n",
        "    train_loss, train_acc = train(model, train_iterator, optimizer, criterion, TAG_PAD_IDX)\n",
        "    valid_loss, valid_acc = evaluate(model, valid_iterator, criterion, TAG_PAD_IDX)\n",
        "    \n",
        "    end_time = time.time()\n",
        "\n",
        "    epoch_mins, epoch_secs = epoch_time(start_time, end_time)\n",
        "    \n",
        "    if valid_loss < best_valid_loss:\n",
        "        best_valid_loss = valid_loss\n",
        "        torch.save(model.state_dict(), 'tut1-model.pt')\n",
        "    \n",
        "    print(f'Epoch: {epoch+1:02} | Epoch Time: {epoch_mins}m {epoch_secs}s')\n",
        "    print(f'\\tTrain Loss: {train_loss:.3f} | Train Acc: {train_acc*100:.2f}%')\n",
        "    print(f'\\t Val. Loss: {valid_loss:.3f} |  Val. Acc: {valid_acc*100:.2f}%')"
      ],
      "execution_count": 0,
      "outputs": [
        {
          "output_type": "stream",
          "text": [
            "Epoch: 01 | Epoch Time: 0m 6s\n",
            "\tTrain Loss: 1.326 | Train Acc: 58.60%\n",
            "\t Val. Loss: 0.672 |  Val. Acc: 78.79%\n",
            "Epoch: 02 | Epoch Time: 0m 6s\n",
            "\tTrain Loss: 0.471 | Train Acc: 85.24%\n",
            "\t Val. Loss: 0.499 |  Val. Acc: 83.44%\n",
            "Epoch: 03 | Epoch Time: 0m 6s\n",
            "\tTrain Loss: 0.345 | Train Acc: 89.12%\n",
            "\t Val. Loss: 0.436 |  Val. Acc: 85.45%\n",
            "Epoch: 04 | Epoch Time: 0m 6s\n",
            "\tTrain Loss: 0.283 | Train Acc: 91.01%\n",
            "\t Val. Loss: 0.404 |  Val. Acc: 86.45%\n",
            "Epoch: 05 | Epoch Time: 0m 6s\n",
            "\tTrain Loss: 0.247 | Train Acc: 92.12%\n",
            "\t Val. Loss: 0.392 |  Val. Acc: 86.70%\n",
            "Epoch: 06 | Epoch Time: 0m 6s\n",
            "\tTrain Loss: 0.223 | Train Acc: 92.87%\n",
            "\t Val. Loss: 0.377 |  Val. Acc: 87.07%\n",
            "Epoch: 07 | Epoch Time: 0m 6s\n",
            "\tTrain Loss: 0.204 | Train Acc: 93.47%\n",
            "\t Val. Loss: 0.364 |  Val. Acc: 88.00%\n",
            "Epoch: 08 | Epoch Time: 0m 6s\n",
            "\tTrain Loss: 0.187 | Train Acc: 94.00%\n",
            "\t Val. Loss: 0.359 |  Val. Acc: 88.06%\n",
            "Epoch: 09 | Epoch Time: 0m 6s\n",
            "\tTrain Loss: 0.174 | Train Acc: 94.44%\n",
            "\t Val. Loss: 0.358 |  Val. Acc: 87.61%\n",
            "Epoch: 10 | Epoch Time: 0m 6s\n",
            "\tTrain Loss: 0.163 | Train Acc: 94.74%\n",
            "\t Val. Loss: 0.354 |  Val. Acc: 88.28%\n",
            "Epoch: 11 | Epoch Time: 0m 6s\n",
            "\tTrain Loss: 0.153 | Train Acc: 95.11%\n",
            "\t Val. Loss: 0.351 |  Val. Acc: 87.89%\n",
            "Epoch: 12 | Epoch Time: 0m 6s\n",
            "\tTrain Loss: 0.145 | Train Acc: 95.25%\n",
            "\t Val. Loss: 0.345 |  Val. Acc: 88.09%\n",
            "Epoch: 13 | Epoch Time: 0m 6s\n",
            "\tTrain Loss: 0.138 | Train Acc: 95.48%\n",
            "\t Val. Loss: 0.343 |  Val. Acc: 88.54%\n",
            "Epoch: 14 | Epoch Time: 0m 6s\n",
            "\tTrain Loss: 0.132 | Train Acc: 95.72%\n",
            "\t Val. Loss: 0.337 |  Val. Acc: 89.05%\n",
            "Epoch: 15 | Epoch Time: 0m 6s\n",
            "\tTrain Loss: 0.124 | Train Acc: 95.94%\n",
            "\t Val. Loss: 0.336 |  Val. Acc: 89.56%\n"
          ],
          "name": "stdout"
        }
      ]
    },
    {
      "cell_type": "markdown",
      "metadata": {
        "id": "6vabcbeVW6Gh",
        "colab_type": "text"
      },
      "source": [
        "We then load our \"best\" parameters and evaluate performance on the test set."
      ]
    },
    {
      "cell_type": "code",
      "metadata": {
        "id": "VM8mzJ0YW6Gi",
        "colab_type": "code",
        "outputId": "1411d7ca-a134-4726-9b9f-03d601a752ad",
        "colab": {
          "base_uri": "https://localhost:8080/",
          "height": 29
        }
      },
      "source": [
        "model.load_state_dict(torch.load('tut1-model.pt'))\n",
        "\n",
        "test_loss, test_acc = evaluate(model, test_iterator, criterion, TAG_PAD_IDX)\n",
        "\n",
        "print(f'Test Loss: {test_loss:.3f} |  Test Acc: {test_acc*100:.2f}%')"
      ],
      "execution_count": 0,
      "outputs": [
        {
          "output_type": "stream",
          "text": [
            "Test Loss: 0.349 |  Test Acc: 88.69%\n"
          ],
          "name": "stdout"
        }
      ]
    },
    {
      "cell_type": "markdown",
      "metadata": {
        "id": "Sp4_9ws8W6Go",
        "colab_type": "text"
      },
      "source": [
        "## Inference\n",
        "\n",
        "88% accuracy looks pretty good, but let's see our model tag some actual sentences.\n",
        "\n",
        "We define a `tag_sentence` function that will:\n",
        "- put the model into evaluation mode\n",
        "- tokenize the sentence with spaCy if it is not a list\n",
        "- lowercase the tokens if the `Field` did\n",
        "- numericalize the tokens using the vocabulary\n",
        "- find out which tokens are not in the vocabulary, i.e. are `<unk>` tokens\n",
        "- convert the numericalized tokens into a tensor and add a batch dimension\n",
        "- feed the tensor into the model\n",
        "- get the predictions over the sentence\n",
        "- convert the predictions into readable tags\n",
        "\n",
        "As well as returning the tokens and tags, it also returns which tokens were `<unk>` tokens."
      ]
    },
    {
      "cell_type": "code",
      "metadata": {
        "id": "lGJdLgxTW6Gr",
        "colab_type": "code",
        "colab": {}
      },
      "source": [
        "def tag_sentence(model, device, sentence, text_field, tag_field):\n",
        "    \n",
        "    model.eval()\n",
        "    \n",
        "    if isinstance(sentence, str):\n",
        "        nlp = spacy.load('en')\n",
        "        tokens = [token.text for token in nlp(sentence)]\n",
        "    else:\n",
        "        tokens = [token for token in sentence]\n",
        "\n",
        "    if text_field.lower:\n",
        "        tokens = [t.lower() for t in tokens]\n",
        "        \n",
        "    numericalized_tokens = [text_field.vocab.stoi[t] for t in tokens]\n",
        "\n",
        "    unk_idx = text_field.vocab.stoi[text_field.unk_token]\n",
        "    \n",
        "    unks = [t for t, n in zip(tokens, numericalized_tokens) if n == unk_idx]\n",
        "    \n",
        "    token_tensor = torch.LongTensor(numericalized_tokens)\n",
        "    \n",
        "    token_tensor = token_tensor.unsqueeze(-1).to(device)\n",
        "         \n",
        "    predictions = model(token_tensor)\n",
        "    \n",
        "    top_predictions = predictions.argmax(-1)\n",
        "    \n",
        "    predicted_tags = [tag_field.vocab.itos[t.item()] for t in top_predictions]\n",
        "    \n",
        "    return tokens, predicted_tags, unks"
      ],
      "execution_count": 0,
      "outputs": []
    },
    {
      "cell_type": "markdown",
      "metadata": {
        "id": "-uAZrWo1W6Gw",
        "colab_type": "text"
      },
      "source": [
        "We'll get an already tokenized example from the training set and test our model's performance."
      ]
    },
    {
      "cell_type": "code",
      "metadata": {
        "id": "OzmQp9cRW6G1",
        "colab_type": "code",
        "outputId": "cdc3087f-aee3-4cb1-bec2-2baf8bfd8f3e",
        "colab": {
          "base_uri": "https://localhost:8080/",
          "height": 29
        }
      },
      "source": [
        "example_index = 1\n",
        "\n",
        "sentence = vars(train_data.examples[example_index])['text']\n",
        "actual_tags = vars(train_data.examples[example_index])['udtags']\n",
        "\n",
        "print(sentence)"
      ],
      "execution_count": 0,
      "outputs": [
        {
          "output_type": "stream",
          "text": [
            "['[', 'this', 'killing', 'of', 'a', 'respected', 'cleric', 'will', 'be', 'causing', 'us', 'trouble', 'for', 'years', 'to', 'come', '.', ']']\n"
          ],
          "name": "stdout"
        }
      ]
    },
    {
      "cell_type": "markdown",
      "metadata": {
        "id": "1IInFzEYW6G8",
        "colab_type": "text"
      },
      "source": [
        "We can then use our `tag_sentence` function to get the tags. Notice how the tokens referring to subject of the sentence, the \"respected cleric\", are both `<unk>` tokens!"
      ]
    },
    {
      "cell_type": "code",
      "metadata": {
        "id": "q1_WRTUzW6G-",
        "colab_type": "code",
        "outputId": "8b843d5f-905f-4031-9731-cc39987cc20c",
        "colab": {
          "base_uri": "https://localhost:8080/",
          "height": 29
        }
      },
      "source": [
        "tokens, pred_tags, unks = tag_sentence(model, \n",
        "                                       device, \n",
        "                                       sentence, \n",
        "                                       TEXT, \n",
        "                                       UD_TAGS)\n",
        "\n",
        "print(unks)"
      ],
      "execution_count": 0,
      "outputs": [
        {
          "output_type": "stream",
          "text": [
            "['respected', 'cleric']\n"
          ],
          "name": "stdout"
        }
      ]
    },
    {
      "cell_type": "markdown",
      "metadata": {
        "id": "OndT5M09W6HE",
        "colab_type": "text"
      },
      "source": [
        "We can then check how well it did. Surprisingly, it got every token correct, including the two that were unknown tokens!"
      ]
    },
    {
      "cell_type": "code",
      "metadata": {
        "id": "atBlEBzxW6HG",
        "colab_type": "code",
        "outputId": "e4f300ed-2d27-4d03-b8a5-aa978edbaa8a",
        "colab": {
          "base_uri": "https://localhost:8080/",
          "height": 250
        }
      },
      "source": [
        "print(\"Pred. Tag\\tActual Tag\\tCorrect?\\tToken\\n\")\n",
        "\n",
        "for token, pred_tag, actual_tag in zip(tokens, pred_tags, actual_tags):\n",
        "    correct = '✔' if pred_tag == actual_tag else '✘'\n",
        "    print(f\"{pred_tag}\\t\\t{actual_tag}\\t\\t{correct}\\t\\t{token}\")"
      ],
      "execution_count": 0,
      "outputs": [
        {
          "output_type": "stream",
          "text": [
            "Pred. Tag\tActual Tag\tCorrect?\tToken\n",
            "\n",
            "PUNCT\t\tPUNCT\t\t✔\t\t[\n",
            "DET\t\tDET\t\t✔\t\tthis\n",
            "NOUN\t\tNOUN\t\t✔\t\tkilling\n",
            "ADP\t\tADP\t\t✔\t\tof\n",
            "DET\t\tDET\t\t✔\t\ta\n",
            "ADJ\t\tADJ\t\t✔\t\trespected\n",
            "NOUN\t\tNOUN\t\t✔\t\tcleric\n",
            "AUX\t\tAUX\t\t✔\t\twill\n",
            "AUX\t\tAUX\t\t✔\t\tbe\n",
            "VERB\t\tVERB\t\t✔\t\tcausing\n",
            "PRON\t\tPRON\t\t✔\t\tus\n",
            "NOUN\t\tNOUN\t\t✔\t\ttrouble\n",
            "ADP\t\tADP\t\t✔\t\tfor\n",
            "NOUN\t\tNOUN\t\t✔\t\tyears\n",
            "PART\t\tPART\t\t✔\t\tto\n",
            "VERB\t\tVERB\t\t✔\t\tcome\n",
            "PUNCT\t\tPUNCT\t\t✔\t\t.\n",
            "PUNCT\t\tPUNCT\t\t✔\t\t]\n"
          ],
          "name": "stdout"
        }
      ]
    },
    {
      "cell_type": "markdown",
      "metadata": {
        "id": "1zVBnCbZW6HK",
        "colab_type": "text"
      },
      "source": [
        "Let's now make up our own sentence and see how well the model does.\n",
        "\n",
        "Our example sentence below has every token within the model's vocabulary."
      ]
    },
    {
      "cell_type": "code",
      "metadata": {
        "id": "NaP9N6vfW6HL",
        "colab_type": "code",
        "outputId": "8fc6cdbe-09d5-4029-a7e4-98ebfbdef7cc",
        "colab": {
          "base_uri": "https://localhost:8080/",
          "height": 29
        }
      },
      "source": [
        "sentence = 'The Queen will deliver a speech about the conflict in North Korea at 1pm tomorrow.'\n",
        "\n",
        "tokens, tags, unks = tag_sentence(model, \n",
        "                                  device, \n",
        "                                  sentence, \n",
        "                                  TEXT, \n",
        "                                  UD_TAGS)\n",
        "\n",
        "print(unks)"
      ],
      "execution_count": 0,
      "outputs": [
        {
          "output_type": "stream",
          "text": [
            "[]\n"
          ],
          "name": "stdout"
        }
      ]
    },
    {
      "cell_type": "markdown",
      "metadata": {
        "id": "hAo84oNTW6HR",
        "colab_type": "text"
      },
      "source": [
        "Looking at the sentence it seems like it gave sensible tags to every token!"
      ]
    },
    {
      "cell_type": "code",
      "metadata": {
        "id": "m6icm1hFW6HS",
        "colab_type": "code",
        "outputId": "63ac56b6-e720-46d9-bccf-b40abac9b8a0",
        "colab": {
          "base_uri": "https://localhost:8080/",
          "height": 238
        }
      },
      "source": [
        "print(\"Pred. Tag\\tToken\\n\")\n",
        "\n",
        "for token, tag in zip(tokens, tags):\n",
        "    print(f\"{tag}\\t\\t{token}\")"
      ],
      "execution_count": 0,
      "outputs": [
        {
          "output_type": "stream",
          "text": [
            "Pred. Tag\tToken\n",
            "\n",
            "DET\t\tthe\n",
            "NOUN\t\tqueen\n",
            "AUX\t\twill\n",
            "VERB\t\tdeliver\n",
            "DET\t\ta\n",
            "NOUN\t\tspeech\n",
            "ADP\t\tabout\n",
            "DET\t\tthe\n",
            "NOUN\t\tconflict\n",
            "ADP\t\tin\n",
            "PROPN\t\tnorth\n",
            "PROPN\t\tkorea\n",
            "ADP\t\tat\n",
            "NUM\t\t1\n",
            "NOUN\t\tpm\n",
            "NOUN\t\ttomorrow\n",
            "PUNCT\t\t.\n"
          ],
          "name": "stdout"
        }
      ]
    },
    {
      "cell_type": "markdown",
      "metadata": {
        "id": "gWWFRS2QW6Hf",
        "colab_type": "text"
      },
      "source": [
        "We've now seen how to implement PoS tagging with PyTorch and TorchText! \n",
        "\n",
        "The BiLSTM isn't a state-of-the-art model, in terms of performance, but is a strong baseline for PoS tasks and is a good tool to have in your arsenal."
      ]
    },
    {
      "cell_type": "code",
      "metadata": {
        "id": "mwr7J-q2W6Hg",
        "colab_type": "code",
        "colab": {}
      },
      "source": [
        ""
      ],
      "execution_count": 0,
      "outputs": []
    },
    {
      "cell_type": "code",
      "metadata": {
        "id": "HFeOJWv-W6Hk",
        "colab_type": "code",
        "colab": {}
      },
      "source": [
        ""
      ],
      "execution_count": 0,
      "outputs": []
    },
    {
      "cell_type": "code",
      "metadata": {
        "id": "iaISnApvW6Hp",
        "colab_type": "code",
        "colab": {}
      },
      "source": [
        ""
      ],
      "execution_count": 0,
      "outputs": []
    },
    {
      "cell_type": "markdown",
      "metadata": {
        "id": "aN4J08niW6Hx",
        "colab_type": "text"
      },
      "source": [
        "### Going deeper\n",
        "What if we could combine word-level and char-level approaches? \n",
        "![title](https://i.postimg.cc/tT9hsBfj/ive-put-an-rnn-in-your-rnn-so-you-can-train-an-rnn-on-every-step-of-your-rnn-training-loop.jpg)\n",
        "\n",
        "\n",
        "Actually, we can. Let's use LSTM or GRU to generate embedding for every word on char-level.\n",
        "![title](https://guillaumegenthial.github.io/assets/char_representation.png)\n",
        "*Image source: https://guillaumegenthial.github.io/sequence-tagging-with-tensorflow.html*\n",
        "\n",
        "![title](https://guillaumegenthial.github.io/assets/bi-lstm.png)\n",
        "*Image source: https://guillaumegenthial.github.io/sequence-tagging-with-tensorflow.html*"
      ]
    },
    {
      "cell_type": "markdown",
      "metadata": {
        "id": "0oq7A0aUW6Hy",
        "colab_type": "text"
      },
      "source": [
        "To do that we need to make few adjustments to the code above"
      ]
    },
    {
      "cell_type": "code",
      "metadata": {
        "id": "0PQj336yW6H0",
        "colab_type": "code",
        "outputId": "1ee1ab11-cd96-46b5-b69a-c008566a4d65",
        "colab": {
          "base_uri": "https://localhost:8080/",
          "height": 72
        }
      },
      "source": [
        "# Now lets try both word and character embeddings\n",
        "WORD = data.Field(lower = True)\n",
        "UD_TAG = data.Field(unk_token = None)\n",
        "PTB_TAG = data.Field(unk_token = None)\n",
        "\n",
        "# We'll use NestedField to tokenize each word into list of chars\n",
        "CHAR_NESTING = data.Field(tokenize=list, init_token=\"<bos>\", eos_token=\"<eos>\")\n",
        "CHAR = data.NestedField(CHAR_NESTING)#, init_token=\"<bos>\", eos_token=\"<eos>\")\n",
        "\n",
        "fields = [(('word', 'char'), (WORD, CHAR)), ('udtag', UD_TAG), ('ptbtag', PTB_TAG)]\n",
        "train_data, valid_data, test_data = datasets.UDPOS.splits(fields)\n",
        "# train, val, test = datasets.UDPOS.splits(fields=fields)\n",
        "\n",
        "print(train_data.fields)\n",
        "print(len(train_data))\n",
        "print(vars(train_data[0]))"
      ],
      "execution_count": 0,
      "outputs": [
        {
          "output_type": "stream",
          "text": [
            "{'udtag': <torchtext.data.field.Field object at 0x7f8bcbd78978>, 'ptbtag': <torchtext.data.field.Field object at 0x7f8bcbd78908>, 'word': <torchtext.data.field.Field object at 0x7f8bcbd78a20>, 'char': <torchtext.data.field.NestedField object at 0x7f8bcbd787b8>}\n",
            "12543\n",
            "{'word': ['al', '-', 'zaman', ':', 'american', 'forces', 'killed', 'shaikh', 'abdullah', 'al', '-', 'ani', ',', 'the', 'preacher', 'at', 'the', 'mosque', 'in', 'the', 'town', 'of', 'qaim', ',', 'near', 'the', 'syrian', 'border', '.'], 'char': [['A', 'l'], ['-'], ['Z', 'a', 'm', 'a', 'n'], [':'], ['A', 'm', 'e', 'r', 'i', 'c', 'a', 'n'], ['f', 'o', 'r', 'c', 'e', 's'], ['k', 'i', 'l', 'l', 'e', 'd'], ['S', 'h', 'a', 'i', 'k', 'h'], ['A', 'b', 'd', 'u', 'l', 'l', 'a', 'h'], ['a', 'l'], ['-'], ['A', 'n', 'i'], [','], ['t', 'h', 'e'], ['p', 'r', 'e', 'a', 'c', 'h', 'e', 'r'], ['a', 't'], ['t', 'h', 'e'], ['m', 'o', 's', 'q', 'u', 'e'], ['i', 'n'], ['t', 'h', 'e'], ['t', 'o', 'w', 'n'], ['o', 'f'], ['Q', 'a', 'i', 'm'], [','], ['n', 'e', 'a', 'r'], ['t', 'h', 'e'], ['S', 'y', 'r', 'i', 'a', 'n'], ['b', 'o', 'r', 'd', 'e', 'r'], ['.']], 'udtag': ['PROPN', 'PUNCT', 'PROPN', 'PUNCT', 'ADJ', 'NOUN', 'VERB', 'PROPN', 'PROPN', 'PROPN', 'PUNCT', 'PROPN', 'PUNCT', 'DET', 'NOUN', 'ADP', 'DET', 'NOUN', 'ADP', 'DET', 'NOUN', 'ADP', 'PROPN', 'PUNCT', 'ADP', 'DET', 'ADJ', 'NOUN', 'PUNCT'], 'ptbtag': ['NNP', 'HYPH', 'NNP', ':', 'JJ', 'NNS', 'VBD', 'NNP', 'NNP', 'NNP', 'HYPH', 'NNP', ',', 'DT', 'NN', 'IN', 'DT', 'NN', 'IN', 'DT', 'NN', 'IN', 'NNP', ',', 'IN', 'DT', 'JJ', 'NN', '.']}\n"
          ],
          "name": "stdout"
        }
      ]
    },
    {
      "cell_type": "code",
      "metadata": {
        "id": "ZiaUuKDgW6H9",
        "colab_type": "code",
        "colab": {}
      },
      "source": [
        "WORD.build_vocab(\n",
        "    train_data,\n",
        "    min_freq = MIN_FREQ,\n",
        "    vectors=\"glove.6B.100d\",\n",
        "    unk_init = torch.Tensor.normal_\n",
        ")\n",
        "\n",
        "\n",
        "CHAR.build_vocab(train_data)\n",
        "UD_TAG.build_vocab(train_data)\n",
        "PTB_TAG.build_vocab(train_data)"
      ],
      "execution_count": 0,
      "outputs": []
    },
    {
      "cell_type": "code",
      "metadata": {
        "id": "je5Xpv80W6IH",
        "colab_type": "code",
        "outputId": "65406f43-62b3-4ab0-fc57-793640c241ba",
        "colab": {
          "base_uri": "https://localhost:8080/",
          "height": 64
        }
      },
      "source": [
        "print(f\"Unique tokens in WORD vocabulary: {len(WORD.vocab)}\")\n",
        "print(f\"Unique tokens in CHAR vocabulary: {len(CHAR.vocab)}\")\n",
        "print(f\"Unique tokens in UD_TAG vocabulary: {len(UD_TAG.vocab)}\")\n",
        "print(f\"Unique tokens in PTB_TAG vocabulary: {len(PTB_TAG.vocab)}\")"
      ],
      "execution_count": 0,
      "outputs": [
        {
          "output_type": "stream",
          "text": [
            "Unique tokens in WORD vocabulary: 8866\n",
            "Unique tokens in CHAR vocabulary: 112\n",
            "Unique tokens in UD_TAG vocabulary: 18\n",
            "Unique tokens in PTB_TAG vocabulary: 51\n"
          ],
          "name": "stdout"
        }
      ]
    },
    {
      "cell_type": "code",
      "metadata": {
        "id": "HpzSdjtkW6IL",
        "colab_type": "code",
        "colab": {}
      },
      "source": [
        "BATCH_SIZE = 64\n",
        "\n",
        "device = torch.device('cuda:0' if torch.cuda.is_available() else 'cpu')\n",
        "\n",
        "train_iterator, valid_iterator, test_iterator = data.BucketIterator.splits(\n",
        "    (train_data, valid_data, test_data), \n",
        "    batch_size = BATCH_SIZE,\n",
        "    device = device)"
      ],
      "execution_count": 0,
      "outputs": []
    },
    {
      "cell_type": "code",
      "metadata": {
        "id": "ttfgEMTmW6IQ",
        "colab_type": "code",
        "colab": {}
      },
      "source": [
        "batch = next(iter(train_iterator))"
      ],
      "execution_count": 0,
      "outputs": []
    },
    {
      "cell_type": "code",
      "metadata": {
        "id": "g-MHGJXZW6IW",
        "colab_type": "code",
        "colab": {}
      },
      "source": [
        "text = batch.word\n",
        "chars = batch.char\n",
        "tags = batch.udtag\n"
      ],
      "execution_count": 0,
      "outputs": []
    },
    {
      "cell_type": "code",
      "metadata": {
        "id": "bQScr_OGW6IZ",
        "colab_type": "code",
        "colab": {}
      },
      "source": [
        ""
      ],
      "execution_count": 0,
      "outputs": []
    },
    {
      "cell_type": "code",
      "metadata": {
        "id": "8sgPfP51W6Ie",
        "colab_type": "code",
        "colab": {}
      },
      "source": [
        "class BiLSTMPOSTaggerWithChars(nn.Module):\n",
        "    def __init__(self,\n",
        "                 word_input_dim,\n",
        "                 word_embedding_dim,\n",
        "                 char_input_dim,\n",
        "                 char_embedding_dim,\n",
        "                 char_hidden_dim,\n",
        "                 hidden_dim,\n",
        "                 output_dim,\n",
        "                 n_layers,\n",
        "                 bidirectional,\n",
        "                 dropout,\n",
        "                 pad_idx):\n",
        "       \n",
        "        super().__init__()\n",
        "       \n",
        "        self.char_embedding = nn.Embedding(char_input_dim, char_embedding_dim, padding_idx=pad_idx) # YOUR CODE HERE\n",
        "        self.char_lstm = nn.LSTM(char_embedding_dim, char_hidden_dim)# YOUR CODE HERE\n",
        "       \n",
        "        self.word_embedding = nn.Embedding(word_input_dim, word_embedding_dim, padding_idx = pad_idx)\n",
        "        self.lstm = nn.LSTM(word_embedding_dim + char_hidden_dim, # YOUR CODE HERE,\n",
        "                            hidden_dim,\n",
        "                            num_layers = n_layers,\n",
        "                            bidirectional = bidirectional,\n",
        "                            dropout = dropout if n_layers > 1 else 0)\n",
        "       \n",
        "        self.fc = nn.Linear(hidden_dim * 2 if bidirectional else hidden_dim, output_dim)\n",
        "       \n",
        "        self.dropout = nn.Dropout(dropout)\n",
        "       \n",
        "    def forward(self, text, chars):\n",
        " \n",
        "        #text = [sent len, batch size]\n",
        "       \n",
        "        #pass text through embedding layer\n",
        "        embedded = self.dropout(self.word_embedding(text))\n",
        "        #embedded = [sent len, batch size, emb dim]\n",
        " \n",
        "        chars = chars.permute(2, 0 ,1)\n",
        "        chars = chars.view(chars.shape[0], -1)\n",
        " \n",
        "        chars_embedded = self.char_embedding(chars) # YOUR CODE HERE\n",
        "        _, (hid, _) = self.char_lstm(chars_embedded)\n",
        "        hid = hid.permute(1, 2, 0)\n",
        "        hid = hid.reshape(hid.shape[0], -1)\n",
        "        hid_from_chars = hid.reshape(*text.shape, -1)\n",
        "       \n",
        "        embedded_with_chars = torch.cat([embedded, hid_from_chars], dim=2)\n",
        "       \n",
        "       \n",
        "        #pass embeddings into LSTM\n",
        "        outputs, (hidden, cell) = self.lstm(embedded_with_chars)\n",
        "#         outputs, (hidden, cell) = self.lstm(hid)\n",
        " \n",
        "       \n",
        "        #outputs holds the backward and forward hidden states in the final layer\n",
        "        #hidden and cell are the backward and forward hidden and cell states at the final time-step\n",
        "       \n",
        "        #output = [sent len, batch size, hid dim * n directions]\n",
        "        #hidden/cell = [n layers * n directions, batch size, hid dim]\n",
        "       \n",
        "        #we use our outputs to make a prediction of what the tag should be\n",
        "        predictions = self.fc(self.dropout(outputs))\n",
        "       \n",
        "        #predictions = [sent len, batch size, output dim]\n",
        "       \n",
        "        return predictions"
      ],
      "execution_count": 0,
      "outputs": []
    },
    {
      "cell_type": "code",
      "metadata": {
        "id": "mX-A4vOEW6Ik",
        "colab_type": "code",
        "colab": {}
      },
      "source": [
        "INPUT_DIM = len(WORD.vocab)\n",
        "EMBEDDING_DIM = 100\n",
        "HIDDEN_DIM = 160\n",
        "CHAR_INPUT_DIM = 112\n",
        "CHAR_EMBEDDING_DIM = 30\n",
        "CHAR_HIDDEN_DIM = 30\n",
        "OUTPUT_DIM = len(UD_TAGS.vocab)\n",
        "N_LAYERS = 2\n",
        "BIDIRECTIONAL = True\n",
        "DROPOUT = 0.25\n",
        "PAD_IDX = TEXT.vocab.stoi[TEXT.pad_token]\n",
        "\n",
        "model = BiLSTMPOSTaggerWithChars(\n",
        "    INPUT_DIM, \n",
        "    EMBEDDING_DIM,\n",
        "    CHAR_INPUT_DIM,\n",
        "    CHAR_EMBEDDING_DIM,\n",
        "    CHAR_HIDDEN_DIM,\n",
        "    HIDDEN_DIM, \n",
        "    OUTPUT_DIM, \n",
        "    N_LAYERS, \n",
        "    BIDIRECTIONAL, \n",
        "    DROPOUT, \n",
        "    PAD_IDX\n",
        ")"
      ],
      "execution_count": 0,
      "outputs": []
    },
    {
      "cell_type": "markdown",
      "metadata": {
        "id": "97lBlnyaW6Iq",
        "colab_type": "text"
      },
      "source": [
        "**Congratulations, you've got LSTM which relies on GRU output on each step.**\n",
        "\n",
        "Now we need only to train it. Same actions, very small adjustments."
      ]
    },
    {
      "cell_type": "code",
      "metadata": {
        "id": "AZ-W-hAyW6Ir",
        "colab_type": "code",
        "outputId": "46b25247-9726-40f6-8d9b-0f6663c240e7",
        "colab": {
          "base_uri": "https://localhost:8080/",
          "height": 110
        }
      },
      "source": [
        "def init_weights(m):\n",
        "    for name, param in m.named_parameters():\n",
        "        nn.init.normal_(param.data, mean = 0, std = 0.1)\n",
        "        \n",
        "model.apply(init_weights)"
      ],
      "execution_count": 0,
      "outputs": [
        {
          "output_type": "execute_result",
          "data": {
            "text/plain": [
              "BiLSTMPOSTaggerWithChars(\n",
              "  (char_embedding): Embedding(112, 30, padding_idx=1)\n",
              "  (char_lstm): LSTM(30, 30)\n",
              "  (word_embedding): Embedding(8866, 100, padding_idx=1)\n",
              "  (lstm): LSTM(130, 160, num_layers=2, dropout=0.25, bidirectional=True)\n",
              "  (fc): Linear(in_features=320, out_features=18, bias=True)\n",
              "  (dropout): Dropout(p=0.25, inplace=False)\n",
              ")"
            ]
          },
          "metadata": {
            "tags": []
          },
          "execution_count": 56
        }
      ]
    },
    {
      "cell_type": "code",
      "metadata": {
        "id": "n6WQ1JlYW6Iv",
        "colab_type": "code",
        "outputId": "65468f29-ee66-4f4a-8ab8-2fbdd192e01d",
        "colab": {
          "base_uri": "https://localhost:8080/",
          "height": 29
        }
      },
      "source": [
        "def count_parameters(model):\n",
        "    return sum(p.numel() for p in model.parameters() if p.requires_grad)\n",
        "\n",
        "print(f'The model has {count_parameters(model):,} trainable parameters')"
      ],
      "execution_count": 0,
      "outputs": [
        {
          "output_type": "stream",
          "text": [
            "The model has 1,893,898 trainable parameters\n"
          ],
          "name": "stdout"
        }
      ]
    },
    {
      "cell_type": "code",
      "metadata": {
        "id": "bi4bT8IEW6Iz",
        "colab_type": "code",
        "outputId": "379634fa-9966-4859-e0bb-e6dd2c3fcb9b",
        "colab": {
          "base_uri": "https://localhost:8080/",
          "height": 29
        }
      },
      "source": [
        "pretrained_embeddings = TEXT.vocab.vectors\n",
        "\n",
        "print(pretrained_embeddings.shape)"
      ],
      "execution_count": 0,
      "outputs": [
        {
          "output_type": "stream",
          "text": [
            "torch.Size([8866, 100])\n"
          ],
          "name": "stdout"
        }
      ]
    },
    {
      "cell_type": "code",
      "metadata": {
        "id": "txEmQAFeW6JM",
        "colab_type": "code",
        "outputId": "379dd8f5-38f9-4a79-a73f-2bb1c37bf3c3",
        "colab": {
          "base_uri": "https://localhost:8080/",
          "height": 98
        }
      },
      "source": [
        "model.word_embedding.weight.data.copy_(pretrained_embeddings)\n",
        "model.word_embedding.weight.data[PAD_IDX] = torch.zeros(EMBEDDING_DIM)\n",
        "\n",
        "print(model.word_embedding.weight.data)"
      ],
      "execution_count": 0,
      "outputs": [
        {
          "output_type": "stream",
          "text": [
            "tensor([[-0.1117, -0.4966,  0.1631,  ...,  1.2647, -0.2753, -0.1325],\n",
            "        [ 0.0000,  0.0000,  0.0000,  ...,  0.0000,  0.0000,  0.0000],\n",
            "        [-0.0382, -0.2449,  0.7281,  ..., -0.1459,  0.8278,  0.2706],\n",
            "        ...,\n",
            "        [ 0.9261,  2.3049,  0.5502,  ..., -0.3492, -0.5298, -0.1577],\n",
            "        [-0.5972,  0.0471, -0.2406,  ..., -0.9446, -0.1126, -0.2260],\n",
            "        [-0.4809,  2.5629,  0.9530,  ...,  0.5278, -0.4588,  0.7294]])\n"
          ],
          "name": "stdout"
        }
      ]
    },
    {
      "cell_type": "code",
      "metadata": {
        "id": "lxVNu63UW6JS",
        "colab_type": "code",
        "colab": {}
      },
      "source": [
        "optimizer = optim.Adam(model.parameters())\n",
        "\n",
        "TAG_PAD_IDX = UD_TAGS.vocab.stoi[UD_TAGS.pad_token]\n",
        "\n",
        "criterion = nn.CrossEntropyLoss(ignore_index = TAG_PAD_IDX)\n",
        "\n",
        "model = model.to(device)\n",
        "criterion = criterion.to(device)"
      ],
      "execution_count": 0,
      "outputs": []
    },
    {
      "cell_type": "code",
      "metadata": {
        "id": "V3bXm_zFW6JY",
        "colab_type": "code",
        "colab": {}
      },
      "source": [
        "def train(model, iterator, optimizer, criterion, tag_pad_idx):\n",
        "    \n",
        "    epoch_loss = 0\n",
        "    epoch_acc = 0\n",
        "    \n",
        "    model.train()\n",
        "    \n",
        "    for batch in iterator:\n",
        "        \n",
        "        text = batch.word\n",
        "        chars = batch.char\n",
        "        tags = batch.udtag\n",
        "        \n",
        "        optimizer.zero_grad()\n",
        "        \n",
        "        #text = [sent len, batch size]\n",
        "        \n",
        "        predictions = model(text, chars)\n",
        "        \n",
        "        #predictions = [sent len, batch size, output dim]\n",
        "        #tags = [sent len, batch size]\n",
        "        \n",
        "        predictions = predictions.view(-1, predictions.shape[-1])\n",
        "        tags = tags.view(-1)\n",
        "        \n",
        "        #predictions = [sent len * batch size, output dim]\n",
        "        #tags = [sent len * batch size]\n",
        "        \n",
        "        loss = criterion(predictions, tags)\n",
        "                \n",
        "        acc = categorical_accuracy(predictions, tags, tag_pad_idx)\n",
        "        \n",
        "        loss.backward()\n",
        "        \n",
        "        optimizer.step()\n",
        "        \n",
        "        epoch_loss += loss.item()\n",
        "        epoch_acc += acc.item()\n",
        "        \n",
        "    return epoch_loss / len(iterator), epoch_acc / len(iterator)\n",
        "\n",
        "\n",
        "def evaluate(model, iterator, criterion, tag_pad_idx):\n",
        "    \n",
        "    epoch_loss = 0\n",
        "    epoch_acc = 0\n",
        "    \n",
        "    model.eval()\n",
        "    \n",
        "    with torch.no_grad():\n",
        "    \n",
        "        for batch in iterator:\n",
        "\n",
        "            text = batch.word\n",
        "            chars = batch.char\n",
        "            tags = batch.udtag\n",
        "            \n",
        "            predictions = model(text, chars)\n",
        "            \n",
        "            predictions = predictions.view(-1, predictions.shape[-1])\n",
        "            tags = tags.view(-1)\n",
        "            \n",
        "            loss = criterion(predictions, tags)\n",
        "            \n",
        "            acc = categorical_accuracy(predictions, tags, tag_pad_idx)\n",
        "\n",
        "            epoch_loss += loss.item()\n",
        "            epoch_acc += acc.item()\n",
        "        \n",
        "    return epoch_loss / len(iterator), epoch_acc / len(iterator)\n"
      ],
      "execution_count": 0,
      "outputs": []
    },
    {
      "cell_type": "code",
      "metadata": {
        "id": "LG5KioW5W6Jl",
        "colab_type": "code",
        "outputId": "ef75f4cf-75e5-4c00-ede8-f94d4e55acfe",
        "colab": {
          "base_uri": "https://localhost:8080/",
          "height": 541
        }
      },
      "source": [
        "N_EPOCHS = 15\n",
        "\n",
        "best_valid_loss = float('inf')\n",
        "\n",
        "for epoch in range(N_EPOCHS):\n",
        "\n",
        "    start_time = time.time()\n",
        "    \n",
        "    train_loss, train_acc = train(model, train_iterator, optimizer, criterion, TAG_PAD_IDX)\n",
        "    valid_loss, valid_acc = evaluate(model, valid_iterator, criterion, TAG_PAD_IDX)\n",
        "    \n",
        "    end_time = time.time()\n",
        "\n",
        "    epoch_mins, epoch_secs = epoch_time(start_time, end_time)\n",
        "    \n",
        "    if valid_loss < best_valid_loss:\n",
        "        best_valid_loss = valid_loss\n",
        "        torch.save(model.state_dict(), 'tut2-model.pt')\n",
        "    \n",
        "    print(f'Epoch: {epoch+1:02} | Epoch Time: {epoch_mins}m {epoch_secs}s')\n",
        "    print(f'\\tTrain Loss: {train_loss:.3f} | Train Acc: {train_acc*100:.2f}%')\n",
        "    print(f'\\t Val. Loss: {valid_loss:.3f} |  Val. Acc: {valid_acc*100:.2f}%')"
      ],
      "execution_count": 0,
      "outputs": [
        {
          "output_type": "stream",
          "text": [
            "Epoch: 01 | Epoch Time: 0m 23s\n",
            "\tTrain Loss: 0.927 | Train Acc: 70.93%\n",
            "\t Val. Loss: 0.544 |  Val. Acc: 82.64%\n",
            "Epoch: 02 | Epoch Time: 0m 23s\n",
            "\tTrain Loss: 0.361 | Train Acc: 88.57%\n",
            "\t Val. Loss: 0.445 |  Val. Acc: 85.10%\n",
            "Epoch: 03 | Epoch Time: 0m 23s\n",
            "\tTrain Loss: 0.274 | Train Acc: 91.24%\n",
            "\t Val. Loss: 0.403 |  Val. Acc: 85.92%\n",
            "Epoch: 04 | Epoch Time: 0m 23s\n",
            "\tTrain Loss: 0.230 | Train Acc: 92.62%\n",
            "\t Val. Loss: 0.380 |  Val. Acc: 87.16%\n",
            "Epoch: 05 | Epoch Time: 0m 23s\n",
            "\tTrain Loss: 0.198 | Train Acc: 93.60%\n",
            "\t Val. Loss: 0.364 |  Val. Acc: 87.50%\n",
            "Epoch: 06 | Epoch Time: 0m 23s\n",
            "\tTrain Loss: 0.177 | Train Acc: 94.32%\n",
            "\t Val. Loss: 0.364 |  Val. Acc: 87.34%\n",
            "Epoch: 07 | Epoch Time: 0m 23s\n",
            "\tTrain Loss: 0.162 | Train Acc: 94.74%\n",
            "\t Val. Loss: 0.360 |  Val. Acc: 87.56%\n",
            "Epoch: 08 | Epoch Time: 0m 23s\n",
            "\tTrain Loss: 0.147 | Train Acc: 95.17%\n",
            "\t Val. Loss: 0.354 |  Val. Acc: 87.59%\n",
            "Epoch: 09 | Epoch Time: 0m 23s\n",
            "\tTrain Loss: 0.136 | Train Acc: 95.51%\n",
            "\t Val. Loss: 0.353 |  Val. Acc: 87.77%\n",
            "Epoch: 10 | Epoch Time: 0m 23s\n",
            "\tTrain Loss: 0.125 | Train Acc: 95.90%\n",
            "\t Val. Loss: 0.347 |  Val. Acc: 88.28%\n",
            "Epoch: 11 | Epoch Time: 0m 23s\n",
            "\tTrain Loss: 0.117 | Train Acc: 96.13%\n",
            "\t Val. Loss: 0.349 |  Val. Acc: 88.32%\n",
            "Epoch: 12 | Epoch Time: 0m 23s\n",
            "\tTrain Loss: 0.108 | Train Acc: 96.41%\n",
            "\t Val. Loss: 0.348 |  Val. Acc: 88.84%\n",
            "Epoch: 13 | Epoch Time: 0m 23s\n",
            "\tTrain Loss: 0.101 | Train Acc: 96.56%\n",
            "\t Val. Loss: 0.351 |  Val. Acc: 88.58%\n",
            "Epoch: 14 | Epoch Time: 0m 23s\n",
            "\tTrain Loss: 0.094 | Train Acc: 96.81%\n",
            "\t Val. Loss: 0.354 |  Val. Acc: 88.74%\n",
            "Epoch: 15 | Epoch Time: 0m 23s\n",
            "\tTrain Loss: 0.088 | Train Acc: 97.05%\n",
            "\t Val. Loss: 0.354 |  Val. Acc: 88.63%\n"
          ],
          "name": "stdout"
        }
      ]
    },
    {
      "cell_type": "code",
      "metadata": {
        "id": "p6b3QqiBW6Jp",
        "colab_type": "code",
        "outputId": "6da3d474-f2fc-45f7-daff-57f13fc7eda8",
        "colab": {
          "base_uri": "https://localhost:8080/",
          "height": 29
        }
      },
      "source": [
        "# Let's take a look at the model from the last epoch\n",
        "test_loss, test_acc = evaluate(model, test_iterator, criterion, TAG_PAD_IDX)\n",
        "\n",
        "print(f'Test Loss: {test_loss:.3f} |  Test Acc: {test_acc*100:.2f}%')"
      ],
      "execution_count": 0,
      "outputs": [
        {
          "output_type": "stream",
          "text": [
            "Test Loss: 0.352 |  Test Acc: 89.00%\n"
          ],
          "name": "stdout"
        }
      ]
    },
    {
      "cell_type": "code",
      "metadata": {
        "id": "0Xeg89c6W6Jt",
        "colab_type": "code",
        "outputId": "6b331bfd-2f24-4e2a-f3eb-728923b41218",
        "colab": {
          "base_uri": "https://localhost:8080/",
          "height": 29
        }
      },
      "source": [
        "# And at the best checkpoint (based on validation score)\n",
        "model.load_state_dict(torch.load('tut2-model.pt'))\n",
        "\n",
        "test_loss, test_acc = evaluate(model, test_iterator, criterion, TAG_PAD_IDX)\n",
        "\n",
        "print(f'Test Loss: {test_loss:.3f} |  Test Acc: {test_acc*100:.2f}%')"
      ],
      "execution_count": 0,
      "outputs": [
        {
          "output_type": "stream",
          "text": [
            "Test Loss: 0.347 |  Test Acc: 88.81%\n"
          ],
          "name": "stdout"
        }
      ]
    },
    {
      "cell_type": "code",
      "metadata": {
        "id": "bInmk2uoYsvm",
        "colab_type": "code",
        "colab": {}
      },
      "source": [
        ""
      ],
      "execution_count": 0,
      "outputs": []
    }
  ]
}